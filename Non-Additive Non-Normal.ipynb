{
 "cells": [
  {
   "cell_type": "code",
   "execution_count": 1,
   "metadata": {},
   "outputs": [],
   "source": [
    "import numpy as np\n",
    "import random\n",
    "import scipy as sp\n",
    "import pandas as pd\n",
    "import seaborn as sns\n",
    "import sklearn.linear_model\n",
    "import matplotlib.pyplot as plt\n",
    "from statsmodels.api import OLS\n",
    "import statsmodels.api as sm\n",
    "from sklearn.linear_model import LinearRegression\n",
    "from scipy import stats\n",
    "from scipy.stats import gaussian_kde as GKDE\n",
    "from scipy.stats import uniform, norm, beta,skewnorm,gamma\n",
    "from mpl_toolkits import mplot3d\n",
    "import scipy.io as sio\n",
    "from statsmodels.distributions.empirical_distribution import ECDF\n",
    "from joblib import dump, load\n",
    "from astropy.table import Table, Column\n",
    "import scikit_posthocs as sp"
   ]
  },
  {
   "cell_type": "code",
   "execution_count": 197,
   "metadata": {},
   "outputs": [],
   "source": [
    "nSamp = 10000\n",
    "#nItr=200\n",
    "nItr=10000\n",
    "seedinit1 = 1\n",
    "as1=np.zeros(nSamp)\n",
    "as2=np.zeros(nSamp)\n",
    "np.random.seed(seedinit1)\n",
    "SV=np.random.uniform(0.15,0.5,1)   \n",
    "unifs1=np.random.uniform(0,1,nSamp)\n",
    "for i in range(nSamp):\n",
    "    if unifs1[i] <= SV:\n",
    "        as1[i]=1\n",
    "\n",
    "seedinit2 = seedinit1+1\n",
    "np.random.seed(seedinit2)            \n",
    "unifs2=np.random.uniform(0,1,nSamp)\n",
    "for j in range(nSamp):\n",
    "    if unifs2[j] <= SV:\n",
    "        as2[j]=1\n",
    "    \n",
    "Xs=as1+as2"
   ]
  },
  {
   "cell_type": "code",
   "execution_count": 198,
   "metadata": {},
   "outputs": [
    {
     "name": "stdout",
     "output_type": "stream",
     "text": [
      "0.014593989375535759\n",
      "\n",
      "0.8854060106244642\n"
     ]
    }
   ],
   "source": [
    "Xs_bar=np.mean(Xs)\n",
    "Sxx = np.sum(Xs*Xs)-nSamp*Xs_bar*Xs_bar\n",
    "\n",
    "sigma=.9\n",
    "\n",
    "SEb= np.sqrt(sigma/Sxx)\n",
    "print(SEb)\n",
    "\n",
    "print()\n",
    "SEe=.9-SEb\n",
    "print(SEe)"
   ]
  },
  {
   "cell_type": "code",
   "execution_count": 199,
   "metadata": {},
   "outputs": [
    {
     "name": "stdout",
     "output_type": "stream",
     "text": [
      "4826\n",
      "4251\n",
      "923\n"
     ]
    }
   ],
   "source": [
    "N0=0\n",
    "N1=0\n",
    "N2=0\n",
    "for i in range(nSamp):\n",
    "    if Xs[i]==0 :\n",
    "        N0=N0+1\n",
    "    elif Xs[i]==1:\n",
    "        N1=N1+1\n",
    "    else:\n",
    "        N2=N2+1\n",
    "\n",
    "print(N0)\n",
    "print(N1)\n",
    "print(N2)"
   ]
  },
  {
   "cell_type": "code",
   "execution_count": 200,
   "metadata": {},
   "outputs": [],
   "source": [
    "seedinit3 = seedinit2+1\n",
    "np.random.seed(seedinit3)\n",
    "\n",
    "\n",
    "\n",
    "B0= skewnorm.rvs(1.5,loc=-.6538 , scale=1, size=N0)\n",
    "B1= skewnorm.rvs(-2.5,loc=.907, scale=1.1, size=N1)\n",
    "B2= skewnorm.rvs(-2,loc=.881 , scale=1, size=N2)\n",
    "\n",
    "\n",
    "e0=np.random.normal(0,SEb,size=N0)\n",
    "e1=np.random.normal(0,SEb,size=N1)\n",
    "e2=np.random.normal(0,SEb,size=N2)\n",
    "\n",
    "\n",
    "#B=np.repeat(B,nSamp)\n",
    "#Xs=np.tile(Xs,nItr)\n",
    "#e=np.tile(e,nItr)\n",
    "\n",
    "y_obs0=B0+e0\n",
    "y_obs1=B1+e1\n",
    "y_obs2=B2+e2\n",
    "\n",
    "#y_obs = np.random.uniform(low=-5, high=5, size=nSamp)\n",
    "#y_obs = skewnorm.rvs(1,loc=-.45, scale=1.7,size=nSamp)\n",
    "\n",
    "#kde_y_obs= GKDE(y_obs)\n",
    "\n",
    "\n",
    "index0=np.where(Xs == 0)\n",
    "index1=np.where(Xs == 1)\n",
    "index2=np.where(Xs == 2)\n",
    "\n",
    "Xs0=Xs[index0]\n",
    "Xs1=Xs[index1]\n",
    "Xs2=Xs[index2]\n",
    "\n",
    "#y_obs0=y_obs[index0]\n",
    "#y_obs1=y_obs[index1]\n",
    "#y_obs2=y_obs[index2]\n",
    "\n",
    "kde_y_obs0= GKDE(y_obs0)\n",
    "kde_y_obs1= GKDE(y_obs1)\n",
    "kde_y_obs2= GKDE(y_obs2)"
   ]
  },
  {
   "cell_type": "code",
   "execution_count": 201,
   "metadata": {},
   "outputs": [
    {
     "data": {
      "text/plain": [
       "<matplotlib.legend.Legend at 0x121e5ef40>"
      ]
     },
     "execution_count": 201,
     "metadata": {},
     "output_type": "execute_result"
    },
    {
     "data": {
      "image/png": "[encoded data removed]",
      "text/plain": [
       "<Figure size 432x288 with 1 Axes>"
      ]
     },
     "metadata": {
      "needs_background": "light"
     },
     "output_type": "display_data"
    }
   ],
   "source": [
    "ax=sns.kdeplot(B0,color='b',label='B0',linewidth=2)\n",
    "ax=sns.kdeplot(B1,color='r',label='B1',linewidth=2)\n",
    "ax=sns.kdeplot(B2,color='g',label='B2',linewidth=2)\n",
    "ax.legend()"
   ]
  },
  {
   "cell_type": "code",
   "execution_count": 202,
   "metadata": {},
   "outputs": [
    {
     "name": "stdout",
     "output_type": "stream",
     "text": [
      "0.747124323077865\n",
      "0.7373120611726668\n",
      "0.6887650268922246\n"
     ]
    }
   ],
   "source": [
    "y_obs0_bar=np.mean(y_obs0)\n",
    "\n",
    "Sy0 = np.sum(y_obs0*y_obs0)-N0*y_obs0_bar*y_obs0_bar\n",
    "\n",
    "SEy0= np.sqrt(Sy0/(N0-1))\n",
    "\n",
    "\n",
    "y_obs1_bar=np.mean(y_obs1)\n",
    "\n",
    "Sy1 = np.sum(y_obs1*y_obs1)-N1*y_obs1_bar*y_obs1_bar\n",
    "\n",
    "SEy1= np.sqrt(Sy1/(N1-1))\n",
    "\n",
    "\n",
    "y_obs2_bar=np.mean(y_obs2)\n",
    "\n",
    "Sy2 = np.sum(y_obs2*y_obs2)-N2*y_obs2_bar*y_obs2_bar\n",
    "\n",
    "SEy2= np.sqrt(Sy2/(N2-1))\n",
    "\n",
    "y=np.concatenate((y_obs0, y_obs1,y_obs2), axis=None) \n",
    "\n",
    "Xs=np.concatenate((Xs0,Xs1,Xs2), axis=None) \n",
    "print(SEy0)\n",
    "print(SEy1)\n",
    "print(SEy2)"
   ]
  },
  {
   "cell_type": "code",
   "execution_count": 203,
   "metadata": {},
   "outputs": [
    {
     "name": "stdout",
     "output_type": "stream",
     "text": [
      "-0.0008694664802490682\n",
      "0.10078258883623681\n",
      "0.1500789963582739\n"
     ]
    }
   ],
   "source": [
    "print(B0.mean())\n",
    "print(B1.mean())\n",
    "print(B2.mean())"
   ]
  },
  {
   "cell_type": "code",
   "execution_count": 204,
   "metadata": {},
   "outputs": [
    {
     "name": "stdout",
     "output_type": "stream",
     "text": [
      "-0.05419834980362731\n",
      "0.1809730946686161\n",
      "0.1884167218037669\n"
     ]
    }
   ],
   "source": [
    "print(np.median(B0))\n",
    "print(np.median(B1))\n",
    "print(np.median(B2))"
   ]
  },
  {
   "cell_type": "code",
   "execution_count": 205,
   "metadata": {},
   "outputs": [
    {
     "name": "stdout",
     "output_type": "stream",
     "text": [
      "-0.0009166226877746505\n",
      "0.10073522510784053\n",
      "0.15001340238809133\n"
     ]
    }
   ],
   "source": [
    "print(y_obs0_bar)\n",
    "print(y_obs1_bar)\n",
    "print(y_obs2_bar)"
   ]
  },
  {
   "cell_type": "code",
   "execution_count": 206,
   "metadata": {},
   "outputs": [
    {
     "name": "stdout",
     "output_type": "stream",
     "text": [
      "3.703798881138593\n",
      "-3.792595220353178\n",
      "0.7398247147733871\n",
      "0.0562264191246438\n"
     ]
    }
   ],
   "source": [
    "print(np.max(y))\n",
    "print(np.min(y))\n",
    "print(np.std(y))\n",
    "print(np.mean(y))"
   ]
  },
  {
   "cell_type": "code",
   "execution_count": 207,
   "metadata": {},
   "outputs": [
    {
     "data": {
      "text/plain": [
       "[<matplotlib.lines.Line2D at 0x122348df0>]"
      ]
     },
     "execution_count": 207,
     "metadata": {},
     "output_type": "execute_result"
    },
    {
     "data": {
      "image/png": "[encoded data removed]",
      "text/plain": [
       "<Figure size 432x288 with 1 Axes>"
      ]
     },
     "metadata": {
      "needs_background": "light"
     },
     "output_type": "display_data"
    }
   ],
   "source": [
    "plt.plot(Xs, y,'.')"
   ]
  },
  {
   "cell_type": "code",
   "execution_count": 208,
   "metadata": {},
   "outputs": [
    {
     "name": "stdout",
     "output_type": "stream",
     "text": [
      "Parametrs =  0.003946456705260615 [0.08574703]\n"
     ]
    },
    {
     "data": {
      "image/png": "[encoded data removed]",
      "text/plain": [
       "<Figure size 432x288 with 1 Axes>"
      ]
     },
     "metadata": {
      "needs_background": "light"
     },
     "output_type": "display_data"
    }
   ],
   "source": [
    "#X=np.concatenate((Xs0, Xs1,Xs2), axis=None) \n",
    "\n",
    "lin_reg= sklearn.linear_model.LinearRegression()\n",
    "lin_reg.fit(np.c_[Xs],y)\n",
    "print('Parametrs = ', lin_reg.intercept_ ,  lin_reg.coef_)\n",
    "\n",
    "plt.plot(Xs, y,'.');\n",
    "plt.plot(np.array([0, 2]), lin_reg.predict(np.c_[np.array([0,2])]), color='r');"
   ]
  },
  {
   "cell_type": "code",
   "execution_count": 209,
   "metadata": {},
   "outputs": [
    {
     "name": "stdout",
     "output_type": "stream",
     "text": [
      "                            OLS Regression Results                            \n",
      "==============================================================================\n",
      "Dep. Variable:                      y   R-squared:                       0.006\n",
      "Model:                            OLS   Adj. R-squared:                  0.006\n",
      "Method:                 Least Squares   F-statistic:                     57.08\n",
      "Date:                Tue, 06 Dec 2022   Prob (F-statistic):           4.56e-14\n",
      "Time:                        12:38:34   Log-Likelihood:                -11148.\n",
      "No. Observations:               10000   AIC:                         2.230e+04\n",
      "Df Residuals:                    9998   BIC:                         2.231e+04\n",
      "Df Model:                           1                                         \n",
      "Covariance Type:            nonrobust                                         \n",
      "==============================================================================\n",
      "                 coef    std err          t      P>|t|      [0.025      0.975]\n",
      "------------------------------------------------------------------------------\n",
      "const          0.0039      0.010      0.390      0.696      -0.016       0.024\n",
      "x1             0.0857      0.011      7.555      0.000       0.063       0.108\n",
      "==============================================================================\n",
      "Omnibus:                       67.031   Durbin-Watson:                   1.977\n",
      "Prob(Omnibus):                  0.000   Jarque-Bera (JB):               87.688\n",
      "Skew:                          -0.103   Prob(JB):                     9.09e-20\n",
      "Kurtosis:                       3.410   Cond. No.                         2.33\n",
      "==============================================================================\n",
      "\n",
      "Notes:\n",
      "[1] Standard Errors assume that the covariance matrix of the errors is correctly specified.\n"
     ]
    }
   ],
   "source": [
    "X = sm.add_constant(Xs)\n",
    "est = sm.OLS(y, X)\n",
    "est2 = est.fit()\n",
    "print(est2.summary())"
   ]
  },
  {
   "cell_type": "code",
   "execution_count": 210,
   "metadata": {},
   "outputs": [
    {
     "data": {
      "text/plain": [
       "4.5581547466248456e-14"
      ]
     },
     "execution_count": 210,
     "metadata": {},
     "output_type": "execute_result"
    }
   ],
   "source": [
    "est2.pvalues[1]"
   ]
  },
  {
   "cell_type": "code",
   "execution_count": 211,
   "metadata": {},
   "outputs": [
    {
     "data": {
      "text/plain": [
       "<matplotlib.legend.Legend at 0x1228c9df0>"
      ]
     },
     "execution_count": 211,
     "metadata": {},
     "output_type": "execute_result"
    },
    {
     "data": {
      "image/png": "[encoded data removed]",
      "text/plain": [
       "<Figure size 432x288 with 1 Axes>"
      ]
     },
     "metadata": {
      "needs_background": "light"
     },
     "output_type": "display_data"
    }
   ],
   "source": [
    "ax=sns.kdeplot(y_obs0,color='b',label='Y0',linewidth=2)\n",
    "ax=sns.kdeplot(y_obs1,color='r',label='Y1',linewidth=2)\n",
    "ax=sns.kdeplot(y_obs2,color='g',label='Y2',linewidth=2)\n",
    "ax.legend()"
   ]
  },
  {
   "cell_type": "code",
   "execution_count": 212,
   "metadata": {},
   "outputs": [],
   "source": [
    "seedinit4 = seedinit3+1\n",
    "np.random.seed(seedinit4)\n",
    "#alpha=np.random.uniform(0,0.05,1) \n",
    "Beta0=norm.rvs(loc=y_obs0_bar, scale=SEy0,size=N0)\n",
    "Beta1=norm.rvs(loc=y_obs1_bar, scale=SEy1,size=N1)\n",
    "Beta2=norm.rvs(loc=y_obs2_bar, scale=SEy2,size=N2)"
   ]
  },
  {
   "cell_type": "code",
   "execution_count": 213,
   "metadata": {},
   "outputs": [],
   "source": [
    "seedinit5 = seedinit4+1\n",
    "np.random.seed(seedinit5)\n",
    "eps0=np.random.normal(0,0.35,size=N0)\n",
    "eps1=np.random.normal(0,.35,size=N1)\n",
    "eps2=np.random.normal(0,.35,size=N2)"
   ]
  },
  {
   "cell_type": "code",
   "execution_count": 214,
   "metadata": {},
   "outputs": [],
   "source": [
    "y_initi0=Beta0+eps0\n",
    "y_initi1=Beta1+eps1\n",
    "y_initi2=Beta2+eps2\n",
    "\n",
    "\n",
    "kde_y_initi0 = GKDE(y_initi0)\n",
    "kde_y_initi1 = GKDE(y_initi1)\n",
    "kde_y_initi2 = GKDE(y_initi2)"
   ]
  },
  {
   "cell_type": "code",
   "execution_count": 215,
   "metadata": {},
   "outputs": [],
   "source": [
    "## rejection sampling for update ##\n",
    "def rejection_sampling(r): # creating indexes for samples to keep from initial samples using rejection sampling \n",
    "    N = r.size \n",
    "    #seedinit6 = seedinit5+1\n",
    "    #np.random.seed(seedinit6)\n",
    "    reject_prob = np.random.uniform(low=0, high=1, size=N) \n",
    "    r = r/np.max(r)\n",
    "    idx = np.where(r >= reject_prob)[0]\n",
    "    return idx"
   ]
  },
  {
   "cell_type": "code",
   "execution_count": 216,
   "metadata": {},
   "outputs": [],
   "source": [
    "r0=np.divide(kde_y_obs0(y_initi0),kde_y_initi0(y_initi0))\n",
    "r1=np.divide(kde_y_obs1(y_initi1),kde_y_initi1(y_initi1))\n",
    "r2=np.divide(kde_y_obs2(y_initi2),kde_y_initi2(y_initi2))"
   ]
  },
  {
   "cell_type": "code",
   "execution_count": 217,
   "metadata": {},
   "outputs": [
    {
     "name": "stdout",
     "output_type": "stream",
     "text": [
      "0.44405304600082884\n",
      "\n",
      "0.6843095742178311\n",
      "\n",
      "0.8461538461538461\n",
      "\n",
      "1.0020879011842903\n",
      "\n",
      "1.0026021521332684\n",
      "\n",
      "1.0026562473778113\n"
     ]
    }
   ],
   "source": [
    "samples_to_keep0 = rejection_sampling(r0) # performing rejection sampling\n",
    "samples_to_keep1 = rejection_sampling(r1)\n",
    "samples_to_keep2 = rejection_sampling(r2)\n",
    "\n",
    "\n",
    "accept_rate0 = samples_to_keep0.size/Beta0.shape[0]# computing acceptance rate from performing rejection sampling\n",
    "accept_rate1 = samples_to_keep1.size/Beta1.shape[0]\n",
    "accept_rate2 = samples_to_keep2.size/Beta2.shape[0]\n",
    "\n",
    "\n",
    "print(accept_rate0) # printing acceptance rate \n",
    "print()\n",
    "print(accept_rate1)\n",
    "print()\n",
    "print(accept_rate2)\n",
    "print()\n",
    "\n",
    "print(np.mean(r0))\n",
    "print()\n",
    "print(np.mean(r1))\n",
    "print()\n",
    "print(np.mean(r2))"
   ]
  },
  {
   "cell_type": "code",
   "execution_count": 218,
   "metadata": {},
   "outputs": [],
   "source": [
    "updated_Beta0 =Beta0[samples_to_keep0] # samples from updated parameter density\n",
    "updated_Beta1 =Beta1[samples_to_keep1]\n",
    "updated_Beta2 =Beta2[samples_to_keep2]\n",
    "\n",
    "updated_y0 =y_initi0[samples_to_keep0] # samples from updated QoI density\n",
    "updated_y1 =y_initi1[samples_to_keep1] \n",
    "updated_y2 =y_initi2[samples_to_keep2] \n",
    "\n",
    "\n",
    "kde_updated_y0 = GKDE(y_initi0, weights=r0)\n",
    "kde_updated_y1 = GKDE(y_initi1, weights=r1)\n",
    "kde_updated_y2 = GKDE(y_initi2, weights=r2) # updated QoI density\n",
    "\n",
    "\n",
    "kde_updated_Beta0 = GKDE(Beta0, weights=r0)\n",
    "kde_updated_Beta1 = GKDE(Beta1, weights=r1)\n",
    "kde_updated_Beta2 = GKDE(Beta2, weights=r2)"
   ]
  },
  {
   "cell_type": "code",
   "execution_count": 219,
   "metadata": {},
   "outputs": [],
   "source": [
    "updated_eps0 =eps0[samples_to_keep0]\n",
    "updated_eps1 =eps1[samples_to_keep1] \n",
    "updated_eps2 =eps2[samples_to_keep2]\n",
    "\n",
    "kde_updated_eps0 = GKDE(eps0, weights=r0)\n",
    "kde_updated_eps1 = GKDE(eps1, weights=r1)\n",
    "kde_updated_eps2 = GKDE(eps2, weights=r2)"
   ]
  },
  {
   "cell_type": "code",
   "execution_count": 220,
   "metadata": {},
   "outputs": [
    {
     "data": {
      "text/plain": [
       "KruskalResult(statistic=66.87889350867044, pvalue=3.002152827797302e-15)"
      ]
     },
     "execution_count": 220,
     "metadata": {},
     "output_type": "execute_result"
    }
   ],
   "source": [
    "stats.kruskal(updated_Beta0, updated_Beta1, updated_Beta2)"
   ]
  },
  {
   "cell_type": "code",
   "execution_count": 169,
   "metadata": {},
   "outputs": [
    {
     "data": {
      "text/html": [
       "<div>\n",
       "<style scoped>\n",
       "    .dataframe tbody tr th:only-of-type {\n",
       "        vertical-align: middle;\n",
       "    }\n",
       "\n",
       "    .dataframe tbody tr th {\n",
       "        vertical-align: top;\n",
       "    }\n",
       "\n",
       "    .dataframe thead th {\n",
       "        text-align: right;\n",
       "    }\n",
       "</style>\n",
       "<table border=\"1\" class=\"dataframe\">\n",
       "  <thead>\n",
       "    <tr style=\"text-align: right;\">\n",
       "      <th></th>\n",
       "      <th>1</th>\n",
       "      <th>2</th>\n",
       "      <th>3</th>\n",
       "    </tr>\n",
       "  </thead>\n",
       "  <tbody>\n",
       "    <tr>\n",
       "      <th>1</th>\n",
       "      <td>1.000000e+00</td>\n",
       "      <td>1.693839e-12</td>\n",
       "      <td>2.149037e-09</td>\n",
       "    </tr>\n",
       "    <tr>\n",
       "      <th>2</th>\n",
       "      <td>1.693839e-12</td>\n",
       "      <td>1.000000e+00</td>\n",
       "      <td>1.588725e-01</td>\n",
       "    </tr>\n",
       "    <tr>\n",
       "      <th>3</th>\n",
       "      <td>2.149037e-09</td>\n",
       "      <td>1.588725e-01</td>\n",
       "      <td>1.000000e+00</td>\n",
       "    </tr>\n",
       "  </tbody>\n",
       "</table>\n",
       "</div>"
      ],
      "text/plain": [
       "              1             2             3\n",
       "1  1.000000e+00  1.693839e-12  2.149037e-09\n",
       "2  1.693839e-12  1.000000e+00  1.588725e-01\n",
       "3  2.149037e-09  1.588725e-01  1.000000e+00"
      ]
     },
     "execution_count": 169,
     "metadata": {},
     "output_type": "execute_result"
    }
   ],
   "source": [
    "Dunn=sp.posthoc_dunn([updated_Beta0,updated_Beta1,updated_Beta2], p_adjust = 'bonferroni')\n",
    "Dunn"
   ]
  },
  {
   "cell_type": "code",
   "execution_count": 170,
   "metadata": {},
   "outputs": [
    {
     "data": {
      "text/html": [
       "<div>\n",
       "<style scoped>\n",
       "    .dataframe tbody tr th:only-of-type {\n",
       "        vertical-align: middle;\n",
       "    }\n",
       "\n",
       "    .dataframe tbody tr th {\n",
       "        vertical-align: top;\n",
       "    }\n",
       "\n",
       "    .dataframe thead th {\n",
       "        text-align: right;\n",
       "    }\n",
       "</style>\n",
       "<table border=\"1\" class=\"dataframe\">\n",
       "  <thead>\n",
       "    <tr style=\"text-align: right;\">\n",
       "      <th></th>\n",
       "      <th>1</th>\n",
       "      <th>2</th>\n",
       "      <th>3</th>\n",
       "    </tr>\n",
       "  </thead>\n",
       "  <tbody>\n",
       "    <tr>\n",
       "      <th>1</th>\n",
       "      <td>1.000000e+00</td>\n",
       "      <td>2.162456e-12</td>\n",
       "      <td>1.200765e-09</td>\n",
       "    </tr>\n",
       "    <tr>\n",
       "      <th>2</th>\n",
       "      <td>2.162456e-12</td>\n",
       "      <td>1.000000e+00</td>\n",
       "      <td>1.985672e-01</td>\n",
       "    </tr>\n",
       "    <tr>\n",
       "      <th>3</th>\n",
       "      <td>1.200765e-09</td>\n",
       "      <td>1.985672e-01</td>\n",
       "      <td>1.000000e+00</td>\n",
       "    </tr>\n",
       "  </tbody>\n",
       "</table>\n",
       "</div>"
      ],
      "text/plain": [
       "              1             2             3\n",
       "1  1.000000e+00  2.162456e-12  1.200765e-09\n",
       "2  2.162456e-12  1.000000e+00  1.985672e-01\n",
       "3  1.200765e-09  1.985672e-01  1.000000e+00"
      ]
     },
     "execution_count": 170,
     "metadata": {},
     "output_type": "execute_result"
    }
   ],
   "source": [
    "sp.posthoc_mannwhitney([updated_Beta0,updated_Beta1,updated_Beta2], p_adjust = 'bonferroni')"
   ]
  },
  {
   "cell_type": "code",
   "execution_count": 171,
   "metadata": {},
   "outputs": [
    {
     "data": {
      "text/html": [
       "<div>\n",
       "<style scoped>\n",
       "    .dataframe tbody tr th:only-of-type {\n",
       "        vertical-align: middle;\n",
       "    }\n",
       "\n",
       "    .dataframe tbody tr th {\n",
       "        vertical-align: top;\n",
       "    }\n",
       "\n",
       "    .dataframe thead th {\n",
       "        text-align: right;\n",
       "    }\n",
       "</style>\n",
       "<table border=\"1\" class=\"dataframe\">\n",
       "  <thead>\n",
       "    <tr style=\"text-align: right;\">\n",
       "      <th></th>\n",
       "      <th>1</th>\n",
       "      <th>2</th>\n",
       "      <th>3</th>\n",
       "    </tr>\n",
       "  </thead>\n",
       "  <tbody>\n",
       "    <tr>\n",
       "      <th>1</th>\n",
       "      <td>1.000000e+00</td>\n",
       "      <td>2.155765e-08</td>\n",
       "      <td>0.000024</td>\n",
       "    </tr>\n",
       "    <tr>\n",
       "      <th>2</th>\n",
       "      <td>2.155765e-08</td>\n",
       "      <td>1.000000e+00</td>\n",
       "      <td>0.854493</td>\n",
       "    </tr>\n",
       "    <tr>\n",
       "      <th>3</th>\n",
       "      <td>2.356314e-05</td>\n",
       "      <td>8.544935e-01</td>\n",
       "      <td>1.000000</td>\n",
       "    </tr>\n",
       "  </tbody>\n",
       "</table>\n",
       "</div>"
      ],
      "text/plain": [
       "              1             2         3\n",
       "1  1.000000e+00  2.155765e-08  0.000024\n",
       "2  2.155765e-08  1.000000e+00  0.854493\n",
       "3  2.356314e-05  8.544935e-01  1.000000"
      ]
     },
     "execution_count": 171,
     "metadata": {},
     "output_type": "execute_result"
    }
   ],
   "source": [
    "sp.posthoc_dunn([Beta0,Beta1,Beta2], p_adjust = 'bonferroni')"
   ]
  },
  {
   "cell_type": "code",
   "execution_count": 172,
   "metadata": {},
   "outputs": [
    {
     "data": {
      "text/html": [
       "<div>\n",
       "<style scoped>\n",
       "    .dataframe tbody tr th:only-of-type {\n",
       "        vertical-align: middle;\n",
       "    }\n",
       "\n",
       "    .dataframe tbody tr th {\n",
       "        vertical-align: top;\n",
       "    }\n",
       "\n",
       "    .dataframe thead th {\n",
       "        text-align: right;\n",
       "    }\n",
       "</style>\n",
       "<table border=\"1\" class=\"dataframe\">\n",
       "  <thead>\n",
       "    <tr style=\"text-align: right;\">\n",
       "      <th></th>\n",
       "      <th>1</th>\n",
       "      <th>2</th>\n",
       "      <th>3</th>\n",
       "    </tr>\n",
       "  </thead>\n",
       "  <tbody>\n",
       "    <tr>\n",
       "      <th>1</th>\n",
       "      <td>1.000000e+00</td>\n",
       "      <td>2.348842e-13</td>\n",
       "      <td>8.197399e-11</td>\n",
       "    </tr>\n",
       "    <tr>\n",
       "      <th>2</th>\n",
       "      <td>2.348842e-13</td>\n",
       "      <td>1.000000e+00</td>\n",
       "      <td>7.140150e-02</td>\n",
       "    </tr>\n",
       "    <tr>\n",
       "      <th>3</th>\n",
       "      <td>8.197399e-11</td>\n",
       "      <td>7.140150e-02</td>\n",
       "      <td>1.000000e+00</td>\n",
       "    </tr>\n",
       "  </tbody>\n",
       "</table>\n",
       "</div>"
      ],
      "text/plain": [
       "              1             2             3\n",
       "1  1.000000e+00  2.348842e-13  8.197399e-11\n",
       "2  2.348842e-13  1.000000e+00  7.140150e-02\n",
       "3  8.197399e-11  7.140150e-02  1.000000e+00"
      ]
     },
     "execution_count": 172,
     "metadata": {},
     "output_type": "execute_result"
    }
   ],
   "source": [
    "sp.posthoc_dunn([B0,B1,B2], p_adjust = 'bonferroni')"
   ]
  },
  {
   "cell_type": "code",
   "execution_count": 244,
   "metadata": {},
   "outputs": [
    {
     "data": {
      "text/plain": [
       "(10000, 200)"
      ]
     },
     "execution_count": 244,
     "metadata": {},
     "output_type": "execute_result"
    }
   ],
   "source": [
    "nSamp = 10000\n",
    "nIter = 200\n",
    "seedinit1 = 1\n",
    "ac1=np.zeros((nSamp,nIter))\n",
    "ac2=np.zeros((nSamp,nIter))\n",
    "CV=np.zeros(nIter)\n",
    "for j in range(nIter):\n",
    "    seedinit1 = seedinit1 + j\n",
    "    np.random.seed(seedinit1)\n",
    "    CV[j]=np.random.uniform(0.15,0.5,1)\n",
    "    \n",
    "    unifc1=np.random.uniform(0,1,nSamp)\n",
    "    unifc2=np.random.uniform(0,1,nSamp)\n",
    "    \n",
    "    for i in range(nSamp):\n",
    "        if unifc1[i] <= CV[j]:\n",
    "            ac1[i,j]=1\n",
    "            \n",
    "    for k in range(nSamp):\n",
    "        if unifc2[k] <= CV[j]:\n",
    "            ac2[k,j]=1\n",
    "            \n",
    "Xs=ac1+ac2\n",
    "Xs.shape"
   ]
  },
  {
   "cell_type": "code",
   "execution_count": 245,
   "metadata": {},
   "outputs": [],
   "source": [
    "N=np.zeros((3,nIter))\n",
    "\n",
    "for j in range(nIter):\n",
    "    for i in range(nSamp):\n",
    "        if Xs[i,j]==0 :\n",
    "            N[0,j]+= 1\n",
    "        elif Xs[i,j]==1:\n",
    "            N[1,j] += 1\n",
    "        else:\n",
    "            N[2,j]+= 1"
   ]
  },
  {
   "cell_type": "code",
   "execution_count": 246,
   "metadata": {},
   "outputs": [],
   "source": [
    "Xs_bar = np.zeros(nIter)\n",
    "SEb = np.zeros(nIter)\n",
    "SEe=np.zeros(nIter)\n",
    "for j in range(nIter):\n",
    "    Xs_bar[j]=np.mean(Xs[:,j])\n",
    "    Sxx = np.sum(Xs[:,j]*Xs[:,j])-nSamp*Xs_bar[j]*Xs_bar[j]\n",
    "    sigma=.9\n",
    "    SEb[j]= np.sqrt(sigma/Sxx)\n",
    "    SEe[j]=.9-SEb[j]"
   ]
  },
  {
   "cell_type": "code",
   "execution_count": 247,
   "metadata": {},
   "outputs": [],
   "source": [
    "B = np.zeros((nSamp,nIter))\n",
    "e = np.zeros((nSamp,nIter))\n",
    "y_obs= np.zeros((nSamp,nIter))\n",
    "seedinit2 = seedinit1+1\n",
    "for j in range(nIter):    \n",
    "    seedinit2 = seedinit2+j\n",
    "    np.random.seed(seedinit2)\n",
    "    alpha=np.random.uniform(0,0.3,1)\n",
    "    s=np.random.uniform(0,1.5,1)\n",
    "    B[0:int(N[0,j]),j] = skewnorm.rvs(1.5,loc=-.6538 , scale=1, size=int(N[0,j]))\n",
    "    B[int(N[0,j]):int(N[0,j])+int(N[1,j]),j] = skewnorm.rvs(-2.5,loc=.907, scale=1.1, size=int(N[1,j]))\n",
    "    B[int(N[0,j])+int(N[1,j]):nSamp,j] = skewnorm.rvs(-2, loc=.881 , scale=1, size=int(N[2,j]))\n",
    "    \n",
    "    e[0:int(N[0,j]),j]=np.random.normal(0,SEb[j],size=int(N[0,j]))\n",
    "    e[int(N[0,j]):int(N[0,j])+int(N[1,j]),j]=np.random.normal(0, SEb[j],size=int(N[1,j]))\n",
    "    e[int(N[1,j])+int(N[0,j]):nSamp,j]=np.random.normal(0,SEb[j],size=int(N[2,j]))\n",
    "    \n",
    "y_obs=B+e"
   ]
  },
  {
   "cell_type": "code",
   "execution_count": 248,
   "metadata": {},
   "outputs": [],
   "source": [
    "y_obs_bar = np.zeros((3,nIter))\n",
    "SEy=np.zeros((3,nIter))\n",
    "Sy=np.zeros(3)\n",
    "for j in range(nIter):\n",
    "        y_obs_bar[0,j]=np.mean(y_obs[0:int(N[0,j]),j])\n",
    "        y_obs_bar[1,j]=np.mean(y_obs[int(N[0,j]):int(N[1,j])+int(N[0,j]),j])\n",
    "        y_obs_bar[2,j]=np.mean(y_obs[int(N[1,j])+int(N[0,j]):nSamp,j])\n",
    "        Sy[0]= np.sum(y_obs[0:int(N[0,j]),j]*y_obs[0:int(N[0,j]),j])-N[0,j]*y_obs_bar[0,j]*y_obs_bar[0,j]\n",
    "        Sy[1]= np.sum(y_obs[int(N[0,j]):int(N[0,j])+int(N[1,j]),j]*y_obs[int(N[0,j]):int(N[1,j])+int(N[0,j]),j])-N[1,j]*y_obs_bar[1,j]*y_obs_bar[1,j]\n",
    "        Sy[2]= np.sum(y_obs[int(N[1,j])+int(N[0,j]):nSamp,j]*y_obs[int(N[1,j])+int(N[0,j]):nSamp,j])-N[2,j]*y_obs_bar[2,j]*y_obs_bar[2,j]\n",
    "        SEy[0,j]= np.sqrt(Sy[0]/(int(N[0,j])-1))\n",
    "        SEy[1,j]= np.sqrt(Sy[1]/(int(N[1,j])-1))\n",
    "        SEy[2,j]= np.sqrt(Sy[2]/(int(N[2,j])-1))"
   ]
  },
  {
   "cell_type": "code",
   "execution_count": 249,
   "metadata": {},
   "outputs": [],
   "source": [
    "Beta = np.zeros((nSamp,nIter))\n",
    "eps = np.zeros((nSamp,nIter))\n",
    "y_initi= np.zeros((nSamp,nIter))\n",
    "seedinit3 = seedinit2+1\n",
    "for j in range(nIter):    \n",
    "    seedinit3 = seedinit3+j\n",
    "    np.random.seed(seedinit3)\n",
    "    Beta[0:int(N[0,j]),j] = norm.rvs(loc= y_obs_bar[0,j] , scale=SEy[0,j], size=int(N[0,j]))\n",
    "    Beta[int(N[0,j]):int(N[1,j])+int(N[0,j]),j] = norm.rvs(loc= y_obs_bar[1,j], scale=SEy[1,j], size=int(N[1,j]))\n",
    "    Beta[int(N[1,j])+int(N[0,j]):nSamp,j] = norm.rvs(loc= y_obs_bar[2,j] , scale=SEy[2,j], size=int(N[2,j]))\n",
    "    \n",
    "    eps[0:int(N[0,j]),j]=np.random.normal(0,0.35,size=int(N[0,j]))\n",
    "    eps[int(N[0,j]):int(N[1,j])+int(N[0,j]),j]=np.random.normal(0,.35,size=int(N[1,j]))\n",
    "    eps[int(N[1,j])+int(N[0,j]):nSamp,j]=np.random.normal(0,.35,size=int(N[2,j]))\n",
    "    \n",
    "y_initi=Beta+eps"
   ]
  },
  {
   "cell_type": "code",
   "execution_count": 250,
   "metadata": {},
   "outputs": [],
   "source": [
    "r = np.zeros((nSamp,nIter))\n",
    "for j in range(nIter):\n",
    "            kde_y_obs0=GKDE(y_obs[0:int(N[0,j]),j])\n",
    "            kde_y_initi0=GKDE(y_initi[0:int(N[0,j]),j])\n",
    "            r[0:int(N[0,j]),j]=np.divide(kde_y_obs0(y_initi[0:int(N[0,j]),j]),kde_y_initi0(y_initi[0:int(N[0,j]),j]))\n",
    "            kde_y_obs1=GKDE(y_obs[int(N[0,j]):int(N[1,j])+int(N[0,j]),j])\n",
    "            kde_y_initi1=GKDE(y_initi[int(N[0,j]):int(N[1,j])+int(N[0,j]),j])\n",
    "            r[int(N[0,j]):int(N[1,j])+int(N[0,j]),j]=np.divide(kde_y_obs1(y_initi[int(N[0,j]):int(N[1,j])+int(N[0,j]),j]),kde_y_initi1(y_initi[int(N[0,j]):int(N[1,j])+int(N[0,j]),j]))\n",
    "            kde_y_obs2=GKDE(y_obs[int(N[1,j])+int(N[0,j]):nSamp,j])\n",
    "            kde_y_initi2=GKDE(y_initi[int(N[0,j])+int(N[1,j]):nSamp,j])\n",
    "            r[int(N[0,j])+int(N[1,j]):nSamp,j]=np.divide(kde_y_obs2(y_initi[int(N[0,j])+int(N[1,j]):nSamp,j]),kde_y_initi2(y_initi[int(N[0,j])+int(N[1,j]):nSamp,j]))\n",
    "            "
   ]
  },
  {
   "cell_type": "code",
   "execution_count": 251,
   "metadata": {},
   "outputs": [],
   "source": [
    "def rejection_sampling(r): # creating indexes for samples to keep from initial samples using rejection sampling \n",
    "    N = r.size \n",
    "    seedinit4 = seedinit3+1\n",
    "    np.random.seed(seedinit4)\n",
    "    reject_prob = np.random.uniform(low=0, high=1, size=N) \n",
    "    r = r/np.max(r)\n",
    "    idx = np.where(r >= reject_prob)[0]\n",
    "    return idx"
   ]
  },
  {
   "cell_type": "code",
   "execution_count": 252,
   "metadata": {},
   "outputs": [],
   "source": [
    "samples_to_keepSize=np.zeros((3,nIter))\n",
    "accept_rate=np.zeros((3,nIter))\n",
    "for j in range(nIter):\n",
    "    samples_to_keepSize[0,j] = rejection_sampling(r[0:int(N[0,j]),j]).size\n",
    "    samples_to_keepSize[1,j]=rejection_sampling(r[int(N[0,j]):int(N[1,j])+int(N[0,j]),j]).size\n",
    "    samples_to_keepSize[2,j] = rejection_sampling(r[int(N[1,j])+int(N[0,j]):nSamp,j]).size\n",
    "\n",
    "\n",
    "    accept_rate[0,j] = samples_to_keepSize[0,j]/N[0,j]\n",
    "    accept_rate[1,j] = samples_to_keepSize[1,j]/N[1,j]\n",
    "    accept_rate[2,j] = samples_to_keepSize[2,j]/N[2,j]"
   ]
  },
  {
   "cell_type": "code",
   "execution_count": 253,
   "metadata": {},
   "outputs": [],
   "source": [
    "samples_to_keep=np.zeros((nSamp,nIter))\n",
    "\n",
    "for j in range(nIter):\n",
    "    samples_to_keep[0:int(samples_to_keepSize[0,j]),j]= rejection_sampling(r[0:int(N[0,j]),j])\n",
    "    samples_to_keep[int(samples_to_keepSize[0,j]):int(samples_to_keepSize[0,j])+int(samples_to_keepSize[1,j]),j]= rejection_sampling(r[int(N[0,j]):int(N[0,j])+int(N[1,j]),j])+int(N[0,j])\n",
    "    samples_to_keep[int(samples_to_keepSize[0,j])+int(samples_to_keepSize[1,j]):int(samples_to_keepSize[0,j])+int(samples_to_keepSize[1,j])+int(samples_to_keepSize[2,j]),j]= rejection_sampling(r[int(N[0,j])+int(N[1,j]):nSamp,j])+int(N[0,j])+int(N[1,j])\n",
    "    \n",
    "    "
   ]
  },
  {
   "cell_type": "code",
   "execution_count": 254,
   "metadata": {},
   "outputs": [],
   "source": [
    "updated_Beta=np.zeros((nSamp,nIter))\n",
    "updated_y=np.zeros((nSamp,nIter))\n",
    "updated_eps=np.zeros((nSamp,nIter))\n",
    "for j in range(nIter):\n",
    "    updated_Beta[0:int(samples_to_keepSize[0,j]),j] =Beta[samples_to_keep[0:int(samples_to_keepSize[0,j]),j].astype(int),j]\n",
    "    updated_Beta[int(samples_to_keepSize[0,j]):int(samples_to_keepSize[0,j])+int(samples_to_keepSize[1,j]),j] =Beta[samples_to_keep[int(samples_to_keepSize[0,j]):int(samples_to_keepSize[0,j])+int(samples_to_keepSize[1,j]),j].astype(int),j]\n",
    "    updated_Beta[int(samples_to_keepSize[0,j])+int(samples_to_keepSize[1,j]):int(samples_to_keepSize[0,j])+int(samples_to_keepSize[1,j])+int(samples_to_keepSize[2,j]),j] =Beta[samples_to_keep[int(samples_to_keepSize[0,j])+int(samples_to_keepSize[1,j]):int(samples_to_keepSize[0,j])+int(samples_to_keepSize[1,j])+int(samples_to_keepSize[2,j]),j].astype(int),j]\n",
    "    \n",
    "    updated_y[0:int(samples_to_keepSize[0,j]),j] =y_initi[samples_to_keep[0:int(samples_to_keepSize[0,j]),j].astype(int),j]\n",
    "    updated_y[int(samples_to_keepSize[0,j]):int(samples_to_keepSize[0,j])+int(samples_to_keepSize[1,j]),j] =y_initi[samples_to_keep[int(samples_to_keepSize[0,j]):int(samples_to_keepSize[0,j])+int(samples_to_keepSize[1,j]),j].astype(int),j]\n",
    "    updated_y[int(samples_to_keepSize[0,j])+int(samples_to_keepSize[1,j]):int(samples_to_keepSize[0,j])+int(samples_to_keepSize[1,j])+int(samples_to_keepSize[2,j]),j] =y_initi[samples_to_keep[int(samples_to_keepSize[0,j])+int(samples_to_keepSize[1,j]):int(samples_to_keepSize[0,j])+int(samples_to_keepSize[1,j])+int(samples_to_keepSize[2,j]),j].astype(int),j]\n",
    "    \n",
    "    updated_eps[0:int(samples_to_keepSize[0,j]),j] =eps[samples_to_keep[0:int(samples_to_keepSize[0,j]),j].astype(int),j]\n",
    "    updated_eps[int(samples_to_keepSize[0,j]):int(samples_to_keepSize[0,j])+int(samples_to_keepSize[1,j]),j] =eps[samples_to_keep[int(samples_to_keepSize[0,j]):int(samples_to_keepSize[0,j])+int(samples_to_keepSize[1,j]),j].astype(int),j]\n",
    "    updated_eps[int(samples_to_keepSize[0,j])+int(samples_to_keepSize[1,j]):int(samples_to_keepSize[0,j])+int(samples_to_keepSize[1,j])+int(samples_to_keepSize[2,j]),j] =eps[samples_to_keep[int(samples_to_keepSize[0,j])+int(samples_to_keepSize[1,j]):int(samples_to_keepSize[0,j])+int(samples_to_keepSize[1,j])+int(samples_to_keepSize[2,j]),j].astype(int),j]\n",
    "    \n",
    "    "
   ]
  },
  {
   "cell_type": "code",
   "execution_count": 255,
   "metadata": {},
   "outputs": [],
   "source": [
    "KruskalStatUp=np.zeros(nIter)\n",
    "KruskalPvalueUp=np.zeros(nIter)\n",
    "for j in range(nIter):\n",
    "    KruskalStatUp[j]=stats.kruskal(updated_Beta[0:int(samples_to_keepSize[0,j]),j], updated_Beta[int(samples_to_keepSize[0,j]):int(samples_to_keepSize[0,j])+int(samples_to_keepSize[1,j]),j],updated_Beta[int(samples_to_keepSize[0,j])+int(samples_to_keepSize[1,j]):int(samples_to_keepSize[0,j])+int(samples_to_keepSize[1,j])+int(samples_to_keepSize[2,j]),j])[0]\n",
    "    KruskalPvalueUp[j]=stats.kruskal(updated_Beta[0:int(samples_to_keepSize[0,j]),j], updated_Beta[int(samples_to_keepSize[0,j]):int(samples_to_keepSize[0,j])+int(samples_to_keepSize[1,j]),j],updated_Beta[int(samples_to_keepSize[0,j])+int(samples_to_keepSize[1,j]):int(samples_to_keepSize[0,j])+int(samples_to_keepSize[1,j])+int(samples_to_keepSize[2,j]),j])[1]\n",
    "    "
   ]
  },
  {
   "cell_type": "code",
   "execution_count": 256,
   "metadata": {},
   "outputs": [
    {
     "data": {
      "text/plain": [
       "0.0001864167999678556"
      ]
     },
     "execution_count": 256,
     "metadata": {},
     "output_type": "execute_result"
    }
   ],
   "source": [
    "KruskalPvalueUp.max()"
   ]
  },
  {
   "cell_type": "code",
   "execution_count": 257,
   "metadata": {},
   "outputs": [
    {
     "data": {
      "text/plain": [
       "1.4750167487829707e-37"
      ]
     },
     "execution_count": 257,
     "metadata": {},
     "output_type": "execute_result"
    }
   ],
   "source": [
    "KruskalPvalueUp.min()"
   ]
  },
  {
   "cell_type": "code",
   "execution_count": 258,
   "metadata": {},
   "outputs": [
    {
     "data": {
      "text/plain": [
       "12"
      ]
     },
     "execution_count": 258,
     "metadata": {},
     "output_type": "execute_result"
    }
   ],
   "source": [
    "(KruskalPvalueUp >.00000005).sum()"
   ]
  },
  {
   "cell_type": "code",
   "execution_count": 266,
   "metadata": {},
   "outputs": [
    {
     "data": {
      "text/plain": [
       "0.94"
      ]
     },
     "execution_count": 266,
     "metadata": {},
     "output_type": "execute_result"
    }
   ],
   "source": [
    "(200-12)/200"
   ]
  },
  {
   "cell_type": "code",
   "execution_count": 260,
   "metadata": {},
   "outputs": [],
   "source": [
    "for j in range(nIter):\n",
    "    index0=np.where(Xs[:,j] == 0)\n",
    "    index1=np.where(Xs[:,j] == 1)\n",
    "    index2=np.where(Xs[:,j] == 2)\n",
    "    Xs0=Xs[:,j][index0]\n",
    "    Xs1=Xs[:,j][index1]\n",
    "    Xs2=Xs[:,j][index2]\n",
    "    Xs[:,j]=np.concatenate((Xs0,Xs1,Xs2), axis=None) "
   ]
  },
  {
   "cell_type": "code",
   "execution_count": 261,
   "metadata": {},
   "outputs": [],
   "source": [
    "#X=np.zeros((nSamp,2))\n",
    "OLS_Pvalues=np.zeros(nIter)\n",
    "for j in range(nIter):\n",
    "    X=sm.add_constant(Xs[:,j])\n",
    "    est=sm.OLS(y_obs[:,j],X).fit()\n",
    "    OLS_Pvalues[j]=est.pvalues[1]\n",
    "\n"
   ]
  },
  {
   "cell_type": "code",
   "execution_count": 262,
   "metadata": {},
   "outputs": [
    {
     "data": {
      "text/plain": [
       "5.997142622036309e-05"
      ]
     },
     "execution_count": 262,
     "metadata": {},
     "output_type": "execute_result"
    }
   ],
   "source": [
    "OLS_Pvalues.max()"
   ]
  },
  {
   "cell_type": "code",
   "execution_count": 263,
   "metadata": {},
   "outputs": [
    {
     "data": {
      "text/plain": [
       "22"
      ]
     },
     "execution_count": 263,
     "metadata": {},
     "output_type": "execute_result"
    }
   ],
   "source": [
    "(OLS_Pvalues >.00000005).sum()"
   ]
  },
  {
   "cell_type": "code",
   "execution_count": 267,
   "metadata": {},
   "outputs": [
    {
     "data": {
      "text/plain": [
       "0.89"
      ]
     },
     "execution_count": 267,
     "metadata": {},
     "output_type": "execute_result"
    }
   ],
   "source": [
    "(200-22)/200"
   ]
  },
  {
   "cell_type": "code",
   "execution_count": 268,
   "metadata": {},
   "outputs": [
    {
     "data": {
      "text/plain": [
       "5.3812616556015693e-33"
      ]
     },
     "execution_count": 268,
     "metadata": {},
     "output_type": "execute_result"
    }
   ],
   "source": [
    "OLS_Pvalues.min()"
   ]
  },
  {
   "cell_type": "code",
   "execution_count": 51,
   "metadata": {},
   "outputs": [
    {
     "data": {
      "text/plain": [
       "(10000, 200)"
      ]
     },
     "execution_count": 51,
     "metadata": {},
     "output_type": "execute_result"
    }
   ],
   "source": [
    "nSamp = 10000\n",
    "nIter = 200\n",
    "seedinit1 = 1\n",
    "ac1=np.zeros((nSamp,nIter))\n",
    "ac2=np.zeros((nSamp,nIter))\n",
    "CV=np.zeros(nIter)\n",
    "for j in range(nIter):\n",
    "    seedinit1 = seedinit1 + j\n",
    "    np.random.seed(seedinit1)\n",
    "    CV[j]=np.random.uniform(0.15,0.5,1)\n",
    "    \n",
    "    unifc1=np.random.uniform(0,1,nSamp)\n",
    "    unifc2=np.random.uniform(0,1,nSamp)\n",
    "    \n",
    "    for i in range(nSamp):\n",
    "        if unifc1[i] <= CV[j]:\n",
    "            ac1[i,j]=1\n",
    "            \n",
    "    for k in range(nSamp):\n",
    "        if unifc2[k] <= CV[j]:\n",
    "            ac2[k,j]=1\n",
    "            \n",
    "X=ac1+ac2\n",
    "X.shape"
   ]
  },
  {
   "cell_type": "code",
   "execution_count": 52,
   "metadata": {},
   "outputs": [
    {
     "ename": "KeyboardInterrupt",
     "evalue": "",
     "output_type": "error",
     "traceback": [
      "\u001b[0;31m---------------------------------------------------------------------------\u001b[0m",
      "\u001b[0;31mKeyboardInterrupt\u001b[0m                         Traceback (most recent call last)",
      "\u001b[0;32m<ipython-input-52-2c23c89b36cd>\u001b[0m in \u001b[0;36m<module>\u001b[0;34m\u001b[0m\n\u001b[1;32m     99\u001b[0m \u001b[0;34m\u001b[0m\u001b[0m\n\u001b[1;32m    100\u001b[0m     \u001b[0mr0\u001b[0m\u001b[0;34m=\u001b[0m\u001b[0mnp\u001b[0m\u001b[0;34m.\u001b[0m\u001b[0mdivide\u001b[0m\u001b[0;34m(\u001b[0m\u001b[0mkde_y_obs0\u001b[0m\u001b[0;34m(\u001b[0m\u001b[0my_initi0\u001b[0m\u001b[0;34m)\u001b[0m\u001b[0;34m,\u001b[0m\u001b[0mkde_y_initi0\u001b[0m\u001b[0;34m(\u001b[0m\u001b[0my_initi0\u001b[0m\u001b[0;34m)\u001b[0m\u001b[0;34m)\u001b[0m\u001b[0;34m\u001b[0m\u001b[0;34m\u001b[0m\u001b[0m\n\u001b[0;32m--> 101\u001b[0;31m     \u001b[0mr1\u001b[0m\u001b[0;34m=\u001b[0m\u001b[0mnp\u001b[0m\u001b[0;34m.\u001b[0m\u001b[0mdivide\u001b[0m\u001b[0;34m(\u001b[0m\u001b[0mkde_y_obs1\u001b[0m\u001b[0;34m(\u001b[0m\u001b[0my_initi1\u001b[0m\u001b[0;34m)\u001b[0m\u001b[0;34m,\u001b[0m\u001b[0mkde_y_initi1\u001b[0m\u001b[0;34m(\u001b[0m\u001b[0my_initi1\u001b[0m\u001b[0;34m)\u001b[0m\u001b[0;34m)\u001b[0m\u001b[0;34m\u001b[0m\u001b[0;34m\u001b[0m\u001b[0m\n\u001b[0m\u001b[1;32m    102\u001b[0m     \u001b[0mr2\u001b[0m\u001b[0;34m=\u001b[0m\u001b[0mnp\u001b[0m\u001b[0;34m.\u001b[0m\u001b[0mdivide\u001b[0m\u001b[0;34m(\u001b[0m\u001b[0mkde_y_obs2\u001b[0m\u001b[0;34m(\u001b[0m\u001b[0my_initi2\u001b[0m\u001b[0;34m)\u001b[0m\u001b[0;34m,\u001b[0m\u001b[0mkde_y_initi2\u001b[0m\u001b[0;34m(\u001b[0m\u001b[0my_initi2\u001b[0m\u001b[0;34m)\u001b[0m\u001b[0;34m)\u001b[0m\u001b[0;34m\u001b[0m\u001b[0;34m\u001b[0m\u001b[0m\n\u001b[1;32m    103\u001b[0m     \u001b[0msamples_to_keep0\u001b[0m \u001b[0;34m=\u001b[0m \u001b[0mrejection_sampling\u001b[0m\u001b[0;34m(\u001b[0m\u001b[0mr0\u001b[0m\u001b[0;34m)\u001b[0m \u001b[0;31m# performing rejection sampling\u001b[0m\u001b[0;34m\u001b[0m\u001b[0;34m\u001b[0m\u001b[0m\n",
      "\u001b[0;32m/opt/anaconda3/lib/python3.8/site-packages/scipy/stats/kde.py\u001b[0m in \u001b[0;36mevaluate\u001b[0;34m(self, points)\u001b[0m\n\u001b[1;32m    250\u001b[0m             raise TypeError('%s has unexpected item size %d' %\n\u001b[1;32m    251\u001b[0m                             (output_dtype, itemsize))\n\u001b[0;32m--> 252\u001b[0;31m         result = gaussian_kernel_estimate[spec](self.dataset.T, self.weights[:, None],\n\u001b[0m\u001b[1;32m    253\u001b[0m                                                 points.T, self.inv_cov, output_dtype)\n\u001b[1;32m    254\u001b[0m         \u001b[0;32mreturn\u001b[0m \u001b[0mresult\u001b[0m\u001b[0;34m[\u001b[0m\u001b[0;34m:\u001b[0m\u001b[0;34m,\u001b[0m \u001b[0;36m0\u001b[0m\u001b[0;34m]\u001b[0m\u001b[0;34m\u001b[0m\u001b[0;34m\u001b[0m\u001b[0m\n",
      "\u001b[0;32m_stats.pyx\u001b[0m in \u001b[0;36mscipy.stats._stats.gaussian_kernel_estimate\u001b[0;34m()\u001b[0m\n",
      "\u001b[0;32m/opt/anaconda3/lib/python3.8/site-packages/numpy/core/_asarray.py\u001b[0m in \u001b[0;36masarray\u001b[0;34m(a, dtype, order)\u001b[0m\n\u001b[1;32m     12\u001b[0m ]\n\u001b[1;32m     13\u001b[0m \u001b[0;34m\u001b[0m\u001b[0m\n\u001b[0;32m---> 14\u001b[0;31m \u001b[0;34m@\u001b[0m\u001b[0mset_module\u001b[0m\u001b[0;34m(\u001b[0m\u001b[0;34m'numpy'\u001b[0m\u001b[0;34m)\u001b[0m\u001b[0;34m\u001b[0m\u001b[0;34m\u001b[0m\u001b[0m\n\u001b[0m\u001b[1;32m     15\u001b[0m \u001b[0;32mdef\u001b[0m \u001b[0masarray\u001b[0m\u001b[0;34m(\u001b[0m\u001b[0ma\u001b[0m\u001b[0;34m,\u001b[0m \u001b[0mdtype\u001b[0m\u001b[0;34m=\u001b[0m\u001b[0;32mNone\u001b[0m\u001b[0;34m,\u001b[0m \u001b[0morder\u001b[0m\u001b[0;34m=\u001b[0m\u001b[0;32mNone\u001b[0m\u001b[0;34m)\u001b[0m\u001b[0;34m:\u001b[0m\u001b[0;34m\u001b[0m\u001b[0;34m\u001b[0m\u001b[0m\n\u001b[1;32m     16\u001b[0m     \"\"\"Convert the input to an array.\n",
      "\u001b[0;31mKeyboardInterrupt\u001b[0m: "
     ]
    }
   ],
   "source": [
    "OLSPvalues=np.zeros(nIter)\n",
    "kruskalPvalues=np.zeros(nIter)\n",
    "\n",
    "for j in range(nIter):\n",
    "    \n",
    "    Xs=X[:,j]\n",
    "    \n",
    "    X_bar=np.mean(Xs)\n",
    "    Sxx = np.sum(Xs*Xs)-nSamp*X_bar*X_bar\n",
    "    sigma=1.7\n",
    "    SEb= np.sqrt(sigma/Sxx)\n",
    "    SEe=1.7-SEb\n",
    "    \n",
    "    N0=0\n",
    "    N1=0\n",
    "    N2=0\n",
    "    for i in range(nSamp):\n",
    "        if Xs[i]==0 :\n",
    "            N0=N0+1\n",
    "        elif Xs[i]==1:\n",
    "            N1=N1+1\n",
    "        else:\n",
    "            N2=N2+1\n",
    "    \n",
    "    B0= skewnorm.rvs(-1.7,loc=3.22 , scale=4.5, size=N0)\n",
    "    B1= skewnorm.rvs(-.7,loc=-.9, scale=4.5, size=N1)\n",
    "    B2= skewnorm.rvs(1.7,loc=-1.4 , scale=4.5, size=N2)\n",
    "\n",
    "    e0=np.random.normal(0,SEb,size=N0)\n",
    "    e1=np.random.normal(0,SEb,size=N1)\n",
    "    e2=np.random.normal(0,SEb,size=N2)\n",
    "\n",
    "    y_obs0=B0+e0\n",
    "    y_obs1=B1+e1\n",
    "    y_obs2=B2+e2\n",
    "\n",
    "    index0=np.where(Xs == 0)\n",
    "    index1=np.where(Xs == 1)\n",
    "    index2=np.where(Xs == 2)\n",
    "\n",
    "    X0=Xs[index0]\n",
    "    X1=Xs[index1]\n",
    "    X2=Xs[index2]\n",
    "\n",
    "    y_obs0=y[index0]\n",
    "    y_obs1=y[index1]\n",
    "    y_obs2=y[index2]\n",
    "    \n",
    "    kde_y_obs0= GKDE(y_obs0)\n",
    "    kde_y_obs1= GKDE(y_obs1)\n",
    "    kde_y_obs2= GKDE(y_obs2)\n",
    "    \n",
    "\n",
    "    y_obs0_bar=np.mean(y_obs0)\n",
    "    Sy0 = np.sum(y_obs0*y_obs0)-N0*y_obs0_bar*y_obs0_bar\n",
    "    SEy0= np.sqrt(Sy0/(N0-1))\n",
    "    \n",
    "    y_obs1_bar=np.mean(y_obs1)\n",
    "    Sy1 = np.sum(y_obs1*y_obs1)-N1*y_obs1_bar*y_obs1_bar\n",
    "    SEy1= np.sqrt(Sy1/(N1-1))\n",
    "    \n",
    "    y_obs2_bar=np.mean(y_obs2)\n",
    "    Sy2 = np.sum(y_obs2*y_obs2)-N2*y_obs2_bar*y_obs2_bar\n",
    "    SEy2= np.sqrt(Sy2/(N2-1))\n",
    "    \n",
    "    y=np.concatenate((y_obs0, y_obs1,y_obs2), axis=None) \n",
    "    Xs=np.concatenate((X0,X1,X2), axis=None)\n",
    "    \n",
    "        \n",
    "    Xa = sm.add_constant(Xs)\n",
    "    est = sm.OLS(y, Xa,missing='drop')  #sm.OLS(y , sm.add_constant(Xs)).fit()\n",
    "    est2 = est.fit()\n",
    "    OLSPvalues[j]=est2.pvalues[1]\n",
    "    \n",
    "    Beta0=norm.rvs(loc=y_obs0_bar, scale=SEy0,size=N0)\n",
    "    Beta1=norm.rvs(loc=y_obs1_bar, scale=SEy1,size=N1)\n",
    "    Beta2=norm.rvs(loc=y_obs2_bar, scale=SEy2,size=N2)\n",
    "    \n",
    "    eps0=np.random.normal(0,.4,size=N0)\n",
    "    eps1=np.random.normal(0,.4,size=N1)\n",
    "    eps2=np.random.normal(0,.4,size=N2)\n",
    "    \n",
    "    y_initi0=Beta0+eps0\n",
    "    y_initi1=Beta1+eps1\n",
    "    y_initi2=Beta2+eps2\n",
    "\n",
    "\n",
    "    kde_y_initi0 = GKDE(y_initi0)\n",
    "    kde_y_initi1 = GKDE(y_initi1)\n",
    "    kde_y_initi2 = GKDE(y_initi2)\n",
    "    \n",
    "    def rejection_sampling(r): # creating indexes for samples to keep from initial samples using rejection sampling \n",
    "        N = r.size \n",
    "\n",
    "        reject_prob = np.random.uniform(low=0, high=1, size=N) \n",
    "        r = r/np.max(r)\n",
    "        idx = np.where(r >= reject_prob)[0]\n",
    "        return idx\n",
    "\n",
    "    r0=np.divide(kde_y_obs0(y_initi0),kde_y_initi0(y_initi0))\n",
    "    r1=np.divide(kde_y_obs1(y_initi1),kde_y_initi1(y_initi1))\n",
    "    r2=np.divide(kde_y_obs2(y_initi2),kde_y_initi2(y_initi2))\n",
    "    samples_to_keep0 = rejection_sampling(r0) # performing rejection sampling\n",
    "    samples_to_keep1 = rejection_sampling(r1)\n",
    "    samples_to_keep2 = rejection_sampling(r2)\n",
    "    \n",
    "    updated_Beta0 =Beta0[samples_to_keep0] # samples from updated parameter density\n",
    "    updated_Beta1 =Beta1[samples_to_keep1]\n",
    "    updated_Beta2 =Beta2[samples_to_keep2]\n",
    "    \n",
    "\n",
    "    kruskal=stats.kruskal(updated_Beta0, updated_Beta1, updated_Beta2)\n",
    "    \n",
    "    \n",
    "    kruskalPvalues[j]=kruskal[1]\n",
    "\n",
    "\n",
    "    "
   ]
  },
  {
   "cell_type": "code",
   "execution_count": null,
   "metadata": {},
   "outputs": [],
   "source": [
    "kruskalPvalues.max()"
   ]
  },
  {
   "cell_type": "code",
   "execution_count": null,
   "metadata": {},
   "outputs": [],
   "source": [
    "OLSPvalues.max()"
   ]
  },
  {
   "cell_type": "code",
   "execution_count": 1402,
   "metadata": {},
   "outputs": [
    {
     "data": {
      "text/plain": [
       "0.007296931215284516"
      ]
     },
     "execution_count": 1402,
     "metadata": {},
     "output_type": "execute_result"
    }
   ],
   "source": [
    "OLSPvalues.min()"
   ]
  },
  {
   "cell_type": "code",
   "execution_count": 677,
   "metadata": {},
   "outputs": [
    {
     "data": {
      "text/plain": [
       "1.8444398181324187e-06"
      ]
     },
     "execution_count": 677,
     "metadata": {},
     "output_type": "execute_result"
    }
   ],
   "source": [
    "kruskalPvalues.min()"
   ]
  },
  {
   "cell_type": "code",
   "execution_count": 235,
   "metadata": {},
   "outputs": [],
   "source": [
    "\n",
    "    Xs=X[:,0]\n",
    "    \n",
    "    X_bar=np.mean(Xs)\n",
    "    Sxx = np.sum(Xs*Xs)-nSamp*X_bar*X_bar\n",
    "    sigma=1.7\n",
    "    SEb= np.sqrt(sigma/Sxx)\n",
    "    SEe=1.7-SEb\n",
    "    \n",
    "    N0=0\n",
    "    N1=0\n",
    "    N2=0\n",
    "    for i in range(nSamp):\n",
    "        if Xs[i]==0 :\n",
    "            N0=N0+1\n",
    "        elif Xs[i]==1:\n",
    "            N1=N1+1\n",
    "        else:\n",
    "            N2=N2+1\n",
    "    \n",
    "    B0= skewnorm.rvs(-1.7,loc=3.22 , scale=4.5, size=N0)\n",
    "    B1= skewnorm.rvs(-.7,loc=-.9, scale=4.5, size=N1)\n",
    "    B2= skewnorm.rvs(1.7,loc=-1.4 , scale=4.5, size=N2)\n",
    "\n",
    "    e0=np.random.normal(0,SEb,size=N0)\n",
    "    e1=np.random.normal(0,SEb,size=N1)\n",
    "    e2=np.random.normal(0,SEb,size=N2)\n",
    "\n",
    "    y_obs0=B0+e0\n",
    "    y_obs1=B1+e1\n",
    "    y_obs2=B2+e2\n",
    "\n",
    "    index0=np.where(Xs == 0)\n",
    "    index1=np.where(Xs == 1)\n",
    "    index2=np.where(Xs == 2)\n",
    "\n",
    "    X0=Xs[index0]\n",
    "    X1=Xs[index1]\n",
    "    X2=Xs[index2]\n",
    "\n",
    "    y_obs0=y[index0]\n",
    "    y_obs1=y[index1]\n",
    "    y_obs2=y[index2]\n",
    "    \n",
    "    kde_y_obs0= GKDE(y_obs0)\n",
    "    kde_y_obs1= GKDE(y_obs1)\n",
    "    kde_y_obs2= GKDE(y_obs2)\n",
    "    \n",
    "\n",
    "    y_obs0_bar=np.mean(y_obs0)\n",
    "    Sy0 = np.sum(y_obs0*y_obs0)-N0*y_obs0_bar*y_obs0_bar\n",
    "    SEy0= np.sqrt(Sy0/(N0-1))\n",
    "    \n",
    "    y_obs1_bar=np.mean(y_obs1)\n",
    "    Sy1 = np.sum(y_obs1*y_obs1)-N1*y_obs1_bar*y_obs1_bar\n",
    "    SEy1= np.sqrt(Sy1/(N1-1))\n",
    "    \n",
    "    y_obs2_bar=np.mean(y_obs2)\n",
    "    Sy2 = np.sum(y_obs2*y_obs2)-N2*y_obs2_bar*y_obs2_bar\n",
    "    SEy2= np.sqrt(Sy2/(N2-1))\n",
    "    \n",
    "    y=np.concatenate((y_obs0, y_obs1,y_obs2), axis=None) \n",
    "    Xs=np.concatenate((X0,X1,X2), axis=None)\n",
    "    \n",
    "        \n",
    "    Xa = sm.add_constant(Xs)\n",
    "    est = sm.OLS(y, Xa,missing='drop')  #sm.OLS(y , sm.add_constant(Xs)).fit()\n",
    "    est2 = est.fit()\n",
    "    OLSPvalues=est2.pvalues[1]\n",
    "    \n",
    "    Beta0=norm.rvs(loc=y_obs0_bar, scale=SEy0,size=N0)\n",
    "    Beta1=norm.rvs(loc=y_obs1_bar, scale=SEy1,size=N1)\n",
    "    Beta2=norm.rvs(loc=y_obs2_bar, scale=SEy2,size=N2)\n",
    "    \n",
    "    eps0=np.random.normal(0,.4,size=N0)\n",
    "    eps1=np.random.normal(0,.4,size=N1)\n",
    "    eps2=np.random.normal(0,.4,size=N2)\n",
    "    \n",
    "    y_initi0=Beta0+eps0\n",
    "    y_initi1=Beta1+eps1\n",
    "    y_initi2=Beta2+eps2\n",
    "\n",
    "\n",
    "    kde_y_initi0 = GKDE(y_initi0)\n",
    "    kde_y_initi1 = GKDE(y_initi1)\n",
    "    kde_y_initi2 = GKDE(y_initi2)\n",
    "    \n",
    "    def rejection_sampling(r): # creating indexes for samples to keep from initial samples using rejection sampling \n",
    "        N = r.size \n",
    "\n",
    "        reject_prob = np.random.uniform(low=0, high=1, size=N) \n",
    "        r = r/np.max(r)\n",
    "        idx = np.where(r >= reject_prob)[0]\n",
    "        return idx\n",
    "\n",
    "    r0=np.divide(kde_y_obs0(y_initi0),kde_y_initi0(y_initi0))\n",
    "    r1=np.divide(kde_y_obs1(y_initi1),kde_y_initi1(y_initi1))\n",
    "    r2=np.divide(kde_y_obs2(y_initi2),kde_y_initi2(y_initi2))\n",
    "    samples_to_keep0 = rejection_sampling(r0) # performing rejection sampling\n",
    "    samples_to_keep1 = rejection_sampling(r1)\n",
    "    samples_to_keep2 = rejection_sampling(r2)\n",
    "    \n",
    "    updated_Beta0 =Beta0[samples_to_keep0] # samples from updated parameter density\n",
    "    updated_Beta1 =Beta1[samples_to_keep1]\n",
    "    updated_Beta2 =Beta2[samples_to_keep2]\n",
    "    \n",
    "\n",
    "    kruskal=stats.kruskal(updated_Beta0, updated_Beta1, updated_Beta2)\n",
    "    \n",
    "   \n",
    "\n",
    "\n",
    "    "
   ]
  },
  {
   "cell_type": "code",
   "execution_count": 236,
   "metadata": {},
   "outputs": [
    {
     "data": {
      "text/plain": [
       "KruskalResult(statistic=3.6611446178249025, pvalue=0.16032178792637475)"
      ]
     },
     "execution_count": 236,
     "metadata": {},
     "output_type": "execute_result"
    }
   ],
   "source": [
    "kruskal"
   ]
  },
  {
   "cell_type": "code",
   "execution_count": 237,
   "metadata": {},
   "outputs": [
    {
     "data": {
      "text/plain": [
       "0.44183254650240067"
      ]
     },
     "execution_count": 237,
     "metadata": {},
     "output_type": "execute_result"
    }
   ],
   "source": [
    "OLSPvalues"
   ]
  },
  {
   "cell_type": "code",
   "execution_count": 238,
   "metadata": {},
   "outputs": [
    {
     "data": {
      "text/plain": [
       "array([0., 0., 0., ..., 2., 2., 2.])"
      ]
     },
     "execution_count": 238,
     "metadata": {},
     "output_type": "execute_result"
    }
   ],
   "source": [
    "Xs\n"
   ]
  },
  {
   "cell_type": "code",
   "execution_count": 239,
   "metadata": {},
   "outputs": [
    {
     "data": {
      "text/plain": [
       "array([0.12583374, 3.9285296 , 1.79115299, ..., 0.53208147, 0.0598782 ,\n",
       "       4.85822147])"
      ]
     },
     "execution_count": 239,
     "metadata": {},
     "output_type": "execute_result"
    }
   ],
   "source": [
    "y"
   ]
  },
  {
   "cell_type": "code",
   "execution_count": null,
   "metadata": {},
   "outputs": [],
   "source": []
  }
 ],
 "metadata": {
  "kernelspec": {
   "display_name": "Python 3",
   "language": "python",
   "name": "python3"
  },
  "language_info": {
   "codemirror_mode": {
    "name": "ipython",
    "version": 3
   },
   "file_extension": ".py",
   "mimetype": "text/x-python",
   "name": "python",
   "nbconvert_exporter": "python",
   "pygments_lexer": "ipython3",
   "version": "3.8.5"
  }
 },
 "nbformat": 4,
 "nbformat_minor": 4
}
