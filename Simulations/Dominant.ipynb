{
 "cells": [
  {
   "cell_type": "code",
   "execution_count": 1,
   "metadata": {},
   "outputs": [],
   "source": [
    "import numpy as np\n",
    "import random\n",
    "import scipy as sp\n",
    "import pandas as pd\n",
    "import seaborn as sns\n",
    "import sklearn.linear_model\n",
    "import matplotlib.pyplot as plt\n",
    "from statsmodels.api import OLS\n",
    "import statsmodels.api as sm\n",
    "from sklearn.linear_model import LinearRegression\n",
    "from scipy import stats\n",
    "from scipy.stats import gaussian_kde as GKDE\n",
    "from scipy.stats import uniform, norm, beta,skewnorm,gamma\n",
    "from mpl_toolkits import mplot3d\n",
    "import scipy.io as sio\n",
    "from statsmodels.distributions.empirical_distribution import ECDF\n",
    "import scikit_posthocs as sp"
   ]
  },
  {
   "cell_type": "code",
   "execution_count": 2,
   "metadata": {},
   "outputs": [],
   "source": [
    "# Generating SNP vector for 15% < MAF < 50% \n",
    "\n",
    "nSamp = 10000\n",
    "seedinit1 = 1\n",
    "as1=np.zeros(nSamp)\n",
    "as2=np.zeros(nSamp)\n",
    "np.random.seed(seedinit1)\n",
    "SV=np.random.uniform(0.15,0.5,1)   \n",
    "unifs1=np.random.uniform(0,1,nSamp)\n",
    "for i in range(nSamp):\n",
    "    if unifs1[i] <= SV:\n",
    "        as1[i]=1\n",
    "\n",
    "seedinit2 = seedinit1+1\n",
    "np.random.seed(seedinit2)            \n",
    "unifs2=np.random.uniform(0,1,nSamp)\n",
    "for j in range(nSamp):\n",
    "    if unifs2[j] <= SV:\n",
    "        as2[j]=1\n",
    "    \n",
    "Xs=as1+as2"
   ]
  },
  {
   "cell_type": "code",
   "execution_count": 3,
   "metadata": {},
   "outputs": [
    {
     "name": "stdout",
     "output_type": "stream",
     "text": [
      "0.014593989375535759\n",
      "\n",
      "0.8854060106244642\n"
     ]
    }
   ],
   "source": [
    "# Computing standard error for Xs \n",
    "\n",
    "Xs_bar=np.mean(Xs)\n",
    "Sxx = np.sum(Xs*Xs)-nSamp*Xs_bar*Xs_bar\n",
    "\n",
    "sigma=.9\n",
    "\n",
    "SEb= np.sqrt(sigma/Sxx)\n",
    "print(SEb)\n",
    "\n",
    "print()\n",
    "SEe=.9-SEb\n",
    "print(SEe)"
   ]
  },
  {
   "cell_type": "code",
   "execution_count": 4,
   "metadata": {},
   "outputs": [
    {
     "name": "stdout",
     "output_type": "stream",
     "text": [
      "4826\n",
      "4251\n",
      "923\n"
     ]
    }
   ],
   "source": [
    "# Generating SNP vector for 15% < MAF < 50% \n",
    "\n",
    "N0=0\n",
    "N1=0\n",
    "N2=0\n",
    "for i in range(nSamp):\n",
    "    if Xs[i]==0 :\n",
    "        N0=N0+1\n",
    "    elif Xs[i]==1:\n",
    "        N1=N1+1\n",
    "    else:\n",
    "        N2=N2+1\n",
    "\n",
    "print(N0)\n",
    "print(N1)\n",
    "print(N2)"
   ]
  },
  {
   "cell_type": "code",
   "execution_count": 5,
   "metadata": {},
   "outputs": [],
   "source": [
    "# Simulating the vector of phynotype for each SNP group for Dominant Case\n",
    "\n",
    "seedinit3 = seedinit2+1\n",
    "np.random.seed(seedinit3)\n",
    "\n",
    "# Generate the mean for each phynotype group\n",
    "B0= skewnorm.rvs(1.5, loc=-.5878 , scale=.9 , size=N0)\n",
    "B1= skewnorm.rvs(-2.5, loc=.833, scale=1 , size=N1) \n",
    "B2= skewnorm.rvs(-3, loc=.8756, scale=1, size=N2)\n",
    "\n",
    "# Generate the error (noise) for each phynotype group\n",
    "e0=np.random.normal(0,SEb,size=N0)\n",
    "e1=np.random.normal(0,SEb,size=N1)\n",
    "e2=np.random.normal(0,SEb,size=N2)\n",
    "\n",
    "# Simulated phynotype groups using generated mean and error\n",
    "y_obs0=B0+e0\n",
    "y_obs1=B1+e1\n",
    "y_obs2=B2+e2\n",
    "\n",
    "# Finding indices for each SNP group\n",
    "index0=np.where(Xs == 0)\n",
    "index1=np.where(Xs == 1)\n",
    "index2=np.where(Xs == 2)\n",
    "\n",
    "# Separating SNP vector into three SNPs group \n",
    "Xs0=Xs[index0]\n",
    "Xs1=Xs[index1]\n",
    "Xs2=Xs[index2]\n",
    "\n",
    "# Estimating the probability density function for each simulated phynotype group\n",
    "kde_y_obs0= GKDE(y_obs0)\n",
    "kde_y_obs1= GKDE(y_obs1)\n",
    "kde_y_obs2= GKDE(y_obs2)"
   ]
  },
  {
   "cell_type": "code",
   "execution_count": 6,
   "metadata": {},
   "outputs": [
    {
     "data": {
      "text/plain": [
       "<matplotlib.legend.Legend at 0x11fff4820>"
      ]
     },
     "execution_count": 6,
     "metadata": {},
     "output_type": "execute_result"
    },
    {
     "data": {
      "image/png": "[encoded data removed]",
      "text/plain": [
       "<Figure size 432x288 with 1 Axes>"
      ]
     },
     "metadata": {
      "needs_background": "light"
     },
     "output_type": "display_data"
    }
   ],
   "source": [
    "# Plot of the mean of generated phynotype\n",
    "\n",
    "ax=sns.kdeplot(B0,color='b',label='B0',linewidth=2)\n",
    "ax=sns.kdeplot(B1,color='r',label='B1',linewidth=2)\n",
    "ax=sns.kdeplot(B2,color='g',label='B2',linewidth=2)\n",
    "ax.legend()"
   ]
  },
  {
   "cell_type": "code",
   "execution_count": 7,
   "metadata": {},
   "outputs": [
    {
     "name": "stdout",
     "output_type": "stream",
     "text": [
      "0.672443571969705\n",
      "0.6703293463318245\n",
      "0.6348726917684078\n"
     ]
    }
   ],
   "source": [
    "# Computing standard error for each phynotype group\n",
    "\n",
    "y_obs0_bar=np.mean(y_obs0)\n",
    "Sy0 = np.sum(y_obs0*y_obs0)-N0*y_obs0_bar*y_obs0_bar\n",
    "SEy0= np.sqrt(Sy0/(N0-1))\n",
    "\n",
    "y_obs1_bar=np.mean(y_obs1)\n",
    "Sy1 = np.sum(y_obs1*y_obs1)-N1*y_obs1_bar*y_obs1_bar\n",
    "SEy1= np.sqrt(Sy1/(N1-1))\n",
    "\n",
    "y_obs2_bar=np.mean(y_obs2)\n",
    "Sy2 = np.sum(y_obs2*y_obs2)-N2*y_obs2_bar*y_obs2_bar\n",
    "SEy2= np.sqrt(Sy2/(N2-1))\n",
    "\n",
    "y=np.concatenate((y_obs0, y_obs1,y_obs2), axis=None) \n",
    "\n",
    "Xs=np.concatenate((Xs0,Xs1,Xs2), axis=None) \n",
    "print(SEy0)\n",
    "print(SEy1)\n",
    "print(SEy2)"
   ]
  },
  {
   "cell_type": "code",
   "execution_count": 12,
   "metadata": {
    "scrolled": true
   },
   "outputs": [
    {
     "name": "stdout",
     "output_type": "stream",
     "text": [
      "Parametrs =  0.008168837793502665 [0.07283526]\n"
     ]
    },
    {
     "data": {
      "image/png": "[encoded data removed]",
      "text/plain": [
       "<Figure size 432x288 with 1 Axes>"
      ]
     },
     "metadata": {
      "needs_background": "light"
     },
     "output_type": "display_data"
    }
   ],
   "source": [
    "# Plot of GWAS (Regression) for the SNP and phynotype vectors\n",
    "\n",
    "lin_reg= sklearn.linear_model.LinearRegression()\n",
    "lin_reg.fit(np.c_[Xs],y)\n",
    "print('Parametrs = ', lin_reg.intercept_ ,  lin_reg.coef_)\n",
    "\n",
    "plt.plot(Xs, y,'.');\n",
    "plt.plot(np.array([0, 2]), lin_reg.predict(np.c_[np.array([0,2])]), color='r');"
   ]
  },
  {
   "cell_type": "code",
   "execution_count": 13,
   "metadata": {},
   "outputs": [
    {
     "name": "stdout",
     "output_type": "stream",
     "text": [
      "                            OLS Regression Results                            \n",
      "==============================================================================\n",
      "Dep. Variable:                      y   R-squared:                       0.005\n",
      "Model:                            OLS   Adj. R-squared:                  0.005\n",
      "Method:                 Least Squares   F-statistic:                     50.18\n",
      "Date:                Mon, 05 Dec 2022   Prob (F-statistic):           1.50e-12\n",
      "Time:                        14:36:15   Log-Likelihood:                -10160.\n",
      "No. Observations:               10000   AIC:                         2.032e+04\n",
      "Df Residuals:                    9998   BIC:                         2.034e+04\n",
      "Df Model:                           1                                         \n",
      "Covariance Type:            nonrobust                                         \n",
      "==============================================================================\n",
      "                 coef    std err          t      P>|t|      [0.025      0.975]\n",
      "------------------------------------------------------------------------------\n",
      "const          0.0082      0.009      0.891      0.373      -0.010       0.026\n",
      "x1             0.0728      0.010      7.084      0.000       0.053       0.093\n",
      "==============================================================================\n",
      "Omnibus:                       76.516   Durbin-Watson:                   1.974\n",
      "Prob(Omnibus):                  0.000   Jarque-Bera (JB):               98.152\n",
      "Skew:                          -0.125   Prob(JB):                     4.86e-22\n",
      "Kurtosis:                       3.416   Cond. No.                         2.33\n",
      "==============================================================================\n",
      "\n",
      "Notes:\n",
      "[1] Standard Errors assume that the covariance matrix of the errors is correctly specified.\n"
     ]
    }
   ],
   "source": [
    "# Regresssion summery for GWAS\n",
    "\n",
    "X = sm.add_constant(Xs)\n",
    "est = sm.OLS(y, X)\n",
    "est2 = est.fit()\n",
    "print(est2.summary())\n"
   ]
  },
  {
   "cell_type": "code",
   "execution_count": 14,
   "metadata": {},
   "outputs": [
    {
     "data": {
      "text/plain": [
       "1.4999652624410755e-12"
      ]
     },
     "execution_count": 14,
     "metadata": {},
     "output_type": "execute_result"
    }
   ],
   "source": [
    "# GWAS P_Value\n",
    "\n",
    "est2.pvalues[1]"
   ]
  },
  {
   "cell_type": "code",
   "execution_count": 15,
   "metadata": {},
   "outputs": [
    {
     "data": {
      "text/plain": [
       "<matplotlib.legend.Legend at 0x12065c3a0>"
      ]
     },
     "execution_count": 15,
     "metadata": {},
     "output_type": "execute_result"
    },
    {
     "data": {
      "image/png": "[encoded data removed]",
      "text/plain": [
       "<Figure size 432x288 with 1 Axes>"
      ]
     },
     "metadata": {
      "needs_background": "light"
     },
     "output_type": "display_data"
    }
   ],
   "source": [
    "# Plot of the three phynotype group\n",
    "\n",
    "ax=sns.kdeplot(y_obs0,color='b',label='Y0',linewidth=2)\n",
    "ax=sns.kdeplot(y_obs1,color='r',label='Y1',linewidth=2)\n",
    "ax=sns.kdeplot(y_obs2,color='g',label='Y2',linewidth=2)\n",
    "ax.legend()"
   ]
  },
  {
   "cell_type": "code",
   "execution_count": 16,
   "metadata": {},
   "outputs": [],
   "source": [
    "# Generating initial Betas for each group\n",
    "\n",
    "seedinit4 = seedinit3+1\n",
    "np.random.seed(seedinit4)\n",
    "Beta0=norm.rvs(loc=y_obs0_bar, scale=SEy0,size=N0)\n",
    "Beta1=norm.rvs(loc=y_obs1_bar, scale=SEy1,size=N1)\n",
    "Beta2=norm.rvs(loc=y_obs2_bar, scale=SEy2,size=N2)"
   ]
  },
  {
   "cell_type": "code",
   "execution_count": 18,
   "metadata": {},
   "outputs": [],
   "source": [
    "# Generating initial errors for each group\n",
    "\n",
    "seedinit5 = seedinit4+1\n",
    "np.random.seed(seedinit5)\n",
    "eps0=np.random.normal(0,.35,size=N0)\n",
    "eps1=np.random.normal(0,.35,size=N1)\n",
    "eps2=np.random.normal(0,.35,size=N2)"
   ]
  },
  {
   "cell_type": "code",
   "execution_count": 19,
   "metadata": {},
   "outputs": [],
   "source": [
    "# Initial phynotype for each group\n",
    "y_initi0=Beta0+eps0\n",
    "y_initi1=Beta1+eps1\n",
    "y_initi2=Beta2+eps2\n",
    "\n",
    "# Estimating the probability density function for each initial phynotype group\n",
    "kde_y_initi0 = GKDE(y_initi0)\n",
    "kde_y_initi1 = GKDE(y_initi1)\n",
    "kde_y_initi2 = GKDE(y_initi2)"
   ]
  },
  {
   "cell_type": "code",
   "execution_count": 20,
   "metadata": {},
   "outputs": [
    {
     "data": {
      "text/plain": [
       "<matplotlib.legend.Legend at 0x120731820>"
      ]
     },
     "execution_count": 20,
     "metadata": {},
     "output_type": "execute_result"
    },
    {
     "data": {
      "image/png": "[encoded data removed]",
      "text/plain": [
       "<Figure size 504x504 with 1 Axes>"
      ]
     },
     "metadata": {
      "needs_background": "light"
     },
     "output_type": "display_data"
    }
   ],
   "source": [
    "plt.figure(figsize=[7,7])\n",
    "\n",
    "ax=sns.kdeplot(y_initi0,color='b',label='SNP=0',alpha=0.5)\n",
    "ax=sns.kdeplot(y_initi1,color='r',label='SNP=1')\n",
    "ax=sns.kdeplot(y_initi2,color='g',label='SNP=2')\n",
    "ax.legend()"
   ]
  },
  {
   "cell_type": "code",
   "execution_count": 21,
   "metadata": {},
   "outputs": [],
   "source": [
    "# Rejection sampling function to update initials\n",
    "# Creating indexes for samples to keep from initial samples using rejection sampling \n",
    "\n",
    "def rejection_sampling(r):  \n",
    "    N = r.size \n",
    "    seedinit6 = seedinit5+1\n",
    "    np.random.seed(seedinit6)\n",
    "    reject_prob = np.random.uniform(low=0, high=1, size=N) \n",
    "    r = r/np.max(r)\n",
    "    idx = np.where(r >= reject_prob)[0]\n",
    "    return idx"
   ]
  },
  {
   "cell_type": "code",
   "execution_count": 22,
   "metadata": {},
   "outputs": [],
   "source": [
    "# Computing RN weight\n",
    "\n",
    "r0=np.divide(kde_y_obs0(y_initi0),kde_y_initi0(y_initi0))\n",
    "r1=np.divide(kde_y_obs1(y_initi1),kde_y_initi1(y_initi1))\n",
    "r2=np.divide(kde_y_obs2(y_initi2),kde_y_initi2(y_initi2))"
   ]
  },
  {
   "cell_type": "code",
   "execution_count": 23,
   "metadata": {},
   "outputs": [
    {
     "name": "stdout",
     "output_type": "stream",
     "text": [
      "0.4216742644011604\n",
      "\n",
      "0.7386497294754175\n",
      "\n",
      "0.7919826652221018\n",
      "\n",
      "1.0027295639036367\n",
      "\n",
      "1.0029277221749746\n",
      "\n",
      "1.0030430349102466\n"
     ]
    }
   ],
   "source": [
    "# Performing rejection sampling\n",
    "samples_to_keep0 = rejection_sampling(r0)\n",
    "samples_to_keep1 = rejection_sampling(r1)\n",
    "samples_to_keep2 = rejection_sampling(r2)\n",
    "\n",
    "# Computing acceptance rate from performing rejection sampling\n",
    "accept_rate0 = samples_to_keep0.size/Beta0.shape[0] \n",
    "accept_rate1 = samples_to_keep1.size/Beta1.shape[0]\n",
    "accept_rate2 = samples_to_keep2.size/Beta2.shape[0]\n",
    "\n",
    "\n",
    "print(accept_rate0)  \n",
    "print()\n",
    "print(accept_rate1)\n",
    "print()\n",
    "print(accept_rate2)\n",
    "print()\n",
    "\n",
    "print(np.mean(r0))\n",
    "print()\n",
    "print(np.mean(r1))\n",
    "print()\n",
    "print(np.mean(r2))"
   ]
  },
  {
   "cell_type": "code",
   "execution_count": 24,
   "metadata": {},
   "outputs": [],
   "source": [
    "# Samples of updated Beta\n",
    "updated_Beta0 =Beta0[samples_to_keep0] \n",
    "updated_Beta1 =Beta1[samples_to_keep1]\n",
    "updated_Beta2 =Beta2[samples_to_keep2]\n",
    "\n",
    "# Updated Beta density\n",
    "updated_y0 =y_initi0[samples_to_keep0] \n",
    "updated_y1 =y_initi1[samples_to_keep1] \n",
    "updated_y2 =y_initi2[samples_to_keep2] \n",
    "\n",
    "# Samples of updated phynotype\n",
    "kde_updated_y0 = GKDE(y_initi0, weights=r0)\n",
    "kde_updated_y1 = GKDE(y_initi1, weights=r1)\n",
    "kde_updated_y2 = GKDE(y_initi2, weights=r2) # updated QoI density\n",
    "\n",
    "# Updated phynotype density\n",
    "kde_updated_Beta0 = GKDE(Beta0, weights=r0)\n",
    "kde_updated_Beta1 = GKDE(Beta1, weights=r1)\n",
    "kde_updated_Beta2 = GKDE(Beta2, weights=r2)"
   ]
  },
  {
   "cell_type": "code",
   "execution_count": 25,
   "metadata": {},
   "outputs": [],
   "source": [
    "# Samples of updated error\n",
    "updated_eps0 =eps0[samples_to_keep0]\n",
    "updated_eps1 =eps1[samples_to_keep1] \n",
    "updated_eps2 =eps2[samples_to_keep2]\n",
    "\n",
    "# Updated error density\n",
    "kde_updated_eps0 = GKDE(eps0, weights=r0)\n",
    "kde_updated_eps1 = GKDE(eps1, weights=r1)\n",
    "kde_updated_eps2 = GKDE(eps2, weights=r2)"
   ]
  },
  {
   "cell_type": "code",
   "execution_count": 26,
   "metadata": {},
   "outputs": [
    {
     "data": {
      "text/plain": [
       "KruskalResult(statistic=67.77320698863696, pvalue=1.919707634202924e-15)"
      ]
     },
     "execution_count": 26,
     "metadata": {},
     "output_type": "execute_result"
    }
   ],
   "source": [
    "# Performing kruskal wallis test on updated means\n",
    "\n",
    "stats.kruskal(updated_Beta0, updated_Beta1, updated_Beta2)"
   ]
  },
  {
   "cell_type": "markdown",
   "metadata": {},
   "source": [
    "### Repeating the Simulation 200 times to test the accuracy of the method"
   ]
  },
  {
   "cell_type": "code",
   "execution_count": 27,
   "metadata": {},
   "outputs": [
    {
     "data": {
      "text/plain": [
       "(10000, 200)"
      ]
     },
     "execution_count": 27,
     "metadata": {},
     "output_type": "execute_result"
    }
   ],
   "source": [
    "# Generating 200 SNP Vectors randomly for 15% < MAF < 50% \n",
    "\n",
    "nSamp = 10000\n",
    "nIter = 200\n",
    "seedinit1 = 1\n",
    "ac1=np.zeros((nSamp,nIter))\n",
    "ac2=np.zeros((nSamp,nIter))\n",
    "CV=np.zeros(nIter)\n",
    "for j in range(nIter):\n",
    "    seedinit1 = seedinit1 + j\n",
    "    np.random.seed(seedinit1)\n",
    "    CV[j]=np.random.uniform(0.15,0.5,1)\n",
    "    \n",
    "    unifc1=np.random.uniform(0,1,nSamp)\n",
    "    unifc2=np.random.uniform(0,1,nSamp)\n",
    "    \n",
    "    for i in range(nSamp):\n",
    "        if unifc1[i] <= CV[j]:\n",
    "            ac1[i,j]=1\n",
    "            \n",
    "    for k in range(nSamp):\n",
    "        if unifc2[k] <= CV[j]:\n",
    "            ac2[k,j]=1\n",
    "            \n",
    "Xs=ac1+ac2\n",
    "Xs.shape"
   ]
  },
  {
   "cell_type": "code",
   "execution_count": 28,
   "metadata": {},
   "outputs": [],
   "source": [
    "# Computing the number of each SNP group \"0\", \"1\", \"2\" for each Xs\n",
    "\n",
    "N=np.zeros((3,nIter))\n",
    "\n",
    "for j in range(nIter):\n",
    "    for i in range(nSamp):\n",
    "        if Xs[i,j]==0 :\n",
    "            N[0,j]+= 1\n",
    "        elif Xs[i,j]==1:\n",
    "            N[1,j] += 1\n",
    "        else:\n",
    "            N[2,j]+= 1"
   ]
  },
  {
   "cell_type": "code",
   "execution_count": 29,
   "metadata": {},
   "outputs": [],
   "source": [
    "# Computing standard error for each Xs \n",
    "\n",
    "Xs_bar = np.zeros(nIter)\n",
    "SEb = np.zeros(nIter)\n",
    "SEe=np.zeros(nIter)\n",
    "for j in range(nIter):\n",
    "    Xs_bar[j]=np.mean(Xs[:,j])\n",
    "    Sxx = np.sum(Xs[:,j]*Xs[:,j])-nSamp*Xs_bar[j]*Xs_bar[j]\n",
    "    sigma=.9\n",
    "    SEb[j]= np.sqrt(sigma/Sxx)\n",
    "    SEe[j]=.9-SEb[j]"
   ]
  },
  {
   "cell_type": "code",
   "execution_count": 30,
   "metadata": {},
   "outputs": [],
   "source": [
    "# First generate the mean and error for each phynotype group\n",
    "\n",
    "B = np.zeros((nSamp,nIter))\n",
    "e = np.zeros((nSamp,nIter))\n",
    "y_obs= np.zeros((nSamp,nIter))\n",
    "seedinit2 = seedinit1+1\n",
    "for j in range(nIter):    \n",
    "    seedinit2 = seedinit2+j\n",
    "    np.random.seed(seedinit2)\n",
    "    alpha=np.random.uniform(0,0.3,1)\n",
    "    s=np.random.uniform(0,1.5,1)\n",
    "    B[0:int(N[0,j]),j] = skewnorm.rvs(1.5,loc=-.5878, scale=.9, size=int(N[0,j]))\n",
    "    B[int(N[0,j]):int(N[0,j])+int(N[1,j]),j] = skewnorm.rvs(-2.5,loc=.833, scale=1, size=int(N[1,j]))\n",
    "    B[int(N[0,j])+int(N[1,j]):nSamp,j] = skewnorm.rvs(-3,loc=.8756 , scale=1, size=int(N[2,j]))\n",
    "    \n",
    "    e[0:int(N[0,j]),j]=np.random.normal(0,SEb[j],size=int(N[0,j]))\n",
    "    e[int(N[0,j]):int(N[0,j])+int(N[1,j]),j]=np.random.normal(0, SEb[j],size=int(N[1,j]))\n",
    "    e[int(N[1,j])+int(N[0,j]):nSamp,j]=np.random.normal(0,SEb[j],size=int(N[2,j]))\n",
    "    \n",
    "y_obs=B+e"
   ]
  },
  {
   "cell_type": "code",
   "execution_count": 31,
   "metadata": {},
   "outputs": [],
   "source": [
    "# Computing Standard Error for each Phynotype group\n",
    "\n",
    "y_obs_bar = np.zeros((3,nIter))\n",
    "SEy=np.zeros((3,nIter))\n",
    "Sy=np.zeros(3)\n",
    "for j in range(nIter):\n",
    "        y_obs_bar[0,j]=np.mean(y_obs[0:int(N[0,j]),j])\n",
    "        y_obs_bar[1,j]=np.mean(y_obs[int(N[0,j]):int(N[1,j])+int(N[0,j]),j])\n",
    "        y_obs_bar[2,j]=np.mean(y_obs[int(N[1,j])+int(N[0,j]):nSamp,j])\n",
    "        Sy[0]= np.sum(y_obs[0:int(N[0,j]),j]*y_obs[0:int(N[0,j]),j])-N[0,j]*y_obs_bar[0,j]*y_obs_bar[0,j]\n",
    "        Sy[1]= np.sum(y_obs[int(N[0,j]):int(N[0,j])+int(N[1,j]),j]*y_obs[int(N[0,j]):int(N[1,j])+int(N[0,j]),j])-N[1,j]*y_obs_bar[1,j]*y_obs_bar[1,j]\n",
    "        Sy[2]= np.sum(y_obs[int(N[1,j])+int(N[0,j]):nSamp,j]*y_obs[int(N[1,j])+int(N[0,j]):nSamp,j])-N[2,j]*y_obs_bar[2,j]*y_obs_bar[2,j]\n",
    "        SEy[0,j]= np.sqrt(Sy[0]/(int(N[0,j])-1))\n",
    "        SEy[1,j]= np.sqrt(Sy[1]/(int(N[1,j])-1))\n",
    "        SEy[2,j]= np.sqrt(Sy[2]/(int(N[2,j])-1))"
   ]
  },
  {
   "cell_type": "code",
   "execution_count": 32,
   "metadata": {},
   "outputs": [],
   "source": [
    "# Generating initial beta and error for each group\n",
    "\n",
    "Beta = np.zeros((nSamp,nIter))\n",
    "eps = np.zeros((nSamp,nIter))\n",
    "y_initi= np.zeros((nSamp,nIter))\n",
    "seedinit3 = seedinit2+1\n",
    "for j in range(nIter):    \n",
    "    seedinit3 = seedinit3+j\n",
    "    np.random.seed(seedinit3)\n",
    "    Beta[0:int(N[0,j]),j] = norm.rvs(loc= y_obs_bar[0,j] , scale=SEy[0,j], size=int(N[0,j]))\n",
    "    Beta[int(N[0,j]):int(N[1,j])+int(N[0,j]),j] = norm.rvs(loc= y_obs_bar[1,j], scale=SEy[1,j], size=int(N[1,j]))\n",
    "    Beta[int(N[1,j])+int(N[0,j]):nSamp,j] = norm.rvs(loc= y_obs_bar[2,j] , scale=SEy[2,j], size=int(N[2,j]))\n",
    "    \n",
    "    eps[0:int(N[0,j]),j]=np.random.normal(0,.35,size=int(N[0,j]))\n",
    "    eps[int(N[0,j]):int(N[1,j])+int(N[0,j]),j]=np.random.normal(0,.35,size=int(N[1,j]))\n",
    "    eps[int(N[1,j])+int(N[0,j]):nSamp,j]=np.random.normal(0,.35,size=int(N[2,j]))\n",
    "    \n",
    "y_initi=Beta+eps"
   ]
  },
  {
   "cell_type": "code",
   "execution_count": 33,
   "metadata": {},
   "outputs": [],
   "source": [
    "# Computing RN weights\n",
    "\n",
    "r = np.zeros((nSamp,nIter))\n",
    "for j in range(nIter):\n",
    "            kde_y_obs0=GKDE(y_obs[0:int(N[0,j]),j])\n",
    "            kde_y_initi0=GKDE(y_initi[0:int(N[0,j]),j])\n",
    "            r[0:int(N[0,j]),j]=np.divide(kde_y_obs0(y_initi[0:int(N[0,j]),j]),kde_y_initi0(y_initi[0:int(N[0,j]),j]))\n",
    "            kde_y_obs1=GKDE(y_obs[int(N[0,j]):int(N[1,j])+int(N[0,j]),j])\n",
    "            kde_y_initi1=GKDE(y_initi[int(N[0,j]):int(N[1,j])+int(N[0,j]),j])\n",
    "            r[int(N[0,j]):int(N[1,j])+int(N[0,j]),j]=np.divide(kde_y_obs1(y_initi[int(N[0,j]):int(N[1,j])+int(N[0,j]),j]),kde_y_initi1(y_initi[int(N[0,j]):int(N[1,j])+int(N[0,j]),j]))\n",
    "            kde_y_obs2=GKDE(y_obs[int(N[1,j])+int(N[0,j]):nSamp,j])\n",
    "            kde_y_initi2=GKDE(y_initi[int(N[0,j])+int(N[1,j]):nSamp,j])\n",
    "            r[int(N[0,j])+int(N[1,j]):nSamp,j]=np.divide(kde_y_obs2(y_initi[int(N[0,j])+int(N[1,j]):nSamp,j]),kde_y_initi2(y_initi[int(N[0,j])+int(N[1,j]):nSamp,j]))\n",
    "            "
   ]
  },
  {
   "cell_type": "code",
   "execution_count": 34,
   "metadata": {},
   "outputs": [],
   "source": [
    "# Rejection sampling function to update initials\n",
    "# Creating indexes for samples to keep from initial samples using rejection sampling \n",
    "\n",
    "def rejection_sampling(r): \n",
    "    N = r.size \n",
    "    seedinit4 = seedinit3+1\n",
    "    np.random.seed(seedinit4)\n",
    "    reject_prob = np.random.uniform(low=0, high=1, size=N) \n",
    "    r = r/np.max(r)\n",
    "    idx = np.where(r >= reject_prob)[0]\n",
    "    return idx"
   ]
  },
  {
   "cell_type": "code",
   "execution_count": 35,
   "metadata": {},
   "outputs": [],
   "source": [
    "# Computing rejection sampling size\n",
    "\n",
    "samples_to_keepSize=np.zeros((3,nIter))\n",
    "accept_rate=np.zeros((3,nIter))\n",
    "for j in range(nIter):\n",
    "    samples_to_keepSize[0,j] = rejection_sampling(r[0:int(N[0,j]),j]).size\n",
    "    samples_to_keepSize[1,j]=rejection_sampling(r[int(N[0,j]):int(N[1,j])+int(N[0,j]),j]).size\n",
    "    samples_to_keepSize[2,j] = rejection_sampling(r[int(N[1,j])+int(N[0,j]):nSamp,j]).size\n",
    "\n",
    "# Computing acceptance rate from performing rejection sampling\n",
    "    accept_rate[0,j] = samples_to_keepSize[0,j]/N[0,j]\n",
    "    accept_rate[1,j] = samples_to_keepSize[1,j]/N[1,j]\n",
    "    accept_rate[2,j] = samples_to_keepSize[2,j]/N[2,j]"
   ]
  },
  {
   "cell_type": "code",
   "execution_count": 36,
   "metadata": {},
   "outputs": [],
   "source": [
    "# Performing rejection sampling\n",
    "\n",
    "samples_to_keep=np.zeros((nSamp,nIter))\n",
    "\n",
    "for j in range(nIter):\n",
    "    samples_to_keep[0:int(samples_to_keepSize[0,j]),j]= rejection_sampling(r[0:int(N[0,j]),j])\n",
    "    samples_to_keep[int(samples_to_keepSize[0,j]):int(samples_to_keepSize[0,j])+int(samples_to_keepSize[1,j]),j]= rejection_sampling(r[int(N[0,j]):int(N[0,j])+int(N[1,j]),j])+int(N[0,j])\n",
    "    samples_to_keep[int(samples_to_keepSize[0,j])+int(samples_to_keepSize[1,j]):int(samples_to_keepSize[0,j])+int(samples_to_keepSize[1,j])+int(samples_to_keepSize[2,j]),j]= rejection_sampling(r[int(N[0,j])+int(N[1,j]):nSamp,j])+int(N[0,j])+int(N[1,j])\n",
    "    \n",
    "    "
   ]
  },
  {
   "cell_type": "code",
   "execution_count": 37,
   "metadata": {},
   "outputs": [],
   "source": [
    "# Samples from updated Beta, phynotype, and error\n",
    "\n",
    "updated_Beta=np.zeros((nSamp,nIter))\n",
    "updated_y=np.zeros((nSamp,nIter))\n",
    "updated_eps=np.zeros((nSamp,nIter))\n",
    "for j in range(nIter):\n",
    "    updated_Beta[0:int(samples_to_keepSize[0,j]),j] =Beta[samples_to_keep[0:int(samples_to_keepSize[0,j]),j].astype(int),j]\n",
    "    updated_Beta[int(samples_to_keepSize[0,j]):int(samples_to_keepSize[0,j])+int(samples_to_keepSize[1,j]),j] =Beta[samples_to_keep[int(samples_to_keepSize[0,j]):int(samples_to_keepSize[0,j])+int(samples_to_keepSize[1,j]),j].astype(int),j]\n",
    "    updated_Beta[int(samples_to_keepSize[0,j])+int(samples_to_keepSize[1,j]):int(samples_to_keepSize[0,j])+int(samples_to_keepSize[1,j])+int(samples_to_keepSize[2,j]),j] =Beta[samples_to_keep[int(samples_to_keepSize[0,j])+int(samples_to_keepSize[1,j]):int(samples_to_keepSize[0,j])+int(samples_to_keepSize[1,j])+int(samples_to_keepSize[2,j]),j].astype(int),j]\n",
    "    \n",
    "    updated_y[0:int(samples_to_keepSize[0,j]),j] =y_initi[samples_to_keep[0:int(samples_to_keepSize[0,j]),j].astype(int),j]\n",
    "    updated_y[int(samples_to_keepSize[0,j]):int(samples_to_keepSize[0,j])+int(samples_to_keepSize[1,j]),j] =y_initi[samples_to_keep[int(samples_to_keepSize[0,j]):int(samples_to_keepSize[0,j])+int(samples_to_keepSize[1,j]),j].astype(int),j]\n",
    "    updated_y[int(samples_to_keepSize[0,j])+int(samples_to_keepSize[1,j]):int(samples_to_keepSize[0,j])+int(samples_to_keepSize[1,j])+int(samples_to_keepSize[2,j]),j] =y_initi[samples_to_keep[int(samples_to_keepSize[0,j])+int(samples_to_keepSize[1,j]):int(samples_to_keepSize[0,j])+int(samples_to_keepSize[1,j])+int(samples_to_keepSize[2,j]),j].astype(int),j]\n",
    "    \n",
    "    updated_eps[0:int(samples_to_keepSize[0,j]),j] =eps[samples_to_keep[0:int(samples_to_keepSize[0,j]),j].astype(int),j]\n",
    "    updated_eps[int(samples_to_keepSize[0,j]):int(samples_to_keepSize[0,j])+int(samples_to_keepSize[1,j]),j] =eps[samples_to_keep[int(samples_to_keepSize[0,j]):int(samples_to_keepSize[0,j])+int(samples_to_keepSize[1,j]),j].astype(int),j]\n",
    "    updated_eps[int(samples_to_keepSize[0,j])+int(samples_to_keepSize[1,j]):int(samples_to_keepSize[0,j])+int(samples_to_keepSize[1,j])+int(samples_to_keepSize[2,j]),j] =eps[samples_to_keep[int(samples_to_keepSize[0,j])+int(samples_to_keepSize[1,j]):int(samples_to_keepSize[0,j])+int(samples_to_keepSize[1,j])+int(samples_to_keepSize[2,j]),j].astype(int),j]\n",
    "    \n",
    "    "
   ]
  },
  {
   "cell_type": "code",
   "execution_count": 38,
   "metadata": {},
   "outputs": [],
   "source": [
    "# Performing kruskal wallis test on updated means model\n",
    "\n",
    "KruskalStatUp=np.zeros(nIter)\n",
    "KruskalPvalueUp=np.zeros(nIter)\n",
    "for j in range(nIter):\n",
    "    KruskalStatUp[j]=stats.kruskal(updated_Beta[0:int(samples_to_keepSize[0,j]),j], updated_Beta[int(samples_to_keepSize[0,j]):int(samples_to_keepSize[0,j])+int(samples_to_keepSize[1,j]),j],updated_Beta[int(samples_to_keepSize[0,j])+int(samples_to_keepSize[1,j]):int(samples_to_keepSize[0,j])+int(samples_to_keepSize[1,j])+int(samples_to_keepSize[2,j]),j])[0]\n",
    "    KruskalPvalueUp[j]=stats.kruskal(updated_Beta[0:int(samples_to_keepSize[0,j]),j], updated_Beta[int(samples_to_keepSize[0,j]):int(samples_to_keepSize[0,j])+int(samples_to_keepSize[1,j]),j],updated_Beta[int(samples_to_keepSize[0,j])+int(samples_to_keepSize[1,j]):int(samples_to_keepSize[0,j])+int(samples_to_keepSize[1,j])+int(samples_to_keepSize[2,j]),j])[1]\n",
    "    "
   ]
  },
  {
   "cell_type": "code",
   "execution_count": 39,
   "metadata": {},
   "outputs": [
    {
     "data": {
      "text/plain": [
       "0.00014192981247251925"
      ]
     },
     "execution_count": 39,
     "metadata": {},
     "output_type": "execute_result"
    }
   ],
   "source": [
    "# kruskal wallis Maximum P-vlaue\n",
    "\n",
    "KruskalPvalueUp.max()"
   ]
  },
  {
   "cell_type": "code",
   "execution_count": 40,
   "metadata": {},
   "outputs": [
    {
     "data": {
      "text/plain": [
       "3.063056387735181e-36"
      ]
     },
     "execution_count": 40,
     "metadata": {},
     "output_type": "execute_result"
    }
   ],
   "source": [
    "# kruskal wallis minimum  P-vlaue\n",
    "\n",
    "KruskalPvalueUp.min()"
   ]
  },
  {
   "cell_type": "code",
   "execution_count": 41,
   "metadata": {},
   "outputs": [
    {
     "data": {
      "text/plain": [
       "14"
      ]
     },
     "execution_count": 41,
     "metadata": {},
     "output_type": "execute_result"
    }
   ],
   "source": [
    "# Number of non-significant kruskal wallis P-values\n",
    "\n",
    "(KruskalPvalueUp >.00000005).sum()"
   ]
  },
  {
   "cell_type": "code",
   "execution_count": 43,
   "metadata": {},
   "outputs": [],
   "source": [
    "# Putting three SNPs vector in the same vector to perform regression\n",
    "\n",
    "for j in range(nIter):\n",
    "    index0=np.where(Xs[:,j] == 0)\n",
    "    index1=np.where(Xs[:,j] == 1)\n",
    "    index2=np.where(Xs[:,j] == 2)\n",
    "    Xs0=Xs[:,j][index0]\n",
    "    Xs1=Xs[:,j][index1]\n",
    "    Xs2=Xs[:,j][index2]\n",
    "    Xs[:,j]=np.concatenate((Xs0,Xs1,Xs2), axis=None) "
   ]
  },
  {
   "cell_type": "code",
   "execution_count": 44,
   "metadata": {},
   "outputs": [],
   "source": [
    "# Performing regression on 200 simulated SNP vectors and phynotype vectors \n",
    "\n",
    "OLS_Pvalues=np.zeros(nIter)\n",
    "for j in range(nIter):\n",
    "    X=sm.add_constant(Xs[:,j])\n",
    "    est=sm.OLS(y_obs[:,j],X).fit()\n",
    "    OLS_Pvalues[j]=est.pvalues[1]\n",
    "\n"
   ]
  },
  {
   "cell_type": "code",
   "execution_count": 45,
   "metadata": {},
   "outputs": [
    {
     "data": {
      "text/plain": [
       "0.0009288640970996567"
      ]
     },
     "execution_count": 45,
     "metadata": {},
     "output_type": "execute_result"
    }
   ],
   "source": [
    "# GWAS maximum P-vlaue\n",
    "\n",
    "OLS_Pvalues.max()"
   ]
  },
  {
   "cell_type": "code",
   "execution_count": 46,
   "metadata": {},
   "outputs": [
    {
     "data": {
      "text/plain": [
       "51"
      ]
     },
     "execution_count": 46,
     "metadata": {},
     "output_type": "execute_result"
    }
   ],
   "source": [
    "# Number of non-significant GWAS P-values\n",
    "\n",
    "(OLS_Pvalues >.00000005).sum()"
   ]
  },
  {
   "cell_type": "code",
   "execution_count": 51,
   "metadata": {},
   "outputs": [
    {
     "data": {
      "text/plain": [
       "1.0835134807259611e-27"
      ]
     },
     "execution_count": 51,
     "metadata": {},
     "output_type": "execute_result"
    }
   ],
   "source": [
    "# GWAS minimum P-vlaue\n",
    "\n",
    "OLS_Pvalues.min()"
   ]
  }
 ],
 "metadata": {
  "kernelspec": {
   "display_name": "Python 3",
   "language": "python",
   "name": "python3"
  },
  "language_info": {
   "codemirror_mode": {
    "name": "ipython",
    "version": 3
   },
   "file_extension": ".py",
   "mimetype": "text/x-python",
   "name": "python",
   "nbconvert_exporter": "python",
   "pygments_lexer": "ipython3",
   "version": "3.8.5"
  }
 },
 "nbformat": 4,
 "nbformat_minor": 4
}
