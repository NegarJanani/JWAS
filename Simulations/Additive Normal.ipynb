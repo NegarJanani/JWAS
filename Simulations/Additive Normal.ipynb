{
 "cells": [
  {
   "cell_type": "code",
   "execution_count": 1,
   "metadata": {},
   "outputs": [],
   "source": [
    "import numpy as np\n",
    "import random\n",
    "import scipy as sp\n",
    "import pandas as pd\n",
    "import seaborn as sns\n",
    "import sklearn.linear_model\n",
    "import matplotlib.pyplot as plt\n",
    "from statsmodels.api import OLS\n",
    "import statsmodels.api as sm\n",
    "from sklearn.linear_model import LinearRegression\n",
    "from scipy import stats\n",
    "from scipy.stats import gaussian_kde as GKDE\n",
    "from scipy.stats import uniform, norm, beta,skewnorm,gamma, beta, f_oneway, wilcoxon,kruskal, ranksums\n",
    "from mpl_toolkits import mplot3d\n",
    "import scipy.io as sio\n",
    "from statsmodels.distributions.empirical_distribution import ECDF\n",
    "import scikit_posthocs as sp"
   ]
  },
  {
   "cell_type": "code",
   "execution_count": 3,
   "metadata": {},
   "outputs": [],
   "source": [
    "# Generating SNP vector for 15% < MAF < 50% \n",
    "\n",
    "nSamp = 10000\n",
    "seedinit1 = 1\n",
    "as1=np.zeros(nSamp)\n",
    "as2=np.zeros(nSamp)\n",
    "np.random.seed(seedinit1)\n",
    "SV=np.random.uniform(0.15,0.5,1)   \n",
    "unifs1=np.random.uniform(0,1,nSamp)\n",
    "for i in range(nSamp):\n",
    "    if unifs1[i] <= SV:\n",
    "        as1[i]=1\n",
    "\n",
    "seedinit2 = seedinit1+1\n",
    "np.random.seed(seedinit2)            \n",
    "unifs2=np.random.uniform(0,1,nSamp)\n",
    "for j in range(nSamp):\n",
    "    if unifs2[j] <= SV:\n",
    "        as2[j]=1\n",
    "    \n",
    "Xs=as1+as2"
   ]
  },
  {
   "cell_type": "code",
   "execution_count": 4,
   "metadata": {},
   "outputs": [
    {
     "name": "stdout",
     "output_type": "stream",
     "text": [
      "0.014593989375535759\n",
      "\n",
      "0.8854060106244642\n"
     ]
    }
   ],
   "source": [
    "# Computing standard error for Xs \n",
    "\n",
    "Xs_bar=np.mean(Xs)\n",
    "Sxx = np.sum(Xs*Xs)-nSamp*Xs_bar*Xs_bar\n",
    "\n",
    "sigma=.9\n",
    "\n",
    "SEb= np.sqrt(sigma/Sxx)\n",
    "print(SEb)\n",
    "\n",
    "print()\n",
    "SEe=.9-SEb\n",
    "print(SEe)"
   ]
  },
  {
   "cell_type": "code",
   "execution_count": 5,
   "metadata": {},
   "outputs": [
    {
     "name": "stdout",
     "output_type": "stream",
     "text": [
      "4826\n",
      "4251\n",
      "923\n"
     ]
    }
   ],
   "source": [
    "# Computing the number of each SNP group \"0\", \"1\", \"2\"\n",
    "\n",
    "N0=0\n",
    "N1=0\n",
    "N2=0\n",
    "for i in range(nSamp):\n",
    "    if Xs[i]==0 :\n",
    "        N0=N0+1\n",
    "    elif Xs[i]==1:\n",
    "        N1=N1+1\n",
    "    else:\n",
    "        N2=N2+1\n",
    "\n",
    "print(N0)\n",
    "print(N1)\n",
    "print(N2) "
   ]
  },
  {
   "cell_type": "code",
   "execution_count": 6,
   "metadata": {},
   "outputs": [],
   "source": [
    "# Simulating the vector of phynotype for each SNP group for additive Normal Case\n",
    "\n",
    "seedinit3 = seedinit2+1\n",
    "np.random.seed(seedinit3)\n",
    "\n",
    "# Generate the mean for each phynotype group\n",
    "B0= norm.rvs(loc=0.0282, scale=.75, size=N0)\n",
    "B1= norm.rvs(loc=.10438,   scale=.75, size=N1)\n",
    "B2= norm.rvs(loc=.2526 , scale=.75, size=N2)\n",
    "\n",
    "# Generate the error (noise) for each phynotype group\n",
    "e0=np.random.normal(0, SEb,size=N0)\n",
    "e1=np.random.normal(0, SEb,size=N1)\n",
    "e2=np.random.normal(0, SEb,size=N2)\n",
    "\n",
    "# Simulated phynotype groups using generated mean and error\n",
    "y_obs0=B0+e0\n",
    "y_obs1=B1+e1\n",
    "y_obs2=B2+e2\n",
    "\n",
    "# Finding indices for each SNP group\n",
    "index0=np.where(Xs == 0)\n",
    "index1=np.where(Xs == 1)\n",
    "index2=np.where(Xs == 2)\n",
    "\n",
    "# Separating SNP vector into three SNPs group \n",
    "Xs0=Xs[index0]\n",
    "Xs1=Xs[index1]\n",
    "Xs2=Xs[index2]\n",
    "\n",
    "# Estimating the probability density function for each simulated phynotype group\n",
    "kde_y_obs0= GKDE(y_obs0)\n",
    "kde_y_obs1= GKDE(y_obs1)\n",
    "kde_y_obs2= GKDE(y_obs2)"
   ]
  },
  {
   "cell_type": "code",
   "execution_count": 8,
   "metadata": {},
   "outputs": [
    {
     "name": "stdout",
     "output_type": "stream",
     "text": [
      "0.7473665327171599\n",
      "0.7497725504964229\n",
      "0.7312497278648243\n"
     ]
    }
   ],
   "source": [
    "# Computing standard error for each phynotype group\n",
    "\n",
    "y_obs0_bar=np.mean(y_obs0)\n",
    "\n",
    "Sy0 = np.sum(y_obs0*y_obs0)-N0*y_obs0_bar*y_obs0_bar\n",
    "\n",
    "SEy0= np.sqrt(Sy0/(N0-1))\n",
    "\n",
    "\n",
    "y_obs1_bar=np.mean(y_obs1)\n",
    "\n",
    "Sy1 = np.sum(y_obs1*y_obs1)-N1*y_obs1_bar*y_obs1_bar\n",
    "\n",
    "SEy1= np.sqrt(Sy1/(N1-1))\n",
    "\n",
    "\n",
    "y_obs2_bar=np.mean(y_obs2)\n",
    "\n",
    "Sy2 = np.sum(y_obs2*y_obs2)-N2*y_obs2_bar*y_obs2_bar\n",
    "\n",
    "SEy2= np.sqrt(Sy2/(N2-1))\n",
    "\n",
    "y=np.concatenate((y_obs0, y_obs1,y_obs2), axis=None) \n",
    "\n",
    "Xs=np.concatenate((Xs0,Xs1,Xs2), axis=None) \n",
    "print(SEy0)\n",
    "print(SEy1)\n",
    "print(SEy2)"
   ]
  },
  {
   "cell_type": "code",
   "execution_count": 9,
   "metadata": {},
   "outputs": [
    {
     "data": {
      "text/plain": [
       "<matplotlib.legend.Legend at 0x125d84fd0>"
      ]
     },
     "execution_count": 9,
     "metadata": {},
     "output_type": "execute_result"
    },
    {
     "data": {
      "image/png": "[encoded data removed]",
      "text/plain": [
       "<Figure size 432x288 with 1 Axes>"
      ]
     },
     "metadata": {
      "needs_background": "light"
     },
     "output_type": "display_data"
    }
   ],
   "source": [
    "# Plot of the mean of generated phynotype\n",
    "\n",
    "ax=sns.kdeplot(B0,color='b',label='B0',linewidth=2)\n",
    "ax=sns.kdeplot(B1,color='r',label='B1',linewidth=2)\n",
    "ax=sns.kdeplot(B2,color='g',label='B2',linewidth=2)\n",
    "ax.legend()"
   ]
  },
  {
   "cell_type": "code",
   "execution_count": 14,
   "metadata": {},
   "outputs": [
    {
     "name": "stdout",
     "output_type": "stream",
     "text": [
      "Parametrs =  -0.000658810261801146 [0.10043452]\n"
     ]
    },
    {
     "data": {
      "image/png": "[encoded data removed]",
      "text/plain": [
       "<Figure size 432x288 with 1 Axes>"
      ]
     },
     "metadata": {
      "needs_background": "light"
     },
     "output_type": "display_data"
    }
   ],
   "source": [
    "# Plot of GWAS (Regression) for the SNP and phynotype vectors \n",
    "\n",
    "lin_reg= sklearn.linear_model.LinearRegression()\n",
    "lin_reg.fit(np.c_[Xs],y)\n",
    "print('Parametrs = ', lin_reg.intercept_ ,  lin_reg.coef_)\n",
    "\n",
    "plt.plot(Xs, y,'.');\n",
    "plt.plot(np.array([0, 2]), lin_reg.predict(np.c_[np.array([0,2])]), color='r');"
   ]
  },
  {
   "cell_type": "code",
   "execution_count": 15,
   "metadata": {},
   "outputs": [
    {
     "name": "stdout",
     "output_type": "stream",
     "text": [
      "                            OLS Regression Results                            \n",
      "==============================================================================\n",
      "Dep. Variable:                      y   R-squared:                       0.008\n",
      "Model:                            OLS   Adj. R-squared:                  0.007\n",
      "Method:                 Least Squares   F-statistic:                     76.41\n",
      "Date:                Mon, 05 Dec 2022   Prob (F-statistic):           2.67e-18\n",
      "Time:                        14:18:06   Log-Likelihood:                -11270.\n",
      "No. Observations:               10000   AIC:                         2.254e+04\n",
      "Df Residuals:                    9998   BIC:                         2.256e+04\n",
      "Df Model:                           1                                         \n",
      "Covariance Type:            nonrobust                                         \n",
      "==============================================================================\n",
      "                 coef    std err          t      P>|t|      [0.025      0.975]\n",
      "------------------------------------------------------------------------------\n",
      "const         -0.0007      0.010     -0.064      0.949      -0.021       0.019\n",
      "x1             0.1004      0.011      8.741      0.000       0.078       0.123\n",
      "==============================================================================\n",
      "Omnibus:                        1.244   Durbin-Watson:                   2.053\n",
      "Prob(Omnibus):                  0.537   Jarque-Bera (JB):                1.239\n",
      "Skew:                           0.027   Prob(JB):                        0.538\n",
      "Kurtosis:                       3.001   Cond. No.                         2.33\n",
      "==============================================================================\n",
      "\n",
      "Notes:\n",
      "[1] Standard Errors assume that the covariance matrix of the errors is correctly specified.\n"
     ]
    }
   ],
   "source": [
    "# Regresssion summery for GWAS\n",
    "\n",
    "X = sm.add_constant(Xs)\n",
    "est = sm.OLS(y, X)\n",
    "est2 = est.fit()\n",
    "print(est2.summary())"
   ]
  },
  {
   "cell_type": "code",
   "execution_count": 16,
   "metadata": {},
   "outputs": [
    {
     "data": {
      "text/plain": [
       "2.674064472585319e-18"
      ]
     },
     "execution_count": 16,
     "metadata": {},
     "output_type": "execute_result"
    }
   ],
   "source": [
    "# GWAS P_Value\n",
    "\n",
    "est2.pvalues[1]"
   ]
  },
  {
   "cell_type": "code",
   "execution_count": 17,
   "metadata": {},
   "outputs": [
    {
     "data": {
      "text/plain": [
       "<matplotlib.legend.Legend at 0x1263d3d60>"
      ]
     },
     "execution_count": 17,
     "metadata": {},
     "output_type": "execute_result"
    },
    {
     "data": {
      "image/png": "[encoded data removed]",
      "text/plain": [
       "<Figure size 432x288 with 1 Axes>"
      ]
     },
     "metadata": {
      "needs_background": "light"
     },
     "output_type": "display_data"
    }
   ],
   "source": [
    "# Plot of the three phynotype group\n",
    "\n",
    "ax=sns.kdeplot(y_obs0,color='b',label='Y0',linewidth=2)\n",
    "ax=sns.kdeplot(y_obs1,color='r',label='Y1',linewidth=2)\n",
    "ax=sns.kdeplot(y_obs2,color='g',label='Y2',linewidth=2)\n",
    "ax.legend()"
   ]
  },
  {
   "cell_type": "code",
   "execution_count": 18,
   "metadata": {},
   "outputs": [],
   "source": [
    "# Generating initial Betas for each group\n",
    "\n",
    "seedinit4 = seedinit3+1\n",
    "np.random.seed(seedinit4)\n",
    "Beta0=norm.rvs(loc=y_obs0_bar, scale=SEy0,size=N0)\n",
    "Beta1=norm.rvs(loc=y_obs1_bar, scale=SEy1,size=N1)\n",
    "Beta2=norm.rvs(loc=y_obs2_bar, scale=SEy2,size=N2)"
   ]
  },
  {
   "cell_type": "code",
   "execution_count": 20,
   "metadata": {},
   "outputs": [],
   "source": [
    "# Generating initial errors for each group\n",
    "\n",
    "seedinit5 = seedinit4+1\n",
    "np.random.seed(seedinit5)\n",
    "eps0=np.random.normal(0,.35,size=N0)\n",
    "eps1=np.random.normal(0,.35,size=N1)\n",
    "eps2=np.random.normal(0,.35,size=N2)"
   ]
  },
  {
   "cell_type": "code",
   "execution_count": 21,
   "metadata": {},
   "outputs": [],
   "source": [
    "# Initial phynotype for each group\n",
    "y_initi0=Beta0+eps0\n",
    "y_initi1=Beta1+eps1\n",
    "y_initi2=Beta2+eps2\n",
    "\n",
    "# Estimating the probability density function for each initial phynotype group\n",
    "kde_y_initi0 = GKDE(y_initi0)\n",
    "kde_y_initi1 = GKDE(y_initi1)\n",
    "kde_y_initi2 = GKDE(y_initi2)"
   ]
  },
  {
   "cell_type": "code",
   "execution_count": 22,
   "metadata": {},
   "outputs": [
    {
     "data": {
      "text/plain": [
       "<matplotlib.legend.Legend at 0x1264bce80>"
      ]
     },
     "execution_count": 22,
     "metadata": {},
     "output_type": "execute_result"
    },
    {
     "data": {
      "image/png": "[encoded data removed]",
      "text/plain": [
       "<Figure size 504x504 with 1 Axes>"
      ]
     },
     "metadata": {
      "needs_background": "light"
     },
     "output_type": "display_data"
    }
   ],
   "source": [
    "# Plot of three initial phynotype\n",
    "\n",
    "plt.figure(figsize=[7,7])\n",
    "\n",
    "ax=sns.kdeplot(y_initi0,color='b',label='y_ini0',alpha=0.5)\n",
    "ax=sns.kdeplot(y_initi1,color='r',label='y_ini1')\n",
    "ax=sns.kdeplot(y_initi2,color='g',label='y_ini2')\n",
    "ax.legend()"
   ]
  },
  {
   "cell_type": "code",
   "execution_count": 23,
   "metadata": {},
   "outputs": [],
   "source": [
    "# Rejection sampling function to update initials\n",
    "# Creating indexes for samples to keep from initial samples using rejection sampling \n",
    "\n",
    "def rejection_sampling(r):\n",
    "    N = r.size \n",
    "    seedinit6 = seedinit5+1\n",
    "    np.random.seed(seedinit6)\n",
    "    reject_prob = np.random.uniform(low=0, high=1, size=N) \n",
    "    r = r/np.max(r)\n",
    "    idx = np.where(r >= reject_prob)[0]\n",
    "    return idx"
   ]
  },
  {
   "cell_type": "code",
   "execution_count": 24,
   "metadata": {},
   "outputs": [],
   "source": [
    "# Computing RN weight\n",
    "\n",
    "r0=np.divide(kde_y_obs0(y_initi0),kde_y_initi0(y_initi0))\n",
    "r1=np.divide(kde_y_obs1(y_initi1),kde_y_initi1(y_initi1))\n",
    "r2=np.divide(kde_y_obs2(y_initi2),kde_y_initi2(y_initi2))"
   ]
  },
  {
   "cell_type": "code",
   "execution_count": 25,
   "metadata": {},
   "outputs": [
    {
     "name": "stdout",
     "output_type": "stream",
     "text": [
      "accept_rate0= 0.5745959386655616\n",
      "\n",
      "accept_rate1= 0.8612091272641731\n",
      "\n",
      "accept_rate2= 0.8028169014084507\n",
      "\n",
      "Mean(r0)= 1.0016343908763963\n",
      "\n",
      "Mean(r1)= 1.0026345005268136\n",
      "\n",
      "Mean(r2)= 1.0020472742771795\n"
     ]
    }
   ],
   "source": [
    "# Performing rejection sampling\n",
    "samples_to_keep0 = rejection_sampling(r0) \n",
    "samples_to_keep1 = rejection_sampling(r1)\n",
    "samples_to_keep2 = rejection_sampling(r2)\n",
    "\n",
    "# Computing acceptance rate from performing rejection sampling\n",
    "accept_rate0 = samples_to_keep0.size/Beta0.shape[0]\n",
    "accept_rate1 = samples_to_keep1.size/Beta1.shape[0]\n",
    "accept_rate2 = samples_to_keep2.size/Beta2.shape[0]\n",
    "\n",
    "# printing acceptance rate\n",
    "print(\"accept_rate0=\",accept_rate0) \n",
    "print()\n",
    "print(\"accept_rate1=\",accept_rate1)\n",
    "print()\n",
    "print(\"accept_rate2=\",accept_rate2)\n",
    "print()\n",
    "\n",
    "print(\"Mean(r0)=\",np.mean(r0))\n",
    "print()\n",
    "print(\"Mean(r1)=\",np.mean(r1))\n",
    "print()\n",
    "print(\"Mean(r2)=\",np.mean(r2))"
   ]
  },
  {
   "cell_type": "code",
   "execution_count": 26,
   "metadata": {},
   "outputs": [],
   "source": [
    "# Samples of updated Beta\n",
    "updated_Beta0 =Beta0[samples_to_keep0] \n",
    "updated_Beta1 =Beta1[samples_to_keep1]\n",
    "updated_Beta2 =Beta2[samples_to_keep2]\n",
    "\n",
    "# Updated Beta density\n",
    "updated_y0 =y_initi0[samples_to_keep0] \n",
    "updated_y1 =y_initi1[samples_to_keep1] \n",
    "updated_y2 =y_initi2[samples_to_keep2] \n",
    "\n",
    "# Samples of updated phynotype\n",
    "kde_updated_y0 = GKDE(y_initi0, weights=r0)\n",
    "kde_updated_y1 = GKDE(y_initi1, weights=r1)\n",
    "kde_updated_y2 = GKDE(y_initi2, weights=r2)\n",
    "\n",
    "# Updated phynotype density\n",
    "kde_updated_Beta0 = GKDE(Beta0, weights=r0)\n",
    "kde_updated_Beta1 = GKDE(Beta1, weights=r1)\n",
    "kde_updated_Beta2 = GKDE(Beta2, weights=r2)"
   ]
  },
  {
   "cell_type": "code",
   "execution_count": 27,
   "metadata": {},
   "outputs": [],
   "source": [
    "# Samples of updated error\n",
    "updated_eps0 =eps0[samples_to_keep0]\n",
    "updated_eps1 =eps1[samples_to_keep1] \n",
    "updated_eps2 =eps2[samples_to_keep2]\n",
    "\n",
    "# Updated error density\n",
    "kde_updated_eps0 = GKDE(eps0, weights=r0)\n",
    "kde_updated_eps1 = GKDE(eps1, weights=r1)\n",
    "kde_updated_eps2 = GKDE(eps2, weights=r2)"
   ]
  },
  {
   "cell_type": "code",
   "execution_count": 28,
   "metadata": {},
   "outputs": [
    {
     "data": {
      "text/plain": [
       "KruskalResult(statistic=60.57939534936668, pvalue=7.004085539041448e-14)"
      ]
     },
     "execution_count": 28,
     "metadata": {},
     "output_type": "execute_result"
    }
   ],
   "source": [
    "# Performing kruskal wallis test on updated means\n",
    "\n",
    "stats.kruskal(updated_Beta0, updated_Beta1, updated_Beta2)"
   ]
  },
  {
   "cell_type": "code",
   "execution_count": 29,
   "metadata": {},
   "outputs": [
    {
     "data": {
      "text/plain": [
       "F_onewayResult(statistic=31.97369384822426, pvalue=1.498101440132958e-14)"
      ]
     },
     "execution_count": 29,
     "metadata": {},
     "output_type": "execute_result"
    }
   ],
   "source": [
    "# Performing F-test test on updated means\n",
    "\n",
    "f_oneway(updated_Beta0, updated_Beta1, updated_Beta2)"
   ]
  },
  {
   "cell_type": "markdown",
   "metadata": {},
   "source": [
    "### Repeating the Simulation 200 times to test the accuracy of the method"
   ]
  },
  {
   "cell_type": "code",
   "execution_count": 30,
   "metadata": {},
   "outputs": [
    {
     "data": {
      "text/plain": [
       "(10000, 200)"
      ]
     },
     "execution_count": 30,
     "metadata": {},
     "output_type": "execute_result"
    }
   ],
   "source": [
    "# Generating 200 SNP Vectors randomly for 15% < MAF < 50% \n",
    "\n",
    "nSamp = 10000\n",
    "nIter = 200\n",
    "seedinit1 = 1\n",
    "ac1=np.zeros((nSamp,nIter))\n",
    "ac2=np.zeros((nSamp,nIter))\n",
    "CV=np.zeros(nIter)\n",
    "for j in range(nIter):\n",
    "    seedinit1 = seedinit1 + j\n",
    "    np.random.seed(seedinit1)\n",
    "    CV[j]=np.random.uniform(0.5,0.15,1)\n",
    "    \n",
    "    unifc1=np.random.uniform(0,1,nSamp)\n",
    "    unifc2=np.random.uniform(0,1,nSamp)\n",
    "    \n",
    "    for i in range(nSamp):\n",
    "        if unifc1[i] <= CV[j]:\n",
    "            ac1[i,j]=1\n",
    "            \n",
    "    for k in range(nSamp):\n",
    "        if unifc2[k] <= CV[j]:\n",
    "            ac2[k,j]=1\n",
    "            \n",
    "Xs=ac1+ac2\n",
    "Xs.shape"
   ]
  },
  {
   "cell_type": "code",
   "execution_count": 31,
   "metadata": {},
   "outputs": [],
   "source": [
    "# Computing the number of each SNP group \"0\", \"1\", \"2\" for each Xs\n",
    "\n",
    "N=np.zeros((3,nIter))\n",
    "for j in range(nIter):\n",
    "    for i in range(nSamp):\n",
    "        if Xs[i,j]==0 :\n",
    "            N[0,j]+= 1\n",
    "        elif Xs[i,j]==1:\n",
    "            N[1,j] += 1\n",
    "        else:\n",
    "            N[2,j]+= 1"
   ]
  },
  {
   "cell_type": "code",
   "execution_count": 32,
   "metadata": {},
   "outputs": [],
   "source": [
    "# Computing standard error for each Xs \n",
    "\n",
    "Xs_bar = np.zeros(nIter)\n",
    "SEb = np.zeros(nIter)\n",
    "SEe=np.zeros(nIter)\n",
    "for j in range(nIter):\n",
    "    Xs_bar[j]=np.mean(Xs[:,j])\n",
    "    Sxx = np.sum(Xs[:,j]*Xs[:,j])-nSamp*Xs_bar[j]*Xs_bar[j]\n",
    "    sigma=.9\n",
    "    SEb[j]= np.sqrt(sigma/Sxx)\n",
    "    SEe[j]=.9-SEb[j]"
   ]
  },
  {
   "cell_type": "code",
   "execution_count": 33,
   "metadata": {},
   "outputs": [],
   "source": [
    "# First generate the mean and error for each phynotype group\n",
    "\n",
    "B = np.zeros((nSamp,nIter))\n",
    "e = np.zeros((nSamp,nIter))\n",
    "y_obs= np.zeros((nSamp,nIter))\n",
    "seedinit2 = seedinit1+1\n",
    "for j in range(nIter):    \n",
    "    seedinit2 = seedinit2+j\n",
    "    np.random.seed(seedinit2)\n",
    "    B[0:int(N[0,j]),j] = norm.rvs(loc=0.0272 , scale=.7, size=int(N[0,j]))\n",
    "    B[int(N[0,j]):int(N[0,j])+int(N[1,j]),j] = norm.rvs(loc=.10408, scale=.7, size=int(N[1,j]))\n",
    "    B[int(N[0,j])+int(N[1,j]):nSamp,j] = norm.rvs(loc=.2491 , scale=.7, size=int(N[2,j]))\n",
    "    \n",
    "    e[0:int(N[0,j]),j]=np.random.normal(0,SEb[j] ,size=int(N[0,j]))\n",
    "    e[int(N[0,j]):int(N[0,j])+int(N[1,j]),j]=np.random.normal(0,SEb[j],size=int(N[1,j]))\n",
    "    e[int(N[1,j])+int(N[0,j]):nSamp,j]=np.random.normal(0,SEb[j],size=int(N[2,j]))\n",
    "\n",
    "# Simulated phynotype using generated mean and error of each group       \n",
    "y_obs=B+e"
   ]
  },
  {
   "cell_type": "code",
   "execution_count": 34,
   "metadata": {},
   "outputs": [],
   "source": [
    "# Computing Standard Error for each Phynotype group\n",
    "\n",
    "y_obs_bar = np.zeros((3,nIter))\n",
    "SEy=np.zeros((3,nIter))\n",
    "Sy=np.zeros(3)\n",
    "for j in range(nIter):\n",
    "        y_obs_bar[0,j]=np.mean(y_obs[0:int(N[0,j]),j])\n",
    "        y_obs_bar[1,j]=np.mean(y_obs[int(N[0,j]):int(N[1,j])+int(N[0,j]),j])\n",
    "        y_obs_bar[2,j]=np.mean(y_obs[int(N[1,j])+int(N[0,j]):nSamp,j])\n",
    "        Sy[0]= np.sum(y_obs[0:int(N[0,j]),j]*y_obs[0:int(N[0,j]),j])-N[0,j]*y_obs_bar[0,j]*y_obs_bar[0,j]\n",
    "        Sy[1]= np.sum(y_obs[int(N[0,j]):int(N[0,j])+int(N[1,j]),j]*y_obs[int(N[0,j]):int(N[1,j])+int(N[0,j]),j])-N[1,j]*y_obs_bar[1,j]*y_obs_bar[1,j]\n",
    "        Sy[2]= np.sum(y_obs[int(N[1,j])+int(N[0,j]):nSamp,j]*y_obs[int(N[1,j])+int(N[0,j]):nSamp,j])-N[2,j]*y_obs_bar[2,j]*y_obs_bar[2,j]\n",
    "        SEy[0,j]= np.sqrt(Sy[0]/(int(N[0,j])-1))\n",
    "        SEy[1,j]= np.sqrt(Sy[1]/(int(N[1,j])-1))\n",
    "        SEy[2,j]= np.sqrt(Sy[2]/(int(N[2,j])-1))"
   ]
  },
  {
   "cell_type": "code",
   "execution_count": 35,
   "metadata": {},
   "outputs": [],
   "source": [
    "# Generating initial beta and error for each group\n",
    "\n",
    "Beta = np.zeros((nSamp,nIter))\n",
    "eps = np.zeros((nSamp,nIter))\n",
    "y_initi= np.zeros((nSamp,nIter))\n",
    "seedinit3 = seedinit2+1\n",
    "for j in range(nIter):    \n",
    "    seedinit3 = seedinit3+j\n",
    "    np.random.seed(seedinit3)\n",
    "    Beta[0:int(N[0,j]),j] = norm.rvs(loc=y_obs_bar[0,j] , scale=SEy[0,j], size=int(N[0,j]))\n",
    "    Beta[int(N[0,j]):int(N[1,j])+int(N[0,j]),j] = norm.rvs(loc=y_obs_bar[1,j], scale=SEy[1,j], size=int(N[1,j]))\n",
    "    Beta[int(N[1,j])+int(N[0,j]):nSamp,j] = norm.rvs(loc=y_obs_bar[2,j] , scale=SEy[2,j], size=int(N[2,j]))\n",
    "    \n",
    "    eps[0:int(N[0,j]),j]=np.random.normal(0,.35,size=int(N[0,j]))\n",
    "    eps[int(N[0,j]):int(N[1,j])+int(N[0,j]),j]=np.random.normal(0,.35,size=int(N[1,j]))\n",
    "    eps[int(N[1,j])+int(N[0,j]):nSamp,j]=np.random.normal(0,.35,size=int(N[2,j]))\n",
    "\n",
    "# Simulated initial phynotype using generated initial means and initial errors   \n",
    "y_initi=Beta+eps"
   ]
  },
  {
   "cell_type": "code",
   "execution_count": 36,
   "metadata": {},
   "outputs": [],
   "source": [
    "# Computing RN weights\n",
    "\n",
    "r = np.zeros((nSamp,nIter))\n",
    "for j in range(nIter):\n",
    "            kde_y_obs0=GKDE(y_obs[0:int(N[0,j]),j])\n",
    "            kde_y_initi0=GKDE(y_initi[0:int(N[0,j]),j])\n",
    "            r[0:int(N[0,j]),j]=np.divide(kde_y_obs0(y_initi[0:int(N[0,j]),j]),kde_y_initi0(y_initi[0:int(N[0,j]),j]))\n",
    "            kde_y_obs1=GKDE(y_obs[int(N[0,j]):int(N[1,j])+int(N[0,j]),j])\n",
    "            kde_y_initi1=GKDE(y_initi[int(N[0,j]):int(N[1,j])+int(N[0,j]),j])\n",
    "            r[int(N[0,j]):int(N[1,j])+int(N[0,j]),j]=np.divide(kde_y_obs1(y_initi[int(N[0,j]):int(N[1,j])+int(N[0,j]),j]),kde_y_initi1(y_initi[int(N[0,j]):int(N[1,j])+int(N[0,j]),j]))\n",
    "            kde_y_obs2=GKDE(y_obs[int(N[1,j])+int(N[0,j]):nSamp,j])\n",
    "            kde_y_initi2=GKDE(y_initi[int(N[0,j])+int(N[1,j]):nSamp,j])\n",
    "            r[int(N[0,j])+int(N[1,j]):nSamp,j]=np.divide(kde_y_obs2(y_initi[int(N[0,j])+int(N[1,j]):nSamp,j]),kde_y_initi2(y_initi[int(N[0,j])+int(N[1,j]):nSamp,j]))\n",
    "            "
   ]
  },
  {
   "cell_type": "code",
   "execution_count": 37,
   "metadata": {},
   "outputs": [],
   "source": [
    "# Rejection sampling function to update initials\n",
    "# Creating indexes for samples to keep from initial samples using rejection sampling \n",
    "\n",
    "def rejection_sampling(r):\n",
    "    N = r.size \n",
    "    seedinit4 = seedinit3+1\n",
    "    np.random.seed(seedinit4)\n",
    "    reject_prob = np.random.uniform(low=0, high=1, size=N) \n",
    "    r = r/np.max(r)\n",
    "    idx = np.where(r >= reject_prob)[0]\n",
    "    return idx"
   ]
  },
  {
   "cell_type": "code",
   "execution_count": 38,
   "metadata": {},
   "outputs": [],
   "source": [
    "# Computing rejection sampling size\n",
    "\n",
    "samples_to_keepSize=np.zeros((3,nIter))\n",
    "accept_rate=np.zeros((3,nIter))\n",
    "for j in range(nIter):\n",
    "    samples_to_keepSize[0,j] = rejection_sampling(r[0:int(N[0,j]),j]).size\n",
    "    samples_to_keepSize[1,j]=rejection_sampling(r[int(N[0,j]):int(N[1,j])+int(N[0,j]),j]).size\n",
    "    samples_to_keepSize[2,j] = rejection_sampling(r[int(N[1,j])+int(N[0,j]):nSamp,j]).size\n",
    "\n",
    "# Computing acceptance rate from performing rejection sampling\n",
    "    accept_rate[0,j] = samples_to_keepSize[0,j]/N[0,j]\n",
    "    accept_rate[1,j] = samples_to_keepSize[1,j]/N[1,j]\n",
    "    accept_rate[2,j] = samples_to_keepSize[2,j]/N[2,j]"
   ]
  },
  {
   "cell_type": "code",
   "execution_count": 39,
   "metadata": {},
   "outputs": [],
   "source": [
    "# Performing rejection sampling\n",
    "samples_to_keep=np.zeros((nSamp,nIter))\n",
    "for j in range(nIter):\n",
    "    samples_to_keep[0:int(samples_to_keepSize[0,j]),j]= rejection_sampling(r[0:int(N[0,j]),j])\n",
    "    samples_to_keep[int(samples_to_keepSize[0,j]):int(samples_to_keepSize[0,j])+int(samples_to_keepSize[1,j]),j]= rejection_sampling(r[int(N[0,j]):int(N[0,j])+int(N[1,j]),j])+int(N[0,j])\n",
    "    samples_to_keep[int(samples_to_keepSize[0,j])+int(samples_to_keepSize[1,j]):int(samples_to_keepSize[0,j])+int(samples_to_keepSize[1,j])+int(samples_to_keepSize[2,j]),j]= rejection_sampling(r[int(N[0,j])+int(N[1,j]):nSamp,j])+int(N[0,j])+int(N[1,j])\n",
    "    "
   ]
  },
  {
   "cell_type": "code",
   "execution_count": 40,
   "metadata": {},
   "outputs": [],
   "source": [
    "# Samples from updated Beta, phynotype, and error\n",
    "\n",
    "updated_Beta=np.zeros((nSamp,nIter))\n",
    "updated_y=np.zeros((nSamp,nIter))\n",
    "updated_eps=np.zeros((nSamp,nIter))\n",
    "for j in range(nIter):\n",
    "    updated_Beta[0:int(samples_to_keepSize[0,j]),j] =Beta[samples_to_keep[0:int(samples_to_keepSize[0,j]),j].astype(int),j]\n",
    "    updated_Beta[int(samples_to_keepSize[0,j]):int(samples_to_keepSize[0,j])+int(samples_to_keepSize[1,j]),j] =Beta[samples_to_keep[int(samples_to_keepSize[0,j]):int(samples_to_keepSize[0,j])+int(samples_to_keepSize[1,j]),j].astype(int),j]\n",
    "    updated_Beta[int(samples_to_keepSize[0,j])+int(samples_to_keepSize[1,j]):int(samples_to_keepSize[0,j])+int(samples_to_keepSize[1,j])+int(samples_to_keepSize[2,j]),j] =Beta[samples_to_keep[int(samples_to_keepSize[0,j])+int(samples_to_keepSize[1,j]):int(samples_to_keepSize[0,j])+int(samples_to_keepSize[1,j])+int(samples_to_keepSize[2,j]),j].astype(int),j]\n",
    "    \n",
    "    updated_y[0:int(samples_to_keepSize[0,j]),j] =y_initi[samples_to_keep[0:int(samples_to_keepSize[0,j]),j].astype(int),j]\n",
    "    updated_y[int(samples_to_keepSize[0,j]):int(samples_to_keepSize[0,j])+int(samples_to_keepSize[1,j]),j] =y_initi[samples_to_keep[int(samples_to_keepSize[0,j]):int(samples_to_keepSize[0,j])+int(samples_to_keepSize[1,j]),j].astype(int),j]\n",
    "    updated_y[int(samples_to_keepSize[0,j])+int(samples_to_keepSize[1,j]):int(samples_to_keepSize[0,j])+int(samples_to_keepSize[1,j])+int(samples_to_keepSize[2,j]),j] =y_initi[samples_to_keep[int(samples_to_keepSize[0,j])+int(samples_to_keepSize[1,j]):int(samples_to_keepSize[0,j])+int(samples_to_keepSize[1,j])+int(samples_to_keepSize[2,j]),j].astype(int),j]\n",
    "    \n",
    "    updated_eps[0:int(samples_to_keepSize[0,j]),j] =eps[samples_to_keep[0:int(samples_to_keepSize[0,j]),j].astype(int),j]\n",
    "    updated_eps[int(samples_to_keepSize[0,j]):int(samples_to_keepSize[0,j])+int(samples_to_keepSize[1,j]),j] =eps[samples_to_keep[int(samples_to_keepSize[0,j]):int(samples_to_keepSize[0,j])+int(samples_to_keepSize[1,j]),j].astype(int),j]\n",
    "    updated_eps[int(samples_to_keepSize[0,j])+int(samples_to_keepSize[1,j]):int(samples_to_keepSize[0,j])+int(samples_to_keepSize[1,j])+int(samples_to_keepSize[2,j]),j] =eps[samples_to_keep[int(samples_to_keepSize[0,j])+int(samples_to_keepSize[1,j]):int(samples_to_keepSize[0,j])+int(samples_to_keepSize[1,j])+int(samples_to_keepSize[2,j]),j].astype(int),j]\n",
    "    "
   ]
  },
  {
   "cell_type": "code",
   "execution_count": 41,
   "metadata": {},
   "outputs": [],
   "source": [
    "# Performing kruskal wallis test on updated means model\n",
    "\n",
    "KruskalStat=np.zeros(nIter)\n",
    "KruskalPvalue=np.zeros(nIter)\n",
    "for j in range(nIter):\n",
    "    KruskalStat[j]=stats.kruskal(updated_Beta[0:int(samples_to_keepSize[0,j]),j], updated_Beta[int(samples_to_keepSize[0,j]):int(samples_to_keepSize[0,j])+int(samples_to_keepSize[1,j]),j],updated_Beta[int(samples_to_keepSize[0,j])+int(samples_to_keepSize[1,j]):int(samples_to_keepSize[0,j])+int(samples_to_keepSize[1,j])+int(samples_to_keepSize[2,j]),j])[0]\n",
    "    KruskalPvalue[j]=stats.kruskal(updated_Beta[0:int(samples_to_keepSize[0,j]),j], updated_Beta[int(samples_to_keepSize[0,j]):int(samples_to_keepSize[0,j])+int(samples_to_keepSize[1,j]),j],updated_Beta[int(samples_to_keepSize[0,j])+int(samples_to_keepSize[1,j]):int(samples_to_keepSize[0,j])+int(samples_to_keepSize[1,j])+int(samples_to_keepSize[2,j]),j])[1]\n",
    "    "
   ]
  },
  {
   "cell_type": "code",
   "execution_count": 42,
   "metadata": {},
   "outputs": [],
   "source": [
    "# Performing F-test on updated means model\n",
    "fStat=np.zeros(nIter)\n",
    "fPvalue=np.zeros(nIter)\n",
    "for j in range(nIter):\n",
    "    fStat[j]=f_oneway(updated_Beta[0:int(samples_to_keepSize[0,j]),j], updated_Beta[int(samples_to_keepSize[0,j]):int(samples_to_keepSize[0,j])+int(samples_to_keepSize[1,j]),j],updated_Beta[int(samples_to_keepSize[0,j])+int(samples_to_keepSize[1,j]):int(samples_to_keepSize[0,j])+int(samples_to_keepSize[1,j])+int(samples_to_keepSize[2,j]),j])[0]\n",
    "    fPvalue[j]=f_oneway(updated_Beta[0:int(samples_to_keepSize[0,j]),j], updated_Beta[int(samples_to_keepSize[0,j]):int(samples_to_keepSize[0,j])+int(samples_to_keepSize[1,j]),j],updated_Beta[int(samples_to_keepSize[0,j])+int(samples_to_keepSize[1,j]):int(samples_to_keepSize[0,j])+int(samples_to_keepSize[1,j])+int(samples_to_keepSize[2,j]),j])[1]\n",
    "    "
   ]
  },
  {
   "cell_type": "code",
   "execution_count": 43,
   "metadata": {},
   "outputs": [
    {
     "data": {
      "text/plain": [
       "5.4389822444102206e-05"
      ]
     },
     "execution_count": 43,
     "metadata": {},
     "output_type": "execute_result"
    }
   ],
   "source": [
    "# F-test maximum P-vlaue\n",
    "\n",
    "fPvalue.max()"
   ]
  },
  {
   "cell_type": "code",
   "execution_count": 44,
   "metadata": {},
   "outputs": [
    {
     "data": {
      "text/plain": [
       "9.212971994230611e-40"
      ]
     },
     "execution_count": 44,
     "metadata": {},
     "output_type": "execute_result"
    }
   ],
   "source": [
    "# F-test minimum  P-vlaue\n",
    "\n",
    "fPvalue.min()"
   ]
  },
  {
   "cell_type": "code",
   "execution_count": 45,
   "metadata": {},
   "outputs": [
    {
     "data": {
      "text/plain": [
       "5"
      ]
     },
     "execution_count": 45,
     "metadata": {},
     "output_type": "execute_result"
    }
   ],
   "source": [
    "# Number of non-significant F-test P-values\n",
    "\n",
    "(fPvalue >.00000005).sum()"
   ]
  },
  {
   "cell_type": "code",
   "execution_count": 47,
   "metadata": {},
   "outputs": [
    {
     "data": {
      "text/plain": [
       "9.06260232706235e-05"
      ]
     },
     "execution_count": 47,
     "metadata": {},
     "output_type": "execute_result"
    }
   ],
   "source": [
    "# kruskal wallis Maximum P-vlaue\n",
    "\n",
    "KruskalPvalue.max()"
   ]
  },
  {
   "cell_type": "code",
   "execution_count": 59,
   "metadata": {},
   "outputs": [
    {
     "data": {
      "text/plain": [
       "1.1829122786379157e-37"
      ]
     },
     "execution_count": 59,
     "metadata": {},
     "output_type": "execute_result"
    }
   ],
   "source": [
    "# kruskal wallis minimum  P-vlaue\n",
    "\n",
    "KruskalPvalue.min()"
   ]
  },
  {
   "cell_type": "code",
   "execution_count": 48,
   "metadata": {},
   "outputs": [
    {
     "data": {
      "text/plain": [
       "8"
      ]
     },
     "execution_count": 48,
     "metadata": {},
     "output_type": "execute_result"
    }
   ],
   "source": [
    "# Number of non-significant kruskal wallis P-values\n",
    "\n",
    "(KruskalPvalue >.00000005).sum()"
   ]
  },
  {
   "cell_type": "code",
   "execution_count": 50,
   "metadata": {},
   "outputs": [],
   "source": [
    "# Putting three SNPs vector in the same vector to perform regression\n",
    "\n",
    "for j in range(nIter):\n",
    "    index0=np.where(Xs[:,j] == 0)\n",
    "    index1=np.where(Xs[:,j] == 1)\n",
    "    index2=np.where(Xs[:,j] == 2)\n",
    "    Xs0=Xs[:,j][index0]\n",
    "    Xs1=Xs[:,j][index1]\n",
    "    Xs2=Xs[:,j][index2]\n",
    "    Xs[:,j]=np.concatenate((Xs0,Xs1,Xs2), axis=None) "
   ]
  },
  {
   "cell_type": "code",
   "execution_count": 51,
   "metadata": {},
   "outputs": [],
   "source": [
    "# Performing regression on 200 simulated SNP vectors and phynotype vectors \n",
    "\n",
    "OLS_Pvalues=np.zeros(nIter)\n",
    "for j in range(nIter):\n",
    "    X=sm.add_constant(Xs[:,j])\n",
    "    est=sm.OLS(y_obs[:,j],X).fit()\n",
    "    OLS_Pvalues[j]=est.pvalues[1]\n",
    "\n"
   ]
  },
  {
   "cell_type": "code",
   "execution_count": 52,
   "metadata": {},
   "outputs": [
    {
     "data": {
      "text/plain": [
       "8.491864144243868e-07"
      ]
     },
     "execution_count": 52,
     "metadata": {},
     "output_type": "execute_result"
    }
   ],
   "source": [
    "# GWAS maximum P-vlaue\n",
    "\n",
    "OLS_Pvalues.max()"
   ]
  },
  {
   "cell_type": "code",
   "execution_count": 53,
   "metadata": {},
   "outputs": [
    {
     "data": {
      "text/plain": [
       "1.6842602518881864e-36"
      ]
     },
     "execution_count": 53,
     "metadata": {},
     "output_type": "execute_result"
    }
   ],
   "source": [
    "# GWAS minimum P-vlaue\n",
    "\n",
    "OLS_Pvalues.min()"
   ]
  },
  {
   "cell_type": "code",
   "execution_count": 54,
   "metadata": {},
   "outputs": [
    {
     "data": {
      "text/plain": [
       "5"
      ]
     },
     "execution_count": 54,
     "metadata": {},
     "output_type": "execute_result"
    }
   ],
   "source": [
    "# Number of non-significant GWAS P-values\n",
    "\n",
    "(OLS_Pvalues >.00000005).sum()"
   ]
  }
 ],
 "metadata": {
  "kernelspec": {
   "display_name": "Python 3",
   "language": "python",
   "name": "python3"
  },
  "language_info": {
   "codemirror_mode": {
    "name": "ipython",
    "version": 3
   },
   "file_extension": ".py",
   "mimetype": "text/x-python",
   "name": "python",
   "nbconvert_exporter": "python",
   "pygments_lexer": "ipython3",
   "version": "3.8.5"
  }
 },
 "nbformat": 4,
 "nbformat_minor": 4
}
