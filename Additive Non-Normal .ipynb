{
 "cells": [
  {
   "cell_type": "code",
   "execution_count": 1,
   "metadata": {},
   "outputs": [],
   "source": [
    "import numpy as np\n",
    "import random\n",
    "import scipy as sp\n",
    "import pandas as pd\n",
    "import seaborn as sns\n",
    "import sklearn.linear_model\n",
    "import matplotlib.pyplot as plt\n",
    "from statsmodels.api import OLS\n",
    "import statsmodels.api as sm\n",
    "from sklearn.linear_model import LinearRegression\n",
    "from scipy import stats\n",
    "from scipy.stats import gaussian_kde as GKDE\n",
    "from scipy.stats import uniform, norm, beta,skewnorm,gamma\n",
    "from mpl_toolkits import mplot3d\n",
    "import scipy.io as sio\n",
    "from scipy.stats import uniform, norm, beta,skewnorm,gamma, beta, f_oneway, wilcoxon,kruskal, ranksums\n",
    "from statsmodels.distributions.empirical_distribution import ECDF\n",
    "from joblib import dump, load\n",
    "from astropy.table import Table, Column\n",
    "import scikit_posthocs as sp\n",
    "import statistics"
   ]
  },
  {
   "cell_type": "code",
   "execution_count": 219,
   "metadata": {},
   "outputs": [],
   "source": [
    "nSamp = 10000\n",
    "nItr=200\n",
    "#nItr=10000\n",
    "seedinit1 = 1\n",
    "as1=np.zeros(nSamp)\n",
    "as2=np.zeros(nSamp)\n",
    "np.random.seed(seedinit1)\n",
    "SV=np.random.uniform(0.15,0.5,1)   \n",
    "unifs1=np.random.uniform(0,1,nSamp)\n",
    "for i in range(nSamp):\n",
    "    if unifs1[i] <= SV:\n",
    "        as1[i]=1\n",
    "\n",
    "seedinit2 = seedinit1+1\n",
    "np.random.seed(seedinit2)            \n",
    "unifs2=np.random.uniform(0,1,nSamp)\n",
    "for j in range(nSamp):\n",
    "    if unifs2[j] <= SV:\n",
    "        as2[j]=1\n",
    "    \n",
    "Xs=as1+as2"
   ]
  },
  {
   "cell_type": "code",
   "execution_count": 5,
   "metadata": {},
   "outputs": [
    {
     "data": {
      "text/html": [
       "<div>\n",
       "<style scoped>\n",
       "    .dataframe tbody tr th:only-of-type {\n",
       "        vertical-align: middle;\n",
       "    }\n",
       "\n",
       "    .dataframe tbody tr th {\n",
       "        vertical-align: top;\n",
       "    }\n",
       "\n",
       "    .dataframe thead th {\n",
       "        text-align: right;\n",
       "    }\n",
       "</style>\n",
       "<table border=\"1\" class=\"dataframe\">\n",
       "  <thead>\n",
       "    <tr style=\"text-align: right;\">\n",
       "      <th></th>\n",
       "      <th>FID</th>\n",
       "      <th>IID</th>\n",
       "      <th>factor1_scores</th>\n",
       "      <th>factor2scoresflipped</th>\n",
       "      <th>factor3_scores</th>\n",
       "      <th>factor4_scores</th>\n",
       "      <th>factor5_scores</th>\n",
       "      <th>age_enroll</th>\n",
       "      <th>gender</th>\n",
       "      <th>SmokCigNow</th>\n",
       "      <th>...</th>\n",
       "      <th>pc3</th>\n",
       "      <th>pc4</th>\n",
       "      <th>pc5</th>\n",
       "      <th>pc6</th>\n",
       "      <th>pc7</th>\n",
       "      <th>pc8</th>\n",
       "      <th>pc9</th>\n",
       "      <th>pc10</th>\n",
       "      <th>Emphysema-PredominantAxis</th>\n",
       "      <th>Airway-Predominant Axis</th>\n",
       "    </tr>\n",
       "  </thead>\n",
       "  <tbody>\n",
       "    <tr>\n",
       "      <th>0</th>\n",
       "      <td>10005Q</td>\n",
       "      <td>10005Q</td>\n",
       "      <td>-0.289564</td>\n",
       "      <td>-1.385945</td>\n",
       "      <td>-0.220869</td>\n",
       "      <td>0.723142</td>\n",
       "      <td>-0.566232</td>\n",
       "      <td>54.5</td>\n",
       "      <td>2</td>\n",
       "      <td>1</td>\n",
       "      <td>...</td>\n",
       "      <td>0.0052</td>\n",
       "      <td>-0.0107</td>\n",
       "      <td>0.0098</td>\n",
       "      <td>0.0304</td>\n",
       "      <td>-0.0026</td>\n",
       "      <td>-0.0077</td>\n",
       "      <td>-0.0045</td>\n",
       "      <td>0.0127</td>\n",
       "      <td>0.097005</td>\n",
       "      <td>-1.407849</td>\n",
       "    </tr>\n",
       "    <tr>\n",
       "      <th>1</th>\n",
       "      <td>10009Y</td>\n",
       "      <td>10009Y</td>\n",
       "      <td>1.643516</td>\n",
       "      <td>-0.033903</td>\n",
       "      <td>0.129201</td>\n",
       "      <td>0.352619</td>\n",
       "      <td>-0.040469</td>\n",
       "      <td>69.1</td>\n",
       "      <td>1</td>\n",
       "      <td>0</td>\n",
       "      <td>...</td>\n",
       "      <td>-0.0041</td>\n",
       "      <td>0.0004</td>\n",
       "      <td>-0.0031</td>\n",
       "      <td>-0.0032</td>\n",
       "      <td>-0.0026</td>\n",
       "      <td>0.0043</td>\n",
       "      <td>-0.0033</td>\n",
       "      <td>0.0089</td>\n",
       "      <td>1.308323</td>\n",
       "      <td>-0.053703</td>\n",
       "    </tr>\n",
       "    <tr>\n",
       "      <th>2</th>\n",
       "      <td>10010J</td>\n",
       "      <td>10010J</td>\n",
       "      <td>-0.237892</td>\n",
       "      <td>1.379126</td>\n",
       "      <td>0.852796</td>\n",
       "      <td>-0.812451</td>\n",
       "      <td>0.036806</td>\n",
       "      <td>66.0</td>\n",
       "      <td>2</td>\n",
       "      <td>1</td>\n",
       "      <td>...</td>\n",
       "      <td>0.0019</td>\n",
       "      <td>-0.0039</td>\n",
       "      <td>0.0129</td>\n",
       "      <td>-0.0315</td>\n",
       "      <td>0.0104</td>\n",
       "      <td>-0.0092</td>\n",
       "      <td>-0.0063</td>\n",
       "      <td>-0.0004</td>\n",
       "      <td>-0.056135</td>\n",
       "      <td>1.169453</td>\n",
       "    </tr>\n",
       "    <tr>\n",
       "      <th>3</th>\n",
       "      <td>10011L</td>\n",
       "      <td>10011L</td>\n",
       "      <td>-0.331558</td>\n",
       "      <td>0.357409</td>\n",
       "      <td>0.174373</td>\n",
       "      <td>1.160877</td>\n",
       "      <td>-0.163186</td>\n",
       "      <td>69.8</td>\n",
       "      <td>2</td>\n",
       "      <td>0</td>\n",
       "      <td>...</td>\n",
       "      <td>0.0073</td>\n",
       "      <td>0.0177</td>\n",
       "      <td>-0.0044</td>\n",
       "      <td>-0.0097</td>\n",
       "      <td>-0.0087</td>\n",
       "      <td>-0.0042</td>\n",
       "      <td>-0.0113</td>\n",
       "      <td>0.0085</td>\n",
       "      <td>-0.546883</td>\n",
       "      <td>0.624680</td>\n",
       "    </tr>\n",
       "    <tr>\n",
       "      <th>4</th>\n",
       "      <td>10013P</td>\n",
       "      <td>10013P</td>\n",
       "      <td>0.779035</td>\n",
       "      <td>-0.064067</td>\n",
       "      <td>1.073631</td>\n",
       "      <td>0.205609</td>\n",
       "      <td>1.447530</td>\n",
       "      <td>73.4</td>\n",
       "      <td>2</td>\n",
       "      <td>0</td>\n",
       "      <td>...</td>\n",
       "      <td>-0.0023</td>\n",
       "      <td>-0.0178</td>\n",
       "      <td>0.0076</td>\n",
       "      <td>0.0027</td>\n",
       "      <td>0.0009</td>\n",
       "      <td>-0.0114</td>\n",
       "      <td>0.0045</td>\n",
       "      <td>-0.0034</td>\n",
       "      <td>0.220717</td>\n",
       "      <td>-0.201228</td>\n",
       "    </tr>\n",
       "    <tr>\n",
       "      <th>...</th>\n",
       "      <td>...</td>\n",
       "      <td>...</td>\n",
       "      <td>...</td>\n",
       "      <td>...</td>\n",
       "      <td>...</td>\n",
       "      <td>...</td>\n",
       "      <td>...</td>\n",
       "      <td>...</td>\n",
       "      <td>...</td>\n",
       "      <td>...</td>\n",
       "      <td>...</td>\n",
       "      <td>...</td>\n",
       "      <td>...</td>\n",
       "      <td>...</td>\n",
       "      <td>...</td>\n",
       "      <td>...</td>\n",
       "      <td>...</td>\n",
       "      <td>...</td>\n",
       "      <td>...</td>\n",
       "      <td>...</td>\n",
       "      <td>...</td>\n",
       "    </tr>\n",
       "    <tr>\n",
       "      <th>5521</th>\n",
       "      <td>25425R</td>\n",
       "      <td>25425R</td>\n",
       "      <td>-1.290004</td>\n",
       "      <td>0.861130</td>\n",
       "      <td>-0.625362</td>\n",
       "      <td>0.036013</td>\n",
       "      <td>-0.843193</td>\n",
       "      <td>57.0</td>\n",
       "      <td>2</td>\n",
       "      <td>1</td>\n",
       "      <td>...</td>\n",
       "      <td>-0.0085</td>\n",
       "      <td>-0.0117</td>\n",
       "      <td>-0.0060</td>\n",
       "      <td>-0.0159</td>\n",
       "      <td>-0.0011</td>\n",
       "      <td>0.0002</td>\n",
       "      <td>-0.0047</td>\n",
       "      <td>0.0227</td>\n",
       "      <td>-0.934298</td>\n",
       "      <td>0.807734</td>\n",
       "    </tr>\n",
       "    <tr>\n",
       "      <th>5522</th>\n",
       "      <td>25426T</td>\n",
       "      <td>25426T</td>\n",
       "      <td>0.068391</td>\n",
       "      <td>-1.136712</td>\n",
       "      <td>0.479174</td>\n",
       "      <td>-2.313996</td>\n",
       "      <td>0.394962</td>\n",
       "      <td>45.1</td>\n",
       "      <td>1</td>\n",
       "      <td>1</td>\n",
       "      <td>...</td>\n",
       "      <td>-0.0016</td>\n",
       "      <td>-0.0154</td>\n",
       "      <td>0.0031</td>\n",
       "      <td>0.0009</td>\n",
       "      <td>0.0127</td>\n",
       "      <td>0.0104</td>\n",
       "      <td>0.0129</td>\n",
       "      <td>-0.0085</td>\n",
       "      <td>0.670054</td>\n",
       "      <td>-1.002598</td>\n",
       "    </tr>\n",
       "    <tr>\n",
       "      <th>5523</th>\n",
       "      <td>25428X</td>\n",
       "      <td>25428X</td>\n",
       "      <td>-1.222220</td>\n",
       "      <td>0.808978</td>\n",
       "      <td>-1.621980</td>\n",
       "      <td>0.160980</td>\n",
       "      <td>-0.537561</td>\n",
       "      <td>45.7</td>\n",
       "      <td>1</td>\n",
       "      <td>1</td>\n",
       "      <td>...</td>\n",
       "      <td>-0.0048</td>\n",
       "      <td>0.0125</td>\n",
       "      <td>-0.0100</td>\n",
       "      <td>-0.0121</td>\n",
       "      <td>-0.0154</td>\n",
       "      <td>0.0106</td>\n",
       "      <td>0.0119</td>\n",
       "      <td>-0.0041</td>\n",
       "      <td>-0.540777</td>\n",
       "      <td>0.848761</td>\n",
       "    </tr>\n",
       "    <tr>\n",
       "      <th>5524</th>\n",
       "      <td>25429Z</td>\n",
       "      <td>25429Z</td>\n",
       "      <td>-0.153398</td>\n",
       "      <td>-0.841192</td>\n",
       "      <td>-1.318666</td>\n",
       "      <td>-1.127998</td>\n",
       "      <td>0.612452</td>\n",
       "      <td>55.4</td>\n",
       "      <td>1</td>\n",
       "      <td>0</td>\n",
       "      <td>...</td>\n",
       "      <td>0.0039</td>\n",
       "      <td>-0.0084</td>\n",
       "      <td>0.0034</td>\n",
       "      <td>-0.0002</td>\n",
       "      <td>0.0204</td>\n",
       "      <td>0.0079</td>\n",
       "      <td>0.0018</td>\n",
       "      <td>0.0212</td>\n",
       "      <td>-0.286348</td>\n",
       "      <td>-0.690034</td>\n",
       "    </tr>\n",
       "    <tr>\n",
       "      <th>5525</th>\n",
       "      <td>25430K</td>\n",
       "      <td>25430K</td>\n",
       "      <td>0.927952</td>\n",
       "      <td>0.611788</td>\n",
       "      <td>1.068830</td>\n",
       "      <td>-0.064363</td>\n",
       "      <td>0.962531</td>\n",
       "      <td>61.6</td>\n",
       "      <td>1</td>\n",
       "      <td>1</td>\n",
       "      <td>...</td>\n",
       "      <td>-0.0002</td>\n",
       "      <td>0.0119</td>\n",
       "      <td>-0.0190</td>\n",
       "      <td>-0.0073</td>\n",
       "      <td>-0.0102</td>\n",
       "      <td>0.0105</td>\n",
       "      <td>-0.0026</td>\n",
       "      <td>-0.0099</td>\n",
       "      <td>1.311599</td>\n",
       "      <td>0.366634</td>\n",
       "    </tr>\n",
       "  </tbody>\n",
       "</table>\n",
       "<p>5526 rows × 23 columns</p>\n",
       "</div>"
      ],
      "text/plain": [
       "         FID     IID  factor1_scores  factor2scoresflipped  factor3_scores  \\\n",
       "0     10005Q  10005Q       -0.289564             -1.385945       -0.220869   \n",
       "1     10009Y  10009Y        1.643516             -0.033903        0.129201   \n",
       "2     10010J  10010J       -0.237892              1.379126        0.852796   \n",
       "3     10011L  10011L       -0.331558              0.357409        0.174373   \n",
       "4     10013P  10013P        0.779035             -0.064067        1.073631   \n",
       "...      ...     ...             ...                   ...             ...   \n",
       "5521  25425R  25425R       -1.290004              0.861130       -0.625362   \n",
       "5522  25426T  25426T        0.068391             -1.136712        0.479174   \n",
       "5523  25428X  25428X       -1.222220              0.808978       -1.621980   \n",
       "5524  25429Z  25429Z       -0.153398             -0.841192       -1.318666   \n",
       "5525  25430K  25430K        0.927952              0.611788        1.068830   \n",
       "\n",
       "      factor4_scores  factor5_scores  age_enroll  gender  SmokCigNow  ...  \\\n",
       "0           0.723142       -0.566232        54.5       2           1  ...   \n",
       "1           0.352619       -0.040469        69.1       1           0  ...   \n",
       "2          -0.812451        0.036806        66.0       2           1  ...   \n",
       "3           1.160877       -0.163186        69.8       2           0  ...   \n",
       "4           0.205609        1.447530        73.4       2           0  ...   \n",
       "...              ...             ...         ...     ...         ...  ...   \n",
       "5521        0.036013       -0.843193        57.0       2           1  ...   \n",
       "5522       -2.313996        0.394962        45.1       1           1  ...   \n",
       "5523        0.160980       -0.537561        45.7       1           1  ...   \n",
       "5524       -1.127998        0.612452        55.4       1           0  ...   \n",
       "5525       -0.064363        0.962531        61.6       1           1  ...   \n",
       "\n",
       "         pc3     pc4     pc5     pc6     pc7     pc8     pc9    pc10  \\\n",
       "0     0.0052 -0.0107  0.0098  0.0304 -0.0026 -0.0077 -0.0045  0.0127   \n",
       "1    -0.0041  0.0004 -0.0031 -0.0032 -0.0026  0.0043 -0.0033  0.0089   \n",
       "2     0.0019 -0.0039  0.0129 -0.0315  0.0104 -0.0092 -0.0063 -0.0004   \n",
       "3     0.0073  0.0177 -0.0044 -0.0097 -0.0087 -0.0042 -0.0113  0.0085   \n",
       "4    -0.0023 -0.0178  0.0076  0.0027  0.0009 -0.0114  0.0045 -0.0034   \n",
       "...      ...     ...     ...     ...     ...     ...     ...     ...   \n",
       "5521 -0.0085 -0.0117 -0.0060 -0.0159 -0.0011  0.0002 -0.0047  0.0227   \n",
       "5522 -0.0016 -0.0154  0.0031  0.0009  0.0127  0.0104  0.0129 -0.0085   \n",
       "5523 -0.0048  0.0125 -0.0100 -0.0121 -0.0154  0.0106  0.0119 -0.0041   \n",
       "5524  0.0039 -0.0084  0.0034 -0.0002  0.0204  0.0079  0.0018  0.0212   \n",
       "5525 -0.0002  0.0119 -0.0190 -0.0073 -0.0102  0.0105 -0.0026 -0.0099   \n",
       "\n",
       "      Emphysema-PredominantAxis  Airway-Predominant Axis  \n",
       "0                      0.097005                -1.407849  \n",
       "1                      1.308323                -0.053703  \n",
       "2                     -0.056135                 1.169453  \n",
       "3                     -0.546883                 0.624680  \n",
       "4                      0.220717                -0.201228  \n",
       "...                         ...                      ...  \n",
       "5521                  -0.934298                 0.807734  \n",
       "5522                   0.670054                -1.002598  \n",
       "5523                  -0.540777                 0.848761  \n",
       "5524                  -0.286348                -0.690034  \n",
       "5525                   1.311599                 0.366634  \n",
       "\n",
       "[5526 rows x 23 columns]"
      ]
     },
     "execution_count": 5,
     "metadata": {},
     "output_type": "execute_result"
    }
   ],
   "source": [
    "dataNHW=pd.read_csv('dataNHW.csv')\n",
    "dataNHW=dataNHW.iloc[:,1:]\n",
    "dataNHW"
   ]
  },
  {
   "cell_type": "code",
   "execution_count": 13,
   "metadata": {},
   "outputs": [],
   "source": [
    "y=dataNHW[\"Emphysema-PredominantAxis\"].values"
   ]
  },
  {
   "cell_type": "code",
   "execution_count": 11,
   "metadata": {},
   "outputs": [],
   "source": [
    "y=dataNHW[\"Airway-Predominant Axis\"].values"
   ]
  },
  {
   "cell_type": "code",
   "execution_count": 14,
   "metadata": {},
   "outputs": [
    {
     "data": {
      "text/plain": [
       "0.931204192162486"
      ]
     },
     "execution_count": 14,
     "metadata": {},
     "output_type": "execute_result"
    }
   ],
   "source": [
    "np.std(y)"
   ]
  },
  {
   "cell_type": "code",
   "execution_count": 220,
   "metadata": {},
   "outputs": [
    {
     "name": "stdout",
     "output_type": "stream",
     "text": [
      "0.013845073972497422\n",
      "\n",
      "0.8861549260275026\n"
     ]
    }
   ],
   "source": [
    "Xs_bar=np.mean(Xs)\n",
    "Sxx = np.sum(Xs*Xs)-nSamp*Xs_bar*Xs_bar\n",
    "\n",
    "sigma2=0.9*.9\n",
    "\n",
    "SEb= np.sqrt(sigma2/Sxx)\n",
    "print(SEb)\n",
    "\n",
    "print()\n",
    "SEe=.9-SEb\n",
    "print(SEe)"
   ]
  },
  {
   "cell_type": "code",
   "execution_count": 221,
   "metadata": {},
   "outputs": [
    {
     "name": "stdout",
     "output_type": "stream",
     "text": [
      "4826\n",
      "4251\n",
      "923\n"
     ]
    }
   ],
   "source": [
    "N0=0\n",
    "N1=0\n",
    "N2=0\n",
    "for i in range(nSamp):\n",
    "    if Xs[i]==0 :\n",
    "        N0=N0+1\n",
    "    elif Xs[i]==1:\n",
    "        N1=N1+1\n",
    "    else:\n",
    "        N2=N2+1\n",
    "\n",
    "print(N0)\n",
    "print(N1)\n",
    "print(N2) "
   ]
  },
  {
   "cell_type": "code",
   "execution_count": 222,
   "metadata": {},
   "outputs": [
    {
     "data": {
      "text/plain": [
       "0.30485"
      ]
     },
     "execution_count": 222,
     "metadata": {},
     "output_type": "execute_result"
    }
   ],
   "source": [
    "(N0*0+N1*1+N2*2)/20000"
   ]
  },
  {
   "cell_type": "code",
   "execution_count": 223,
   "metadata": {},
   "outputs": [],
   "source": [
    "seedinit3 = seedinit2+1\n",
    "np.random.seed(seedinit3)\n",
    "\n",
    "B0= skewnorm.rvs(.7,loc=-.3976 ,scale=.9, size=N0)\n",
    "B1= skewnorm.rvs(-1.5,loc=.8259, scale=1.1, size=N1)\n",
    "B2= skewnorm.rvs(-2.5,loc=1.1037 , scale=1.2, size=N2)\n",
    "\n",
    "#B0= norm.rvs(loc=0 , scal.2=1.7, size=N0)\n",
    "#B1= skewnorm.rvs(.5,loc=.1, scale=1.7, size=N1)\n",
    "#B2= skewnorm.rvs(.7,loc=.2 , scale=1.7, size=N2)\n",
    "\n",
    "e0=np.random.normal(0,SEb,size=N0)\n",
    "e1=np.random.normal(0,SEb,size=N1)\n",
    "e2=np.random.normal(0,SEb,size=N2)\n",
    "\n",
    "\n",
    "#B=np.repeat(B,nSamp)\n",
    "#Xs=np.tile(Xs,nItr)\n",
    "#e=np.tile(e,nItr)\n",
    "\n",
    "y_obs0=B0+e0\n",
    "y_obs1=B1+e1\n",
    "y_obs2=B2+e2\n",
    "\n",
    "#y_obs = np.random.uniform(low=-5, high=5, size=nSamp)\n",
    "#y_obs = skewnorm.rvs(1,loc=-.45, scale=1.7,size=nSamp)\n",
    "\n",
    "#kde_y_obs= GKDE(y_obs)\n",
    "\n",
    "\n",
    "index0=np.where(Xs == 0)\n",
    "index1=np.where(Xs == 1)\n",
    "index2=np.where(Xs == 2)\n",
    "\n",
    "Xs0=Xs[index0]\n",
    "Xs1=Xs[index1]\n",
    "Xs2=Xs[index2]\n",
    "\n",
    "#y_obs0=y_obs[index0]\n",
    "#y_obs1=y_obs[index1]\n",
    "#y_obs2=y_obs[index2]\n",
    "\n",
    "kde_y_obs0= GKDE(y_obs0)\n",
    "kde_y_obs1= GKDE(y_obs1)\n",
    "kde_y_obs2= GKDE(y_obs2)"
   ]
  },
  {
   "cell_type": "code",
   "execution_count": 224,
   "metadata": {},
   "outputs": [
    {
     "data": {
      "text/plain": [
       "<matplotlib.legend.Legend at 0x11f2d6130>"
      ]
     },
     "execution_count": 224,
     "metadata": {},
     "output_type": "execute_result"
    },
    {
     "data": {
      "image/png": "[encoded data removed]",
      "text/plain": [
       "<Figure size 432x288 with 1 Axes>"
      ]
     },
     "metadata": {
      "needs_background": "light"
     },
     "output_type": "display_data"
    }
   ],
   "source": [
    "ax=sns.kdeplot(B0,color='b',label='B0',linewidth=2)\n",
    "ax=sns.kdeplot(B1,color='r',label='B1',linewidth=2)\n",
    "ax=sns.kdeplot(B2,color='g',label='B2',linewidth=2)\n",
    "ax.legend()"
   ]
  },
  {
   "cell_type": "code",
   "execution_count": 225,
   "metadata": {},
   "outputs": [
    {
     "name": "stdout",
     "output_type": "stream",
     "text": [
      "0.7996179880319323\n",
      "0.8260124083130642\n",
      "0.7871718443705277\n"
     ]
    }
   ],
   "source": [
    "y_obs0_bar=np.mean(y_obs0)\n",
    "\n",
    "Sy0 = np.sum(y_obs0*y_obs0)-N0*y_obs0_bar*y_obs0_bar\n",
    "\n",
    "SEy0= np.sqrt(Sy0/(N0-1))\n",
    "\n",
    "\n",
    "y_obs1_bar=np.mean(y_obs1)\n",
    "\n",
    "Sy1 = np.sum(y_obs1*y_obs1)-N1*y_obs1_bar*y_obs1_bar\n",
    "\n",
    "SEy1= np.sqrt(Sy1/(N1-1))\n",
    "\n",
    "\n",
    "y_obs2_bar=np.mean(y_obs2)\n",
    "\n",
    "Sy2 = np.sum(y_obs2*y_obs2)-N2*y_obs2_bar*y_obs2_bar\n",
    "\n",
    "SEy2= np.sqrt(Sy2/(N2-1))\n",
    "\n",
    "y=np.concatenate((y_obs0, y_obs1,y_obs2), axis=None) \n",
    "Xs=np.concatenate((Xs0,Xs1,Xs2), axis=None) \n",
    "\n",
    "print(SEy0)\n",
    "print(SEy1)\n",
    "print(SEy2)"
   ]
  },
  {
   "cell_type": "code",
   "execution_count": 226,
   "metadata": {},
   "outputs": [
    {
     "data": {
      "text/plain": [
       "0.7996179880319322"
      ]
     },
     "execution_count": 226,
     "metadata": {},
     "output_type": "execute_result"
    }
   ],
   "source": [
    "statistics.stdev(y_obs0)"
   ]
  },
  {
   "cell_type": "code",
   "execution_count": 227,
   "metadata": {},
   "outputs": [
    {
     "name": "stdout",
     "output_type": "stream",
     "text": [
      "-2.4359500821133102e-05\n",
      "0.10002816272648005\n",
      "0.20007930032041096\n"
     ]
    }
   ],
   "source": [
    "print(B0.mean())\n",
    "print(B1.mean())\n",
    "print(B2.mean())"
   ]
  },
  {
   "cell_type": "code",
   "execution_count": 228,
   "metadata": {},
   "outputs": [
    {
     "name": "stdout",
     "output_type": "stream",
     "text": [
      "-6.909580730005599e-05\n",
      "0.0999832295484171\n",
      "0.20001707241644598\n"
     ]
    }
   ],
   "source": [
    "print(y_obs0_bar)\n",
    "print(y_obs1_bar)\n",
    "print(y_obs2_bar)"
   ]
  },
  {
   "cell_type": "code",
   "execution_count": 229,
   "metadata": {},
   "outputs": [
    {
     "name": "stdout",
     "output_type": "stream",
     "text": [
      "Parametrs =  -6.737964335530588e-05 [0.10004671]\n"
     ]
    },
    {
     "data": {
      "image/png": "[encoded data removed]",
      "text/plain": [
       "<Figure size 432x288 with 1 Axes>"
      ]
     },
     "metadata": {
      "needs_background": "light"
     },
     "output_type": "display_data"
    }
   ],
   "source": [
    "#X=np.concatenate((Xs0, Xs1,Xs2), axis=None) \n",
    "\n",
    "lin_reg= sklearn.linear_model.LinearRegression()\n",
    "lin_reg.fit(np.c_[Xs],y)\n",
    "print('Parametrs = ', lin_reg.intercept_ ,  lin_reg.coef_)\n",
    "\n",
    "plt.plot(Xs, y,'.');\n",
    "plt.plot(np.array([0, 2]), lin_reg.predict(np.c_[np.array([0,2])]), color='r');"
   ]
  },
  {
   "cell_type": "code",
   "execution_count": 230,
   "metadata": {},
   "outputs": [
    {
     "name": "stdout",
     "output_type": "stream",
     "text": [
      "                            OLS Regression Results                            \n",
      "==============================================================================\n",
      "Dep. Variable:                      y   R-squared:                       0.006\n",
      "Model:                            OLS   Adj. R-squared:                  0.006\n",
      "Method:                 Least Squares   F-statistic:                     64.50\n",
      "Date:                Tue, 03 Jan 2023   Prob (F-statistic):           1.07e-15\n",
      "Time:                        15:46:15   Log-Likelihood:                -12078.\n",
      "No. Observations:               10000   AIC:                         2.416e+04\n",
      "Df Residuals:                    9998   BIC:                         2.418e+04\n",
      "Df Model:                           1                                         \n",
      "Covariance Type:            nonrobust                                         \n",
      "==============================================================================\n",
      "                 coef    std err          t      P>|t|      [0.025      0.975]\n",
      "------------------------------------------------------------------------------\n",
      "const      -6.738e-05      0.011     -0.006      0.995      -0.022       0.022\n",
      "x1             0.1000      0.012      8.031      0.000       0.076       0.124\n",
      "==============================================================================\n",
      "Omnibus:                       42.439   Durbin-Watson:                   1.970\n",
      "Prob(Omnibus):                  0.000   Jarque-Bera (JB):               44.010\n",
      "Skew:                          -0.141   Prob(JB):                     2.78e-10\n",
      "Kurtosis:                       3.161   Cond. No.                         2.33\n",
      "==============================================================================\n",
      "\n",
      "Notes:\n",
      "[1] Standard Errors assume that the covariance matrix of the errors is correctly specified.\n"
     ]
    }
   ],
   "source": [
    "X = sm.add_constant(Xs)\n",
    "est = sm.OLS(y, X)\n",
    "est2 = est.fit()\n",
    "print(est2.summary())"
   ]
  },
  {
   "cell_type": "code",
   "execution_count": 231,
   "metadata": {},
   "outputs": [
    {
     "data": {
      "text/plain": [
       "1.073563112466577e-15"
      ]
     },
     "execution_count": 231,
     "metadata": {},
     "output_type": "execute_result"
    }
   ],
   "source": [
    "est2.pvalues[1]"
   ]
  },
  {
   "cell_type": "code",
   "execution_count": 232,
   "metadata": {},
   "outputs": [
    {
     "data": {
      "text/plain": [
       "<matplotlib.legend.Legend at 0x11fb609d0>"
      ]
     },
     "execution_count": 232,
     "metadata": {},
     "output_type": "execute_result"
    },
    {
     "data": {
      "image/png": "[encoded data removed]",
      "text/plain": [
       "<Figure size 432x288 with 1 Axes>"
      ]
     },
     "metadata": {
      "needs_background": "light"
     },
     "output_type": "display_data"
    }
   ],
   "source": [
    "ax=sns.kdeplot(y_obs0,color='b',label='Y0',linewidth=2)\n",
    "ax=sns.kdeplot(y_obs1,color='r',label='Y1',linewidth=2)\n",
    "ax=sns.kdeplot(y_obs2,color='g',label='Y2',linewidth=2)\n",
    "ax.legend()"
   ]
  },
  {
   "cell_type": "code",
   "execution_count": 233,
   "metadata": {},
   "outputs": [],
   "source": [
    "seedinit4 = seedinit3+1\n",
    "np.random.seed(seedinit4)\n",
    "\n",
    "#alpha=np.random.uniform(0,0.05,1) \n",
    "Beta0=norm.rvs(loc=y_obs0_bar, scale=SEy0,size=N0)\n",
    "Beta1=norm.rvs(loc=y_obs1_bar, scale=SEy1,size=N1)\n",
    "Beta2=norm.rvs(loc=y_obs2_bar, scale=SEy2,size=N2)"
   ]
  },
  {
   "cell_type": "code",
   "execution_count": 234,
   "metadata": {},
   "outputs": [
    {
     "data": {
      "text/plain": [
       "0.7842528637334062"
      ]
     },
     "execution_count": 234,
     "metadata": {},
     "output_type": "execute_result"
    }
   ],
   "source": [
    "statistics.stdev(Beta0)"
   ]
  },
  {
   "cell_type": "code",
   "execution_count": 235,
   "metadata": {},
   "outputs": [
    {
     "data": {
      "text/plain": [
       "0.7996179880319322"
      ]
     },
     "execution_count": 235,
     "metadata": {},
     "output_type": "execute_result"
    }
   ],
   "source": [
    "statistics.stdev(y_obs0)"
   ]
  },
  {
   "cell_type": "code",
   "execution_count": 115,
   "metadata": {},
   "outputs": [
    {
     "data": {
      "text/plain": [
       "0.8365002314264023"
      ]
     },
     "execution_count": 115,
     "metadata": {},
     "output_type": "execute_result"
    }
   ],
   "source": [
    "statistics.stdev(Beta1)"
   ]
  },
  {
   "cell_type": "code",
   "execution_count": 116,
   "metadata": {},
   "outputs": [
    {
     "data": {
      "text/plain": [
       "0.8260124083130643"
      ]
     },
     "execution_count": 116,
     "metadata": {},
     "output_type": "execute_result"
    }
   ],
   "source": [
    "statistics.stdev(y_obs1)"
   ]
  },
  {
   "cell_type": "code",
   "execution_count": 192,
   "metadata": {},
   "outputs": [
    {
     "data": {
      "text/plain": [
       "0.774112253077006"
      ]
     },
     "execution_count": 192,
     "metadata": {},
     "output_type": "execute_result"
    }
   ],
   "source": [
    "statistics.stdev(Beta2)"
   ]
  },
  {
   "cell_type": "code",
   "execution_count": 193,
   "metadata": {},
   "outputs": [
    {
     "data": {
      "text/plain": [
       "0.7871514573726177"
      ]
     },
     "execution_count": 193,
     "metadata": {},
     "output_type": "execute_result"
    }
   ],
   "source": [
    "statistics.stdev(y_obs2)"
   ]
  },
  {
   "cell_type": "code",
   "execution_count": 194,
   "metadata": {},
   "outputs": [
    {
     "data": {
      "text/plain": [
       "1.1200373111771724"
      ]
     },
     "execution_count": 194,
     "metadata": {},
     "output_type": "execute_result"
    }
   ],
   "source": [
    "np.sqrt((0.7996314049720475*0.7996314049720475)+(0.7842660228592205*0.7842660228592205))"
   ]
  },
  {
   "cell_type": "code",
   "execution_count": 195,
   "metadata": {},
   "outputs": [
    {
     "data": {
      "text/plain": [
       "1.1756355782702714"
      ]
     },
     "execution_count": 195,
     "metadata": {},
     "output_type": "execute_result"
    }
   ],
   "source": [
    "np.sqrt((0.8365274309018871*0.8365274309018871)+(0.8260392667685745*0.8260392667685745))"
   ]
  },
  {
   "cell_type": "code",
   "execution_count": 196,
   "metadata": {},
   "outputs": [
    {
     "data": {
      "text/plain": [
       "1.1040186579980407"
      ]
     },
     "execution_count": 196,
     "metadata": {},
     "output_type": "execute_result"
    }
   ],
   "source": [
    "np.sqrt((0.7871514573726177*0.7871514573726177)+(0.774112253077006*0.774112253077006))"
   ]
  },
  {
   "cell_type": "code",
   "execution_count": null,
   "metadata": {},
   "outputs": [],
   "source": []
  },
  {
   "cell_type": "code",
   "execution_count": 236,
   "metadata": {},
   "outputs": [],
   "source": [
    "seedinit5 = seedinit4+1\n",
    "np.random.seed(seedinit5)\n",
    "eps0=np.random.normal(0,.34,size=N0)\n",
    "eps1=np.random.normal(0,.4,size=N1)\n",
    "eps2=np.random.normal(0,.4,size=N2)"
   ]
  },
  {
   "cell_type": "code",
   "execution_count": 237,
   "metadata": {},
   "outputs": [],
   "source": [
    "y_initi0=Beta0+eps0\n",
    "y_initi1=Beta1+eps1\n",
    "y_initi2=Beta2+eps2\n",
    "\n",
    "\n",
    "kde_y_initi0 = GKDE(y_initi0)\n",
    "kde_y_initi1 = GKDE(y_initi1)\n",
    "kde_y_initi2 = GKDE(y_initi2)"
   ]
  },
  {
   "cell_type": "code",
   "execution_count": 238,
   "metadata": {},
   "outputs": [
    {
     "data": {
      "text/plain": [
       "<matplotlib.legend.Legend at 0x11fb8d820>"
      ]
     },
     "execution_count": 238,
     "metadata": {},
     "output_type": "execute_result"
    },
    {
     "data": {
      "image/png": "[encoded data removed]",
      "text/plain": [
       "<Figure size 504x504 with 1 Axes>"
      ]
     },
     "metadata": {
      "needs_background": "light"
     },
     "output_type": "display_data"
    }
   ],
   "source": [
    "plt.figure(figsize=[7,7])\n",
    "\n",
    "ax=sns.kdeplot(y_initi0,color='b',label='SNP=0',alpha=0.5)\n",
    "ax=sns.kdeplot(y_initi1,color='r',label='SNP=1')\n",
    "ax=sns.kdeplot(y_initi2,color='g',label='SNP=2')\n",
    "ax.legend()"
   ]
  },
  {
   "cell_type": "code",
   "execution_count": 239,
   "metadata": {},
   "outputs": [],
   "source": [
    "## rejection sampling for update ##\n",
    "def rejection_sampling(r): # creating indexes for samples to keep from initial samples using rejection sampling \n",
    "    N = r.size \n",
    "    seedinit6 = seedinit5+1\n",
    "    np.random.seed(seedinit6)\n",
    "    reject_prob = np.random.uniform(low=0, high=1, size=N) \n",
    "    r = r/np.max(r)\n",
    "    idx = np.where(r >= reject_prob)[0]\n",
    "    return idx"
   ]
  },
  {
   "cell_type": "code",
   "execution_count": 240,
   "metadata": {},
   "outputs": [],
   "source": [
    "r0=np.divide(kde_y_obs0(y_initi0),kde_y_initi0(y_initi0))\n",
    "r1=np.divide(kde_y_obs1(y_initi1),kde_y_initi1(y_initi1))\n",
    "r2=np.divide(kde_y_obs2(y_initi2),kde_y_initi2(y_initi2))"
   ]
  },
  {
   "cell_type": "code",
   "execution_count": 241,
   "metadata": {},
   "outputs": [
    {
     "name": "stdout",
     "output_type": "stream",
     "text": [
      "0.8497720679651886\n",
      "\n",
      "0.8256880733944955\n",
      "\n",
      "0.8450704225352113\n",
      "\n",
      "1.0021948047750298\n",
      "\n",
      "1.0031675305422858\n",
      "\n",
      "1.002277815351262\n"
     ]
    }
   ],
   "source": [
    "samples_to_keep0 = rejection_sampling(r0) # performing rejection sampling\n",
    "samples_to_keep1 = rejection_sampling(r1)\n",
    "samples_to_keep2 = rejection_sampling(r2)\n",
    "\n",
    "\n",
    "accept_rate0 = samples_to_keep0.size/Beta0.shape[0]# computing acceptance rate from performing rejection sampling\n",
    "accept_rate1 = samples_to_keep1.size/Beta1.shape[0]\n",
    "accept_rate2 = samples_to_keep2.size/Beta2.shape[0]\n",
    "\n",
    "\n",
    "print(accept_rate0) # printing acceptance rate \n",
    "print()\n",
    "print(accept_rate1)\n",
    "print()\n",
    "print(accept_rate2)\n",
    "print()\n",
    "\n",
    "print(np.mean(r0))\n",
    "print()\n",
    "print(np.mean(r1))\n",
    "print()\n",
    "print(np.mean(r2))"
   ]
  },
  {
   "cell_type": "code",
   "execution_count": 150,
   "metadata": {},
   "outputs": [
    {
     "data": {
      "text/plain": [
       "2.1451299555108605e-05"
      ]
     },
     "execution_count": 150,
     "metadata": {},
     "output_type": "execute_result"
    }
   ],
   "source": [
    "1-0.9999785487004449"
   ]
  },
  {
   "cell_type": "code",
   "execution_count": 173,
   "metadata": {},
   "outputs": [
    {
     "data": {
      "text/plain": [
       "0.0014191258108127158"
      ]
     },
     "execution_count": 173,
     "metadata": {},
     "output_type": "execute_result"
    }
   ],
   "source": [
    "1.0014191258108127-1"
   ]
  },
  {
   "cell_type": "code",
   "execution_count": 215,
   "metadata": {},
   "outputs": [
    {
     "data": {
      "text/plain": [
       "0.0015430104910030273"
      ]
     },
     "execution_count": 215,
     "metadata": {},
     "output_type": "execute_result"
    }
   ],
   "source": [
    "1.001543010491003-1"
   ]
  },
  {
   "cell_type": "code",
   "execution_count": 242,
   "metadata": {},
   "outputs": [],
   "source": [
    "updated_Beta0 =Beta0[samples_to_keep0] # samples from updated parameter density\n",
    "updated_Beta1 =Beta1[samples_to_keep1]\n",
    "updated_Beta2 =Beta2[samples_to_keep2]\n",
    "\n",
    "updated_y0 =y_initi0[samples_to_keep0] # samples from updated QoI density\n",
    "updated_y1 =y_initi1[samples_to_keep1] \n",
    "updated_y2 =y_initi2[samples_to_keep2] \n",
    "\n",
    "\n",
    "kde_updated_y0 = GKDE(y_initi0, weights=r0)\n",
    "kde_updated_y1 = GKDE(y_initi1, weights=r1)\n",
    "kde_updated_y2 = GKDE(y_initi2, weights=r2) # updated QoI density\n",
    "\n",
    "\n",
    "kde_updated_Beta0 = GKDE(Beta0, weights=r0)\n",
    "kde_updated_Beta1 = GKDE(Beta1, weights=r1)\n",
    "kde_updated_Beta2 = GKDE(Beta2, weights=r2)"
   ]
  },
  {
   "cell_type": "code",
   "execution_count": 243,
   "metadata": {},
   "outputs": [],
   "source": [
    "updated_eps0 =eps0[samples_to_keep0]\n",
    "updated_eps1 =eps1[samples_to_keep1] \n",
    "updated_eps2 =eps2[samples_to_keep2]\n",
    "\n",
    "kde_updated_eps0 = GKDE(eps0, weights=r0)\n",
    "kde_updated_eps1 = GKDE(eps1, weights=r1)\n",
    "kde_updated_eps2 = GKDE(eps2, weights=r2)"
   ]
  },
  {
   "cell_type": "code",
   "execution_count": 244,
   "metadata": {},
   "outputs": [
    {
     "data": {
      "text/plain": [
       "KruskalResult(statistic=91.27948781217128, pvalue=1.5097709548555122e-20)"
      ]
     },
     "execution_count": 244,
     "metadata": {},
     "output_type": "execute_result"
    }
   ],
   "source": [
    "stats.kruskal(updated_Beta0, updated_Beta1, updated_Beta2)"
   ]
  },
  {
   "cell_type": "code",
   "execution_count": 177,
   "metadata": {},
   "outputs": [
    {
     "data": {
      "text/plain": [
       "F_onewayResult(statistic=37.652742917695775, pvalue=5.240604923308617e-17)"
      ]
     },
     "execution_count": 177,
     "metadata": {},
     "output_type": "execute_result"
    }
   ],
   "source": [
    "f_oneway(updated_Beta0, updated_Beta1, updated_Beta2)"
   ]
  },
  {
   "cell_type": "code",
   "execution_count": 89,
   "metadata": {},
   "outputs": [
    {
     "data": {
      "image/png": "[encoded data removed]",
      "text/plain": [
       "<Figure size 432x288 with 1 Axes>"
      ]
     },
     "metadata": {
      "needs_background": "light"
     },
     "output_type": "display_data"
    }
   ],
   "source": [
    "plot_start =-3\n",
    "plot_end = 3\n",
    "plot_val = np.linspace(plot_start, plot_end, num=10000) # creating y values for plots\n",
    "plt.clf() # clearing plots\n",
    "\n",
    "y_initi_plot_val = kde_y_initi0(plot_val) # initial pushforward values for plots\n",
    "obs_y_plot_val = kde_y_obs0(plot_val) # observed values for plots\n",
    "updated_y_val = kde_updated_y0(plot_val) # updated y values for plots\n",
    "\n",
    "obs_plot = plt.plot(plot_val, obs_y_plot_val, 'r-', linewidth=4, label=\"Observed\") \n",
    "init_push_plot = plt.plot(plot_val, y_initi_plot_val, 'b-', linewidth=4, label=\"Initial\")\n",
    "updated_y_plot = plt.plot(plot_val, updated_y_val, 'k--', linewidth=4, label=\"Updated\")\n",
    "plt.xlim([plot_start, plot_end])\n",
    "plt.legend()\n",
    "plt.title(\"SNP=0\")\n",
    "plt.show()"
   ]
  },
  {
   "cell_type": "code",
   "execution_count": 90,
   "metadata": {},
   "outputs": [
    {
     "data": {
      "image/png": "[encoded data removed]",
      "text/plain": [
       "<Figure size 432x288 with 1 Axes>"
      ]
     },
     "metadata": {
      "needs_background": "light"
     },
     "output_type": "display_data"
    }
   ],
   "source": [
    "plot_start = -3\n",
    "plot_end = 3\n",
    "plot_val = np.linspace(plot_start, plot_end, num=10000) # creating y values for plots\n",
    "plt.clf() # clearing plots\n",
    "\n",
    "y_initi_plot_val = kde_y_initi1(plot_val) # initial pushforward values for plots\n",
    "obs_y_plot_val = kde_y_obs1(plot_val) # observed values for plots\n",
    "updated_y_val = kde_updated_y1(plot_val) # updated y values for plots\n",
    "\n",
    "obs_plot = plt.plot(plot_val, obs_y_plot_val, 'r-', linewidth=4, label=\"Observed\") \n",
    "init_push_plot = plt.plot(plot_val, y_initi_plot_val, 'b-', linewidth=4, label=\"Initial\")\n",
    "updated_y_plot = plt.plot(plot_val, updated_y_val, 'k--', linewidth=4, label=\"Updated\")\n",
    "plt.xlim([plot_start, plot_end])\n",
    "plt.legend()\n",
    "plt.title(\"SNP=1\")\n",
    "plt.show()"
   ]
  },
  {
   "cell_type": "code",
   "execution_count": 91,
   "metadata": {},
   "outputs": [
    {
     "data": {
      "image/png": "[encoded data removed]",
      "text/plain": [
       "<Figure size 432x288 with 1 Axes>"
      ]
     },
     "metadata": {
      "needs_background": "light"
     },
     "output_type": "display_data"
    }
   ],
   "source": [
    "plot_start = -3.5\n",
    "plot_end = 3.5\n",
    "plot_val = np.linspace(plot_start, plot_end, num=10000) # creating y values for plots\n",
    "plt.clf() # clearing plots\n",
    "\n",
    "y_initi_plot_val = kde_y_initi2(plot_val) # initial pushforward values for plots\n",
    "obs_y_plot_val = kde_y_obs2(plot_val) # observed values for plots\n",
    "updated_y_val = kde_updated_y2(plot_val) # updated y values for plots\n",
    "\n",
    "obs_plot = plt.plot(plot_val, obs_y_plot_val, 'r-', linewidth=4, label=\"Observed\") \n",
    "init_push_plot = plt.plot(plot_val, y_initi_plot_val, 'b-', linewidth=4, label=\"Initial\")\n",
    "updated_y_plot = plt.plot(plot_val, updated_y_val, 'k--', linewidth=4, label=\"Updated\")\n",
    "plt.xlim([plot_start, plot_end])\n",
    "plt.legend()\n",
    "plt.title(\"SNP=2\")\n",
    "plt.show()"
   ]
  },
  {
   "cell_type": "code",
   "execution_count": 92,
   "metadata": {},
   "outputs": [
    {
     "data": {
      "text/plain": [
       "Text(0.5, 1.0, '$\\\\mu_{0}$')"
      ]
     },
     "execution_count": 92,
     "metadata": {},
     "output_type": "execute_result"
    },
    {
     "data": {
      "image/png": "[encoded data removed]",
      "text/plain": [
       "<Figure size 432x288 with 1 Axes>"
      ]
     },
     "metadata": {
      "needs_background": "light"
     },
     "output_type": "display_data"
    }
   ],
   "source": [
    "x=np.arange(Beta0.min(), Beta0.max(),.0012)\n",
    "#x=np.arange(-6, 6,.0012)\n",
    "#x2 = np.arange(BetaSK.min(), BetaSK.max(),0.0009)\n",
    "kde1 =GKDE(Beta0)\n",
    "y1 = kde1(x)\n",
    "y2 = kde_updated_Beta0(x)\n",
    "\n",
    "critN=np.percentile(Beta0,5)    \n",
    "critSK=np.percentile(updated_Beta0,5)\n",
    "\n",
    "#plt.figure(figsize=[7,7])\n",
    "ax=plt.subplot()\n",
    "ax.plot(x,y1,color='b',label='Iitial',linewidth=4)\n",
    "ax.plot(x,y2,color='r',label='Updated',linewidth=4)\n",
    "#_=[ax.axvline(critN,color='k',linestyle='dashed',linewidth=2)]\n",
    "#_=[ax.axvline(critSK,color='k',linestyle='dashed',linewidth=2)]\n",
    "#_=[ax.text(critN,ax.get_ylim()[1],f\"{critN:.3f}\",ha='center',va='bottom')]\n",
    "#_=[ax.text(critSK,ax.get_ylim()[1],f\"{critSK:.4f}\",ha='center',va='bottom')]\n",
    "#plt.fill_between(x, y1, 0, where = (x > x.min()) & (x <= critN), color = 'b',alpha=0.3)\n",
    "#plt.fill_between(x, y2, 0, where = (x > x.min()) & (x <= critSK), color = 'r',alpha=0.3)\n",
    "ax.legend(fontsize=10)\n",
    "#ax.set(xlabel='x',ylabel='density')\n",
    "plt.title(\"$\\mu_{0}$\")"
   ]
  },
  {
   "cell_type": "code",
   "execution_count": 93,
   "metadata": {},
   "outputs": [
    {
     "data": {
      "text/plain": [
       "Text(0.5, 1.0, '$\\\\mu_{1}$')"
      ]
     },
     "execution_count": 93,
     "metadata": {},
     "output_type": "execute_result"
    },
    {
     "data": {
      "image/png": "[encoded data removed]",
      "text/plain": [
       "<Figure size 432x288 with 1 Axes>"
      ]
     },
     "metadata": {
      "needs_background": "light"
     },
     "output_type": "display_data"
    }
   ],
   "source": [
    "x=np.arange(Beta1.min(), Beta1.max(),.0012)\n",
    "#x2 = np.arange(BetaSK.min(), BetaSK.max(),0.0009)\n",
    "kde1 =GKDE(Beta1)\n",
    "y1 = kde1(x)\n",
    "y2 = kde_updated_Beta1(x)\n",
    "\n",
    "critN=np.percentile(Beta1,5)    \n",
    "critSK=np.percentile(updated_Beta1,5)\n",
    "\n",
    "#plt.figure(figsize=[7,7])\n",
    "ax=plt.subplot()\n",
    "ax.plot(x,y1,color='b',label='Initial',linewidth=4)\n",
    "ax.plot(x,y2,color='r',label='Updated',linewidth=4)\n",
    "#_=[ax.axvline(critN,color='k',linestyle='dashed',linewidth=2)]\n",
    "#_=[ax.axvline(critSK,color='k',linestyle='dashed',linewidth=2)]\n",
    "#_=[ax.text(critN,ax.get_ylim()[1],f\"{critN:.3f}\",ha='center',va='bottom')]\n",
    "#_=[ax.text(critSK,ax.get_ylim()[1],f\"{critSK:.4f}\",ha='center',va='bottom')]\n",
    "#plt.fill_between(x, y1, 0, where = (x > x.min()) & (x <= critN), color = 'b',alpha=0.3)\n",
    "#plt.fill_between(x, y2, 0, where = (x > x.min()) & (x <= critSK), color = 'r',alpha=0.3)\n",
    "ax.legend(fontsize=10)\n",
    "#ax.set(xlabel='x',ylabel='density')\n",
    "plt.title(\"$\\mu_{1}$\")"
   ]
  },
  {
   "cell_type": "code",
   "execution_count": 94,
   "metadata": {},
   "outputs": [
    {
     "data": {
      "text/plain": [
       "Text(0.5, 1.0, '$\\\\mu_{2}$')"
      ]
     },
     "execution_count": 94,
     "metadata": {},
     "output_type": "execute_result"
    },
    {
     "data": {
      "image/png": "[encoded data removed]",
      "text/plain": [
       "<Figure size 432x288 with 1 Axes>"
      ]
     },
     "metadata": {
      "needs_background": "light"
     },
     "output_type": "display_data"
    }
   ],
   "source": [
    "x=np.arange(updated_Beta2.min(), Beta2.max(),.0012)\n",
    "#x2 = np.arange(BetaSK.min(), BetaSK.max(),0.0009)\n",
    "kde1 =GKDE(Beta2)\n",
    "y1 = kde1(x)\n",
    "y2 = kde_updated_Beta2(x)\n",
    "\n",
    "critN=np.percentile(Beta2,5)    \n",
    "critSK=np.percentile(updated_Beta2,5)\n",
    "\n",
    "#plt.figure(figsize=[7,7])\n",
    "ax=plt.subplot()\n",
    "ax.plot(x,y1,color='b',label='Initial',linewidth=4)\n",
    "ax.plot(x,y2,color='r',label='Updated',linewidth=4)\n",
    "#_=[ax.axvline(critN,color='k',linestyle='dashed',linewidth=2)]\n",
    "#_=[ax.axvline(critSK,color='k',linestyle='dashed',linewidth=2)]\n",
    "#_=[ax.text(critN,ax.get_ylim()[1],f\"{critN:.3f}\",ha='center',va='bottom')]\n",
    "#_=[ax.text(critSK,ax.get_ylim()[1],f\"{critSK:.4f}\",ha='center',va='bottom')]\n",
    "#plt.fill_between(x, y1, 0, where = (x > x.min()) & (x <= critN), color = 'b',alpha=0.3)\n",
    "#plt.fill_between(x, y2, 0, where = (x > x.min()) & (x <= critSK), color = 'r',alpha=0.3)\n",
    "ax.legend(fontsize=10)\n",
    "#ax.set(xlabel='x',ylabel='density')\n",
    "plt.title(\"$\\mu_{2}$\")"
   ]
  },
  {
   "cell_type": "code",
   "execution_count": 95,
   "metadata": {},
   "outputs": [
    {
     "data": {
      "text/plain": [
       "Text(0.5, 1.0, 'SNP=0')"
      ]
     },
     "execution_count": 95,
     "metadata": {},
     "output_type": "execute_result"
    },
    {
     "data": {
      "image/png": "[encoded data removed]",
      "text/plain": [
       "<Figure size 504x504 with 1 Axes>"
      ]
     },
     "metadata": {
      "needs_background": "light"
     },
     "output_type": "display_data"
    }
   ],
   "source": [
    "x=np.arange(eps0.min(), eps0.max(),.0012)\n",
    "#x2 = np.arange(BetaSK.min(), BetaSK.max(),0.0009)\n",
    "\n",
    "\n",
    "kde1 =GKDE(eps0)\n",
    "y1 = kde1(x)\n",
    "\n",
    "kde2=kde_updated_eps0\n",
    "#kde2 = GKDE(updated_eps)\n",
    "y2 = kde2(x)\n",
    "\n",
    "critB=np.percentile(eps0,5)   \n",
    "critupB=np.percentile(updated_eps0,5)\n",
    "\n",
    "plt.figure(figsize=[7,7])\n",
    "ax=plt.subplot()\n",
    "ax.plot(x,y1,color='b',label='Eps',linewidth=2,alpha=0.5)\n",
    "ax.plot(x,y2,color='r',label='Updated Eps',alpha=0.5,linewidth=2)\n",
    "_=[ax.axvline(critB,color='k',linestyle='dashed')]\n",
    "_=[ax.axvline(critupB,color='k',linestyle='dashed')]\n",
    "_=[ax.text(critB,ax.get_ylim()[1],f\"{critB:.4f}\",ha='center',va='bottom')] \n",
    "_=[ax.text(critupB,ax.get_ylim()[1],f\"{critupB:.4f}\",ha='center',va='bottom')]\n",
    "plt.fill_between(x, y1, 0, where = (x > x.min()) & (x <= critB), color = 'b',alpha=0.3)\n",
    "plt.fill_between(x, y2, 0, where = (x > x.min()) & (x <= critupB), color = 'r',alpha=0.3)\n",
    "ax.legend(fontsize=10)\n",
    "#ax.set(xlabel='x',ylabel='density')\n",
    "plt.title(\"SNP=0\")"
   ]
  },
  {
   "cell_type": "code",
   "execution_count": 96,
   "metadata": {},
   "outputs": [
    {
     "data": {
      "text/plain": [
       "Text(0.5, 1.0, 'SNP=1')"
      ]
     },
     "execution_count": 96,
     "metadata": {},
     "output_type": "execute_result"
    },
    {
     "data": {
      "image/png": "[encoded data removed]",
      "text/plain": [
       "<Figure size 504x504 with 1 Axes>"
      ]
     },
     "metadata": {
      "needs_background": "light"
     },
     "output_type": "display_data"
    }
   ],
   "source": [
    "x=np.arange(eps1.min(), eps1.max(),.0012)\n",
    "#x2 = np.arange(BetaSK.min(), BetaSK.max(),0.0009)\n",
    "\n",
    "\n",
    "kde1 =GKDE(eps1)\n",
    "y1 = kde1(x)\n",
    "\n",
    "kde2=kde_updated_eps1\n",
    "#kde2 = GKDE(updated_eps)\n",
    "y2 = kde2(x)\n",
    "\n",
    "critB=np.percentile(eps1,5)   \n",
    "critupB=np.percentile(updated_eps1,5)\n",
    "\n",
    "plt.figure(figsize=[7,7])\n",
    "ax=plt.subplot()\n",
    "ax.plot(x,y1,color='b',label='Eps',alpha=0.5,linewidth=2)\n",
    "ax.plot(x,y2,color='r',label='Updated Eps',alpha=0.5,linewidth=2)\n",
    "_=[ax.axvline(critB,color='k',linestyle='dashed')]\n",
    "_=[ax.axvline(critupB,color='k',linestyle='dashed')]\n",
    "#_=[ax.text(critB,ax.get_ylim()[1],f\"{critB:.4f}\",ha='center',va='bottom')] \n",
    "#_=[ax.text(critupB,ax.get_ylim()[1],f\"{critupB:.4f}\",ha='center',va='bottom')]\n",
    "plt.fill_between(x, y1, 0, where = (x > x.min()) & (x <= critB), color = 'b',alpha=0.3)\n",
    "plt.fill_between(x, y2, 0, where = (x > x.min()) & (x <= critupB), color = 'r',alpha=0.3)\n",
    "ax.legend(fontsize=10)\n",
    "#ax.set(xlabel='x',ylabel='density')\n",
    "plt.title(\"SNP=1\")"
   ]
  },
  {
   "cell_type": "code",
   "execution_count": 97,
   "metadata": {},
   "outputs": [
    {
     "data": {
      "text/plain": [
       "Text(0.5, 1.0, 'SNP=2')"
      ]
     },
     "execution_count": 97,
     "metadata": {},
     "output_type": "execute_result"
    },
    {
     "data": {
      "image/png": "[encoded data removed]",
      "text/plain": [
       "<Figure size 504x504 with 1 Axes>"
      ]
     },
     "metadata": {
      "needs_background": "light"
     },
     "output_type": "display_data"
    }
   ],
   "source": [
    "x=np.arange(eps2.min()-1, eps2.max()+1,.0012)\n",
    "#x2 = np.arange(BetaSK.min(), BetaSK.max(),0.0009)\n",
    "\n",
    "\n",
    "kde1 =GKDE(eps2)\n",
    "y1 = kde1(x)\n",
    "\n",
    "kde2=kde_updated_eps2\n",
    "#kde2 = GKDE(updated_eps)\n",
    "y2 = kde2(x)\n",
    "\n",
    "critB=np.percentile(eps2,5)   \n",
    "critupB=np.percentile(updated_eps2,5)\n",
    "\n",
    "plt.figure(figsize=[7,7])\n",
    "ax=plt.subplot()\n",
    "ax.plot(x,y1,color='b',label='Eps',alpha=0.5,linewidth=2)\n",
    "ax.plot(x,y2,color='r',label='Updated Eps',alpha=0.5,linewidth=2)\n",
    "_=[ax.axvline(critB,color='k',linestyle='dashed')]\n",
    "_=[ax.axvline(critupB,color='k',linestyle='dashed')]\n",
    "#_=[ax.text(critB,ax.get_ylim()[1],f\"{critB:.4f}\",ha='center',va='bottom')] \n",
    "#_=[ax.text(critupB,ax.get_ylim()[1],f\"{critupB:.4f}\",ha='center',va='bottom')]\n",
    "plt.fill_between(x, y1, 0, where = (x > x.min()) & (x <= critB), color = 'b',alpha=0.3)\n",
    "plt.fill_between(x, y2, 0, where = (x > x.min()) & (x <= critupB), color = 'r',alpha=0.3)\n",
    "ax.legend(fontsize=10)\n",
    "#ax.set(xlabel='x',ylabel='density')\n",
    "plt.title(\"SNP=2\")"
   ]
  },
  {
   "cell_type": "code",
   "execution_count": null,
   "metadata": {},
   "outputs": [],
   "source": []
  },
  {
   "cell_type": "code",
   "execution_count": 111,
   "metadata": {},
   "outputs": [
    {
     "data": {
      "text/plain": [
       "(10000, 200)"
      ]
     },
     "execution_count": 111,
     "metadata": {},
     "output_type": "execute_result"
    }
   ],
   "source": [
    "nSamp = 10000\n",
    "nIter = 200\n",
    "seedinit1 = 1\n",
    "ac1=np.zeros((nSamp,nIter))\n",
    "ac2=np.zeros((nSamp,nIter))\n",
    "CV=np.zeros(nIter)\n",
    "for j in range(nIter):\n",
    "    seedinit1 = seedinit1 + j\n",
    "    np.random.seed(seedinit1)\n",
    "    CV[j]=np.random.uniform(0.15,0.5,1)\n",
    "    \n",
    "    unifc1=np.random.uniform(0,1,nSamp)\n",
    "    unifc2=np.random.uniform(0,1,nSamp)\n",
    "    \n",
    "    for i in range(nSamp):\n",
    "        if unifc1[i] <= CV[j]:\n",
    "            ac1[i,j]=1\n",
    "            \n",
    "    for k in range(nSamp):\n",
    "        if unifc2[k] <= CV[j]:\n",
    "            ac2[k,j]=1\n",
    "            \n",
    "Xs=ac1+ac2\n",
    "Xs.shape"
   ]
  },
  {
   "cell_type": "code",
   "execution_count": 33,
   "metadata": {},
   "outputs": [],
   "source": [
    "N=np.zeros((3,nIter))\n",
    "\n",
    "for j in range(nIter):\n",
    "    for i in range(nSamp):\n",
    "        if Xs[i,j]==0 :\n",
    "            N[0,j]+= 1\n",
    "        elif Xs[i,j]==1:\n",
    "            N[1,j] += 1\n",
    "        else:\n",
    "            N[2,j]+= 1"
   ]
  },
  {
   "cell_type": "code",
   "execution_count": 34,
   "metadata": {},
   "outputs": [],
   "source": [
    "Xs_bar = np.zeros(nIter)\n",
    "SEb = np.zeros(nIter)\n",
    "SEe=np.zeros(nIter)\n",
    "for j in range(nIter):\n",
    "    Xs_bar[j]=np.mean(Xs[:,j])\n",
    "    Sxx = np.sum(Xs[:,j]*Xs[:,j])-nSamp*Xs_bar[j]*Xs_bar[j]\n",
    "    sigma=.9\n",
    "    SEb[j]= np.sqrt(sigma/Sxx)\n",
    "    SEe[j]=.9-SEb[j]"
   ]
  },
  {
   "cell_type": "code",
   "execution_count": 35,
   "metadata": {},
   "outputs": [],
   "source": [
    "B = np.zeros((nSamp,nIter))\n",
    "e = np.zeros((nSamp,nIter))\n",
    "y_obs= np.zeros((nSamp,nIter))\n",
    "seedinit2 = seedinit1+1\n",
    "for j in range(nIter):    \n",
    "    seedinit2 = seedinit2+j\n",
    "    np.random.seed(seedinit2)\n",
    "\n",
    "    B[0:int(N[0,j]),j] = skewnorm.rvs(.7, loc=-.3976 , scale=.9, size=int(N[0,j]))\n",
    "    B[int(N[0,j]):int(N[0,j])+int(N[1,j]),j] = skewnorm.rvs(-1.5, loc=.8259, scale=1.1 , size=int(N[1,j]))\n",
    "    B[int(N[0,j])+int(N[1,j]):nSamp,j] = skewnorm.rvs(-2.5, loc=1.103 , scale=1.2 , size=int(N[2,j]))\n",
    "    \n",
    "    e[0:int(N[0,j]),j]=np.random.normal(0,SEb[j],size=int(N[0,j]))\n",
    "    e[int(N[0,j]):int(N[0,j])+int(N[1,j]),j]=np.random.normal(0,SEb[j] ,size=int(N[1,j]))\n",
    "    e[int(N[1,j])+int(N[0,j]):nSamp,j]=np.random.normal(0,SEb[j] ,size=int(N[2,j]))\n",
    "    \n",
    "y_obs=B+e"
   ]
  },
  {
   "cell_type": "code",
   "execution_count": 36,
   "metadata": {},
   "outputs": [],
   "source": [
    "y_obs_bar = np.zeros((3,nIter))\n",
    "SEy=np.zeros((3,nIter))\n",
    "Sy=np.zeros(3)\n",
    "for j in range(nIter):\n",
    "        y_obs_bar[0,j]=np.mean(y_obs[0:int(N[0,j]),j])\n",
    "        y_obs_bar[1,j]=np.mean(y_obs[int(N[0,j]):int(N[1,j])+int(N[0,j]),j])\n",
    "        y_obs_bar[2,j]=np.mean(y_obs[int(N[1,j])+int(N[0,j]):nSamp,j])\n",
    "        Sy[0]= np.sum(y_obs[0:int(N[0,j]),j]*y_obs[0:int(N[0,j]),j])-N[0,j]*y_obs_bar[0,j]*y_obs_bar[0,j]\n",
    "        Sy[1]= np.sum(y_obs[int(N[0,j]):int(N[0,j])+int(N[1,j]),j]*y_obs[int(N[0,j]):int(N[1,j])+int(N[0,j]),j])-N[1,j]*y_obs_bar[1,j]*y_obs_bar[1,j]\n",
    "        Sy[2]= np.sum(y_obs[int(N[1,j])+int(N[0,j]):nSamp,j]*y_obs[int(N[1,j])+int(N[0,j]):nSamp,j])-N[2,j]*y_obs_bar[2,j]*y_obs_bar[2,j]\n",
    "        SEy[0,j]= np.sqrt(Sy[0]/(int(N[0,j])-1))\n",
    "        SEy[1,j]= np.sqrt(Sy[1]/(int(N[1,j])-1))\n",
    "        SEy[2,j]= np.sqrt(Sy[2]/(int(N[2,j])-1))"
   ]
  },
  {
   "cell_type": "code",
   "execution_count": 37,
   "metadata": {},
   "outputs": [],
   "source": [
    "Beta = np.zeros((nSamp,nIter))\n",
    "eps = np.zeros((nSamp,nIter))\n",
    "y_initi= np.zeros((nSamp,nIter))\n",
    "seedinit3 = seedinit2+1\n",
    "for j in range(nIter):    \n",
    "    seedinit3 = seedinit3+j\n",
    "    np.random.seed(seedinit3)\n",
    "    Beta[0:int(N[0,j]),j] = norm.rvs(loc=y_obs_bar[0,j] , scale=SEy[0,j], size=int(N[0,j]))\n",
    "    Beta[int(N[0,j]):int(N[1,j])+int(N[0,j]),j] = norm.rvs(loc=y_obs_bar[1,j], scale=SEy[1,j], size=int(N[1,j]))\n",
    "    Beta[int(N[1,j])+int(N[0,j]):nSamp,j] = norm.rvs(loc=y_obs_bar[2,j] , scale=SEy[2,j], size=int(N[2,j]))\n",
    "    \n",
    "    eps[0:int(N[0,j]),j]=np.random.normal(0,.35,size=int(N[0,j]))\n",
    "    eps[int(N[0,j]):int(N[1,j])+int(N[0,j]),j]=np.random.normal(0,.35,size=int(N[1,j]))\n",
    "    eps[int(N[1,j])+int(N[0,j]):nSamp,j]=np.random.normal(0,.35,size=int(N[2,j]))\n",
    "    \n",
    "y_initi=Beta+eps"
   ]
  },
  {
   "cell_type": "code",
   "execution_count": 38,
   "metadata": {},
   "outputs": [],
   "source": [
    "r = np.zeros((nSamp,nIter))\n",
    "for j in range(nIter):\n",
    "            kde_y_obs0=GKDE(y_obs[0:int(N[0,j]),j])\n",
    "            kde_y_initi0=GKDE(y_initi[0:int(N[0,j]),j])\n",
    "            r[0:int(N[0,j]),j]=np.divide(kde_y_obs0(y_initi[0:int(N[0,j]),j]),kde_y_initi0(y_initi[0:int(N[0,j]),j]))\n",
    "            kde_y_obs1=GKDE(y_obs[int(N[0,j]):int(N[1,j])+int(N[0,j]),j])\n",
    "            kde_y_initi1=GKDE(y_initi[int(N[0,j]):int(N[1,j])+int(N[0,j]),j])\n",
    "            r[int(N[0,j]):int(N[1,j])+int(N[0,j]),j]=np.divide(kde_y_obs1(y_initi[int(N[0,j]):int(N[1,j])+int(N[0,j]),j]),kde_y_initi1(y_initi[int(N[0,j]):int(N[1,j])+int(N[0,j]),j]))\n",
    "            kde_y_obs2=GKDE(y_obs[int(N[1,j])+int(N[0,j]):nSamp,j])\n",
    "            kde_y_initi2=GKDE(y_initi[int(N[0,j])+int(N[1,j]):nSamp,j])\n",
    "            r[int(N[0,j])+int(N[1,j]):nSamp,j]=np.divide(kde_y_obs2(y_initi[int(N[0,j])+int(N[1,j]):nSamp,j]),kde_y_initi2(y_initi[int(N[0,j])+int(N[1,j]):nSamp,j]))\n",
    "            "
   ]
  },
  {
   "cell_type": "code",
   "execution_count": 39,
   "metadata": {},
   "outputs": [],
   "source": [
    "def rejection_sampling(r): # creating indexes for samples to keep from initial samples using rejection sampling \n",
    "    N = r.size \n",
    "    seedinit4 = seedinit3+1\n",
    "    np.random.seed(seedinit4)\n",
    "    reject_prob = np.random.uniform(low=0, high=1, size=N) \n",
    "    r = r/np.max(r)\n",
    "    idx = np.where(r >= reject_prob)[0]\n",
    "    return idx"
   ]
  },
  {
   "cell_type": "code",
   "execution_count": 40,
   "metadata": {},
   "outputs": [],
   "source": [
    "samples_to_keepSize=np.zeros((3,nIter))\n",
    "accept_rate=np.zeros((3,nIter))\n",
    "for j in range(nIter):\n",
    "    samples_to_keepSize[0,j] = rejection_sampling(r[0:int(N[0,j]),j]).size\n",
    "    samples_to_keepSize[1,j]=rejection_sampling(r[int(N[0,j]):int(N[1,j])+int(N[0,j]),j]).size\n",
    "    samples_to_keepSize[2,j] = rejection_sampling(r[int(N[1,j])+int(N[0,j]):nSamp,j]).size\n",
    "\n",
    "\n",
    "    accept_rate[0,j] = samples_to_keepSize[0,j]/N[0,j]\n",
    "    accept_rate[1,j] = samples_to_keepSize[1,j]/N[1,j]\n",
    "    accept_rate[2,j] = samples_to_keepSize[2,j]/N[2,j]"
   ]
  },
  {
   "cell_type": "code",
   "execution_count": 41,
   "metadata": {},
   "outputs": [],
   "source": [
    "samples_to_keep=np.zeros((nSamp,nIter))\n",
    "\n",
    "for j in range(nIter):\n",
    "    samples_to_keep[0:int(samples_to_keepSize[0,j]),j]= rejection_sampling(r[0:int(N[0,j]),j])\n",
    "    samples_to_keep[int(samples_to_keepSize[0,j]):int(samples_to_keepSize[0,j])+int(samples_to_keepSize[1,j]),j]= rejection_sampling(r[int(N[0,j]):int(N[0,j])+int(N[1,j]),j])+int(N[0,j])\n",
    "    samples_to_keep[int(samples_to_keepSize[0,j])+int(samples_to_keepSize[1,j]):int(samples_to_keepSize[0,j])+int(samples_to_keepSize[1,j])+int(samples_to_keepSize[2,j]),j]= rejection_sampling(r[int(N[0,j])+int(N[1,j]):nSamp,j])+int(N[0,j])+int(N[1,j])\n",
    "    \n",
    "    "
   ]
  },
  {
   "cell_type": "code",
   "execution_count": 42,
   "metadata": {},
   "outputs": [],
   "source": [
    "updated_Beta=np.zeros((nSamp,nIter))\n",
    "updated_y=np.zeros((nSamp,nIter))\n",
    "updated_eps=np.zeros((nSamp,nIter))\n",
    "for j in range(nIter):\n",
    "    updated_Beta[0:int(samples_to_keepSize[0,j]),j] =Beta[samples_to_keep[0:int(samples_to_keepSize[0,j]),j].astype(int),j]\n",
    "    updated_Beta[int(samples_to_keepSize[0,j]):int(samples_to_keepSize[0,j])+int(samples_to_keepSize[1,j]),j] =Beta[samples_to_keep[int(samples_to_keepSize[0,j]):int(samples_to_keepSize[0,j])+int(samples_to_keepSize[1,j]),j].astype(int),j]\n",
    "    updated_Beta[int(samples_to_keepSize[0,j])+int(samples_to_keepSize[1,j]):int(samples_to_keepSize[0,j])+int(samples_to_keepSize[1,j])+int(samples_to_keepSize[2,j]),j] =Beta[samples_to_keep[int(samples_to_keepSize[0,j])+int(samples_to_keepSize[1,j]):int(samples_to_keepSize[0,j])+int(samples_to_keepSize[1,j])+int(samples_to_keepSize[2,j]),j].astype(int),j]\n",
    "    \n",
    "    updated_y[0:int(samples_to_keepSize[0,j]),j] =y_initi[samples_to_keep[0:int(samples_to_keepSize[0,j]),j].astype(int),j]\n",
    "    updated_y[int(samples_to_keepSize[0,j]):int(samples_to_keepSize[0,j])+int(samples_to_keepSize[1,j]),j] =y_initi[samples_to_keep[int(samples_to_keepSize[0,j]):int(samples_to_keepSize[0,j])+int(samples_to_keepSize[1,j]),j].astype(int),j]\n",
    "    updated_y[int(samples_to_keepSize[0,j])+int(samples_to_keepSize[1,j]):int(samples_to_keepSize[0,j])+int(samples_to_keepSize[1,j])+int(samples_to_keepSize[2,j]),j] =y_initi[samples_to_keep[int(samples_to_keepSize[0,j])+int(samples_to_keepSize[1,j]):int(samples_to_keepSize[0,j])+int(samples_to_keepSize[1,j])+int(samples_to_keepSize[2,j]),j].astype(int),j]\n",
    "    \n",
    "    updated_eps[0:int(samples_to_keepSize[0,j]),j] =eps[samples_to_keep[0:int(samples_to_keepSize[0,j]),j].astype(int),j]\n",
    "    updated_eps[int(samples_to_keepSize[0,j]):int(samples_to_keepSize[0,j])+int(samples_to_keepSize[1,j]),j] =eps[samples_to_keep[int(samples_to_keepSize[0,j]):int(samples_to_keepSize[0,j])+int(samples_to_keepSize[1,j]),j].astype(int),j]\n",
    "    updated_eps[int(samples_to_keepSize[0,j])+int(samples_to_keepSize[1,j]):int(samples_to_keepSize[0,j])+int(samples_to_keepSize[1,j])+int(samples_to_keepSize[2,j]),j] =eps[samples_to_keep[int(samples_to_keepSize[0,j])+int(samples_to_keepSize[1,j]):int(samples_to_keepSize[0,j])+int(samples_to_keepSize[1,j])+int(samples_to_keepSize[2,j]),j].astype(int),j]\n",
    "    \n",
    "    "
   ]
  },
  {
   "cell_type": "code",
   "execution_count": 43,
   "metadata": {},
   "outputs": [],
   "source": [
    "KruskalStat=np.zeros(nIter)\n",
    "KruskalPvalue=np.zeros(nIter)\n",
    "for j in range(nIter):\n",
    "    KruskalStat[j]=stats.kruskal(updated_Beta[0:int(samples_to_keepSize[0,j]),j], updated_Beta[int(samples_to_keepSize[0,j]):int(samples_to_keepSize[0,j])+int(samples_to_keepSize[1,j]),j],updated_Beta[int(samples_to_keepSize[0,j])+int(samples_to_keepSize[1,j]):int(samples_to_keepSize[0,j])+int(samples_to_keepSize[1,j])+int(samples_to_keepSize[2,j]),j])[0]\n",
    "    KruskalPvalue[j]=stats.kruskal(updated_Beta[0:int(samples_to_keepSize[0,j]),j], updated_Beta[int(samples_to_keepSize[0,j]):int(samples_to_keepSize[0,j])+int(samples_to_keepSize[1,j]),j],updated_Beta[int(samples_to_keepSize[0,j])+int(samples_to_keepSize[1,j]):int(samples_to_keepSize[0,j])+int(samples_to_keepSize[1,j])+int(samples_to_keepSize[2,j]),j])[1]\n",
    "    "
   ]
  },
  {
   "cell_type": "code",
   "execution_count": 44,
   "metadata": {},
   "outputs": [
    {
     "data": {
      "text/plain": [
       "0.0031883364659293727"
      ]
     },
     "execution_count": 44,
     "metadata": {},
     "output_type": "execute_result"
    }
   ],
   "source": [
    "KruskalPvalue.max()"
   ]
  },
  {
   "cell_type": "code",
   "execution_count": 45,
   "metadata": {},
   "outputs": [
    {
     "data": {
      "text/plain": [
       "15"
      ]
     },
     "execution_count": 45,
     "metadata": {},
     "output_type": "execute_result"
    }
   ],
   "source": [
    "(KruskalPvalue >.00000005).sum()"
   ]
  },
  {
   "cell_type": "code",
   "execution_count": 46,
   "metadata": {},
   "outputs": [
    {
     "data": {
      "text/plain": [
       "6.218552275218991e-42"
      ]
     },
     "execution_count": 46,
     "metadata": {},
     "output_type": "execute_result"
    }
   ],
   "source": [
    "KruskalPvalue.min()"
   ]
  },
  {
   "cell_type": "code",
   "execution_count": 57,
   "metadata": {},
   "outputs": [
    {
     "data": {
      "text/plain": [
       "0.925"
      ]
     },
     "execution_count": 57,
     "metadata": {},
     "output_type": "execute_result"
    }
   ],
   "source": [
    "(200-15)/200"
   ]
  },
  {
   "cell_type": "code",
   "execution_count": 48,
   "metadata": {},
   "outputs": [],
   "source": [
    "for j in range(nIter):\n",
    "    index0=np.where(Xs[:,j] == 0)\n",
    "    index1=np.where(Xs[:,j] == 1)\n",
    "    index2=np.where(Xs[:,j] == 2)\n",
    "    Xs0=Xs[:,j][index0]\n",
    "    Xs1=Xs[:,j][index1]\n",
    "    Xs2=Xs[:,j][index2]\n",
    "    Xs[:,j]=np.concatenate((Xs0,Xs1,Xs2), axis=None) "
   ]
  },
  {
   "cell_type": "code",
   "execution_count": 49,
   "metadata": {},
   "outputs": [],
   "source": [
    "#X=np.zeros((nSamp,2))\n",
    "OLS_Pvalues=np.zeros(nIter)\n",
    "for j in range(nIter):\n",
    "    X=sm.add_constant(Xs[:,j])\n",
    "    est=sm.OLS(y_obs[:,j],X).fit()\n",
    "    OLS_Pvalues[j]=est.pvalues[1]\n",
    "\n"
   ]
  },
  {
   "cell_type": "code",
   "execution_count": 50,
   "metadata": {},
   "outputs": [
    {
     "data": {
      "text/plain": [
       "5.327204733146198e-05"
      ]
     },
     "execution_count": 50,
     "metadata": {},
     "output_type": "execute_result"
    }
   ],
   "source": [
    "OLS_Pvalues.max()"
   ]
  },
  {
   "cell_type": "code",
   "execution_count": 51,
   "metadata": {},
   "outputs": [
    {
     "data": {
      "text/plain": [
       "2.2793873020541143e-36"
      ]
     },
     "execution_count": 51,
     "metadata": {},
     "output_type": "execute_result"
    }
   ],
   "source": [
    "OLS_Pvalues.min()"
   ]
  },
  {
   "cell_type": "code",
   "execution_count": 52,
   "metadata": {},
   "outputs": [
    {
     "data": {
      "text/plain": [
       "17"
      ]
     },
     "execution_count": 52,
     "metadata": {},
     "output_type": "execute_result"
    }
   ],
   "source": [
    "(OLS_Pvalues >.00000005).sum()"
   ]
  },
  {
   "cell_type": "code",
   "execution_count": 56,
   "metadata": {},
   "outputs": [
    {
     "data": {
      "text/plain": [
       "0.915"
      ]
     },
     "execution_count": 56,
     "metadata": {},
     "output_type": "execute_result"
    }
   ],
   "source": [
    "(200-17)/200\n"
   ]
  },
  {
   "cell_type": "code",
   "execution_count": 531,
   "metadata": {},
   "outputs": [],
   "source": [
    "DunnPvalueUpB0_B1=np.zeros(nIter)\n",
    "DunnPvalueUpB1_B2=np.zeros(nIter)\n",
    "DunnPvalueUpB0_B2=np.zeros(nIter)\n",
    "\n",
    "for j in range(nIter):\n",
    "\n",
    "        DunnPvalueUpB0_B1[j]=sp.posthoc_dunn([updated_Beta[0:int(samples_to_keepSize[0,j]),j], updated_Beta[int(samples_to_keepSize[0,j]):int(samples_to_keepSize[0,j])+int(samples_to_keepSize[1,j]),j],updated_Beta[int(samples_to_keepSize[0,j])+int(samples_to_keepSize[1,j]):int(samples_to_keepSize[0,j])+int(samples_to_keepSize[1,j])+int(samples_to_keepSize[2,j]),j]], p_adjust = 'bonferroni').loc[1,2]\n",
    "        DunnPvalueUpB1_B2[j]=sp.posthoc_dunn([updated_Beta[0:int(samples_to_keepSize[0,j]),j], updated_Beta[int(samples_to_keepSize[0,j]):int(samples_to_keepSize[0,j])+int(samples_to_keepSize[1,j]),j],updated_Beta[int(samples_to_keepSize[0,j])+int(samples_to_keepSize[1,j]):int(samples_to_keepSize[0,j])+int(samples_to_keepSize[1,j])+int(samples_to_keepSize[2,j]),j]], p_adjust = 'bonferroni').loc[2,3]\n",
    "        DunnPvalueUpB0_B2[j]=sp.posthoc_dunn([updated_Beta[0:int(samples_to_keepSize[0,j]),j], updated_Beta[int(samples_to_keepSize[0,j]):int(samples_to_keepSize[0,j])+int(samples_to_keepSize[1,j]),j],updated_Beta[int(samples_to_keepSize[0,j])+int(samples_to_keepSize[1,j]):int(samples_to_keepSize[0,j])+int(samples_to_keepSize[1,j])+int(samples_to_keepSize[2,j]),j]], p_adjust = 'bonferroni').loc[1,3]\n",
    "        \n",
    "        "
   ]
  },
  {
   "cell_type": "code",
   "execution_count": null,
   "metadata": {},
   "outputs": [],
   "source": [
    "DunnPvalueUpB0_B1.max()"
   ]
  },
  {
   "cell_type": "code",
   "execution_count": null,
   "metadata": {},
   "outputs": [],
   "source": [
    "DunnPvalueUpB0_B2.max()"
   ]
  },
  {
   "cell_type": "code",
   "execution_count": null,
   "metadata": {},
   "outputs": [],
   "source": [
    "DunnPvalueUpB1_B2.max()"
   ]
  },
  {
   "cell_type": "code",
   "execution_count": null,
   "metadata": {},
   "outputs": [],
   "source": [
    "(DunnPvalueUpB1_B2 ==1).sum()"
   ]
  },
  {
   "cell_type": "code",
   "execution_count": null,
   "metadata": {},
   "outputs": [],
   "source": [
    "(DunnPvalueUpB0_B1 >.00000005).sum()"
   ]
  },
  {
   "cell_type": "code",
   "execution_count": null,
   "metadata": {},
   "outputs": [],
   "source": [
    "(DunnPvalueUpB1_B2 >.00000005).sum()"
   ]
  },
  {
   "cell_type": "code",
   "execution_count": null,
   "metadata": {},
   "outputs": [],
   "source": [
    "(DunnPvalueUpB0_B2 >.00000005).sum()"
   ]
  },
  {
   "cell_type": "code",
   "execution_count": null,
   "metadata": {},
   "outputs": [],
   "source": [
    "mannwhitneyPvalueUpB0_B1=np.zeros(nIter)\n",
    "mannwhitneyPvalueUpB1_B2=np.zeros(nIter)\n",
    "mannwhitneyPvalueUpB0_B2=np.zeros(nIter)\n",
    "\n",
    "for j in range(nIter):\n",
    "\n",
    "        mannwhitneyPvalueUpB0_B1[j]=sp.posthoc_mannwhitney([updated_Beta[0:int(samples_to_keepSize[0,j]),j], updated_Beta[int(samples_to_keepSize[0,j]):int(samples_to_keepSize[0,j])+int(samples_to_keepSize[1,j]),j],updated_Beta[int(samples_to_keepSize[0,j])+int(samples_to_keepSize[1,j]):int(samples_to_keepSize[0,j])+int(samples_to_keepSize[1,j])+int(samples_to_keepSize[2,j]),j]], p_adjust = 'bonferroni').loc[1,2]\n",
    "        mannwhitneyPvalueUpB1_B2[j]=sp.posthoc_mannwhitney([updated_Beta[0:int(samples_to_keepSize[0,j]),j], updated_Beta[int(samples_to_keepSize[0,j]):int(samples_to_keepSize[0,j])+int(samples_to_keepSize[1,j]),j],updated_Beta[int(samples_to_keepSize[0,j])+int(samples_to_keepSize[1,j]):int(samples_to_keepSize[0,j])+int(samples_to_keepSize[1,j])+int(samples_to_keepSize[2,j]),j]], p_adjust = 'bonferroni').loc[2,3]\n",
    "        mannwhitneyPvalueUpB0_B2[j]=sp.posthoc_mannwhitney([updated_Beta[0:int(samples_to_keepSize[0,j]),j], updated_Beta[int(samples_to_keepSize[0,j]):int(samples_to_keepSize[0,j])+int(samples_to_keepSize[1,j]),j],updated_Beta[int(samples_to_keepSize[0,j])+int(samples_to_keepSize[1,j]):int(samples_to_keepSize[0,j])+int(samples_to_keepSize[1,j])+int(samples_to_keepSize[2,j]),j]], p_adjust = 'bonferroni').loc[1,3]\n",
    "        "
   ]
  },
  {
   "cell_type": "code",
   "execution_count": null,
   "metadata": {},
   "outputs": [],
   "source": [
    "mannwhitneyPvalueUpB0_B1.max()"
   ]
  },
  {
   "cell_type": "code",
   "execution_count": null,
   "metadata": {},
   "outputs": [],
   "source": [
    "mannwhitneyPvalueUpB1_B2.max()"
   ]
  },
  {
   "cell_type": "code",
   "execution_count": null,
   "metadata": {},
   "outputs": [],
   "source": [
    "(mannwhitneyPvalueUpB1_B2 >.00000005).sum()"
   ]
  },
  {
   "cell_type": "code",
   "execution_count": null,
   "metadata": {},
   "outputs": [],
   "source": [
    "(mannwhitneyPvalueUpB0_B1 >.00000005).sum()"
   ]
  },
  {
   "cell_type": "code",
   "execution_count": null,
   "metadata": {},
   "outputs": [],
   "source": [
    "(mannwhitneyPvalueUpB0_B2 ==1).sum()"
   ]
  },
  {
   "cell_type": "code",
   "execution_count": null,
   "metadata": {},
   "outputs": [],
   "source": [
    "mannwhitneyPvalueUpB0_B2.max()"
   ]
  },
  {
   "cell_type": "code",
   "execution_count": null,
   "metadata": {},
   "outputs": [],
   "source": [
    "(mannwhitneyPvalueUpB0_B2 >.00000005).sum()"
   ]
  },
  {
   "cell_type": "code",
   "execution_count": 993,
   "metadata": {},
   "outputs": [],
   "source": [
    "np.savetxt('Xs.txt',Xs)"
   ]
  },
  {
   "cell_type": "code",
   "execution_count": 994,
   "metadata": {},
   "outputs": [
    {
     "ename": "NameError",
     "evalue": "name 'kde_updated_Beta' is not defined",
     "output_type": "error",
     "traceback": [
      "\u001b[0;31m---------------------------------------------------------------------------\u001b[0m",
      "\u001b[0;31mNameError\u001b[0m                                 Traceback (most recent call last)",
      "\u001b[0;32m<ipython-input-994-ebb2be96c7ef>\u001b[0m in \u001b[0;36m<module>\u001b[0;34m\u001b[0m\n\u001b[0;32m----> 1\u001b[0;31m \u001b[0mdump\u001b[0m\u001b[0;34m(\u001b[0m\u001b[0mkde_updated_Beta\u001b[0m \u001b[0;34m,\u001b[0m \u001b[0;34m'kde_updated_Beta.joblib'\u001b[0m\u001b[0;34m)\u001b[0m\u001b[0;34m\u001b[0m\u001b[0;34m\u001b[0m\u001b[0m\n\u001b[0m",
      "\u001b[0;31mNameError\u001b[0m: name 'kde_updated_Beta' is not defined"
     ]
    }
   ],
   "source": [
    "dump(kde_updated_Beta , 'kde_updated_Beta.joblib')"
   ]
  },
  {
   "cell_type": "code",
   "execution_count": null,
   "metadata": {},
   "outputs": [],
   "source": [
    "y_obs_bar"
   ]
  },
  {
   "cell_type": "code",
   "execution_count": null,
   "metadata": {},
   "outputs": [],
   "source": []
  },
  {
   "cell_type": "code",
   "execution_count": null,
   "metadata": {},
   "outputs": [],
   "source": []
  },
  {
   "cell_type": "code",
   "execution_count": null,
   "metadata": {},
   "outputs": [],
   "source": []
  },
  {
   "cell_type": "code",
   "execution_count": null,
   "metadata": {},
   "outputs": [],
   "source": []
  },
  {
   "cell_type": "code",
   "execution_count": null,
   "metadata": {},
   "outputs": [],
   "source": []
  }
 ],
 "metadata": {
  "kernelspec": {
   "display_name": "Python 3",
   "language": "python",
   "name": "python3"
  },
  "language_info": {
   "codemirror_mode": {
    "name": "ipython",
    "version": 3
   },
   "file_extension": ".py",
   "mimetype": "text/x-python",
   "name": "python",
   "nbconvert_exporter": "python",
   "pygments_lexer": "ipython3",
   "version": "3.8.5"
  }
 },
 "nbformat": 4,
 "nbformat_minor": 4
}
